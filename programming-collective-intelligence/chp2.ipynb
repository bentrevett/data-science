{
 "cells": [
  {
   "cell_type": "markdown",
   "metadata": {},
   "source": [
    "Collaborative filtering starts with a large group of people and finds a smaller set with tastes similar to yours."
   ]
  },
  {
   "cell_type": "code",
   "execution_count": 6,
   "metadata": {
    "collapsed": true
   },
   "outputs": [],
   "source": [
    "# A dictionary of movie critics and their ratings of a small\n",
    "# set of movies\n",
    "critics={'Lisa Rose': {'Lady in the Water': 2.5, 'Snakes on a Plane': 3.5,\n",
    "'Just My Luck': 3.0, 'Superman Returns': 3.5, 'You, Me and Dupree': 2.5,\n",
    "'The Night Listener': 3.0},\n",
    "'Gene Seymour': {'Lady in the Water': 3.0, 'Snakes on a Plane': 3.5,\n",
    "'Just My Luck': 1.5, 'Superman Returns': 5.0, 'The Night Listener': 3.0,\n",
    "'You, Me and Dupree': 3.5},\n",
    "'Michael Phillips': {'Lady in the Water': 2.5, 'Snakes on a Plane': 3.0,\n",
    "'Superman Returns': 3.5, 'The Night Listener': 4.0},\n",
    "'Claudia Puig': {'Snakes on a Plane': 3.5, 'Just My Luck': 3.0,\n",
    "'The Night Listener': 4.5, 'Superman Returns': 4.0,\n",
    "'You, Me and Dupree': 2.5},\n",
    "'Mick LaSalle': {'Lady in the Water': 3.0, 'Snakes on a Plane': 4.0,\n",
    "'Just My Luck': 2.0, 'Superman Returns': 3.0, 'The Night Listener': 3.0,\n",
    "'You, Me and Dupree': 2.0},\n",
    "'Jack Matthews': {'Lady in the Water': 3.0, 'Snakes on a Plane': 4.0,\n",
    "'The Night Listener': 3.0, 'Superman Returns': 5.0, 'You, Me and Dupree': 3.5},\n",
    "'Toby': {'Snakes on a Plane':4.5,'You, Me and Dupree':1.0,'Superman Returns':4.0}}"
   ]
  },
  {
   "cell_type": "code",
   "execution_count": 7,
   "metadata": {},
   "outputs": [
    {
     "name": "stdout",
     "output_type": "stream",
     "text": [
      "Lisa Rose\n",
      "Gene Seymour\n",
      "Michael Phillips\n",
      "Claudia Puig\n",
      "Mick LaSalle\n",
      "Jack Matthews\n",
      "Toby\n"
     ]
    }
   ],
   "source": [
    "for critic in critics:\n",
    "    print(critic)"
   ]
  },
  {
   "cell_type": "markdown",
   "metadata": {},
   "source": [
    "Simplest way to calculate similarity of critics is Euclidean distance.\n",
    "\n",
    "Takes items that people have ranked in common and \"uses them as axis for a chart\".\n",
    "\n",
    "Can then plot critics on the chart and see how close they are to each other."
   ]
  },
  {
   "cell_type": "code",
   "execution_count": 8,
   "metadata": {},
   "outputs": [
    {
     "name": "stdout",
     "output_type": "stream",
     "text": [
      "3.1622776601683795\n"
     ]
    }
   ],
   "source": [
    "import math\n",
    "\n",
    "#euclidean distance is square root of the sum of squared differences\n",
    "score = math.sqrt(pow(5-4,2)+pow(4-1,2))\n",
    "\n",
    "print(score)"
   ]
  },
  {
   "cell_type": "code",
   "execution_count": 9,
   "metadata": {},
   "outputs": [
    {
     "name": "stdout",
     "output_type": "stream",
     "text": [
      "0.2402530733520421\n"
     ]
    }
   ],
   "source": [
    "#this gives lower values for people who are more similar\n",
    "#we want higher values for similar people\n",
    "#done by adding 1 (so we don't get division by 0) and inverting it\n",
    "\n",
    "score = 1/(1+math.sqrt(pow(5-4,2)+pow(4-1,2)))\n",
    "\n",
    "print(score)\n",
    "\n",
    "#value should be between 0 and 1, where 1 means identical preferences"
   ]
  },
  {
   "cell_type": "code",
   "execution_count": 34,
   "metadata": {
    "collapsed": true
   },
   "outputs": [],
   "source": [
    "import math\n",
    "\n",
    "#returns distance similarity score for person 1 and person 2\n",
    "def sim_distance(prefs, person1, person2):\n",
    "    #get list of shared_items (si)\n",
    "    si = {}\n",
    "    for item in prefs[person1]:\n",
    "        if item in prefs[person2]:\n",
    "            si[item]=1\n",
    "            \n",
    "    #if they have no rating in common, return 0\n",
    "    if len(si)==0:\n",
    "        return 0\n",
    "    \n",
    "    #add up the squares of all the differences\n",
    "    \n",
    "    sum_of_squares = sum([pow(prefs[person1][item]-prefs[person2][item],2) for item in prefs[person1] if item in prefs[person2]])\n",
    "    \n",
    "    return 1/(1+math.sqrt(sum_of_squares))"
   ]
  },
  {
   "cell_type": "code",
   "execution_count": 35,
   "metadata": {},
   "outputs": [
    {
     "data": {
      "text/plain": [
       "0.29429805508554946"
      ]
     },
     "execution_count": 35,
     "metadata": {},
     "output_type": "execute_result"
    }
   ],
   "source": [
    "sim_distance(critics, 'Lisa Rose', 'Gene Seymour')"
   ]
  },
  {
   "cell_type": "code",
   "execution_count": 36,
   "metadata": {
    "collapsed": true
   },
   "outputs": [],
   "source": [
    "#another similarity metric is the Pearson correlation coefficient\n",
    "#it is a measure of how well two sets of data fit on a straight line\n",
    "#works better when data is un-normalised\n",
    "#i.e. some critics routinely rank harsher on average\n",
    "\n",
    "#you now have a critic on the x and one on the y axis\n",
    "#plot the films, if perfect match there should be a straight line\n",
    "#between all the films\n",
    "\n",
    "#finds the items rated by both critics\n",
    "#calculates sum and sum of squares for the two critics\n",
    "#then calculates sum of products of their rating\n",
    "#uses this to calc. the Pearson correlation coefficient\n",
    "\n",
    "def sim_pearson(prefs, p1, p2):\n",
    "    #get list of mutually rated items\n",
    "    si = {}\n",
    "    for item in prefs[p1]:\n",
    "        if item in prefs[p2]:\n",
    "            si[item] = 1\n",
    "            \n",
    "    #find the number of elements\n",
    "    n = len(si)\n",
    "    \n",
    "    #if no ratings in common, return 0\n",
    "    if n == 0:\n",
    "        return 0\n",
    "    \n",
    "    #add up all preferences\n",
    "    sum1 = sum([prefs[p1][it] for it in si])\n",
    "    sum2 = sum([prefs[p2][it] for it in si])\n",
    "    \n",
    "    #sum up the squares\n",
    "    sos1 = sum([pow(prefs[p1][it],2) for it in si])\n",
    "    sos2 = sum([pow(prefs[p2][it],2) for it in si])\n",
    "    \n",
    "    #sum the producs\n",
    "    sop = sum([prefs[p1][it]*prefs[p2][it] for it in si])\n",
    "    \n",
    "    #calculate Pearson score\n",
    "    num = sop-(sum1*sum2/n)\n",
    "    den = math.sqrt((sos1-pow(sum1,2)/n)*(sos2-pow(sum2,2)/n))\n",
    "    if den == 0:\n",
    "        return 0\n",
    "    else:\n",
    "        return num/den"
   ]
  },
  {
   "cell_type": "code",
   "execution_count": 37,
   "metadata": {},
   "outputs": [
    {
     "data": {
      "text/plain": [
       "0.39605901719066977"
      ]
     },
     "execution_count": 37,
     "metadata": {},
     "output_type": "execute_result"
    }
   ],
   "source": [
    "sim_pearson(critics, 'Lisa Rose', 'Gene Seymour')"
   ]
  },
  {
   "cell_type": "code",
   "execution_count": 38,
   "metadata": {
    "collapsed": true
   },
   "outputs": [],
   "source": [
    "#can now write a function that scores everyone against a given person\n",
    "#and finds their closest matches\n",
    "\n",
    "#returns the best matches for person from the prefs dict\n",
    "#number of results anf similarity function are optional params\n",
    "def top_matches(prefs, person, n=5, similarity=sim_pearson):\n",
    "    scores = [(similarity(prefs,person,other), other) for other in prefs if other!= person]\n",
    "    \n",
    "    #sort list so highest scores appear at top\n",
    "    scores.sort()\n",
    "    scores.reverse()\n",
    "    return scores[0:n]"
   ]
  },
  {
   "cell_type": "code",
   "execution_count": 39,
   "metadata": {},
   "outputs": [
    {
     "data": {
      "text/plain": [
       "[(0.9912407071619299, 'Lisa Rose'),\n",
       " (0.9244734516419049, 'Mick LaSalle'),\n",
       " (0.8934051474415647, 'Claudia Puig')]"
      ]
     },
     "execution_count": 39,
     "metadata": {},
     "output_type": "execute_result"
    }
   ],
   "source": [
    "top_matches(critics, 'Toby', n=3)"
   ]
  },
  {
   "cell_type": "code",
   "execution_count": 40,
   "metadata": {
    "collapsed": true
   },
   "outputs": [],
   "source": [
    "#finding similar critics is cool, but we want actual \n",
    "#movie recommendations\n",
    "#could look for similar critics and find movie they like i haven't seen\n",
    "#but:\n",
    "#invasive???\n",
    "#could turn up reviewers who haven't seen some movies i like\n",
    "#could turn up receiver who liked a movie that got bad reviews from\n",
    "#  all the other critics returned by top_matches\n",
    "\n",
    "#need to score the items by producing a weighted score that ranks\n",
    "#the critics\n",
    "#take the votes of all the other critics and multiply by how similar\n",
    "#they are to me by the score they gave each movie"
   ]
  },
  {
   "cell_type": "code",
   "execution_count": 41,
   "metadata": {
    "collapsed": true
   },
   "outputs": [],
   "source": [
    "#for each critic, get similarity score\n",
    "#for each movie, multiply similarity score by the score they gave it\n",
    "#sum the total of the similarity*score\n",
    "#divide that by the sum of the similarities of all critics\n",
    "#this is your weighted score\n",
    "\n",
    "#people similar to you give more weight to the overall score\n",
    "#need to divide as don't want popularity/number of reviews to matter"
   ]
  },
  {
   "cell_type": "code",
   "execution_count": 86,
   "metadata": {
    "collapsed": true
   },
   "outputs": [],
   "source": [
    "#get recommendations for a person using weighted average\n",
    "#of every other user's rankings\n",
    "def get_recommendations(prefs, person, similarity=sim_pearson):\n",
    "    totals = {}\n",
    "    sim_sums = {}\n",
    "    for other in prefs:\n",
    "        #don't compare me to myself\n",
    "        if other == person:\n",
    "            continue\n",
    "        sim = similarity(prefs, person, other) #similarity of critic\n",
    "        \n",
    "        #ignore scores of zero or lower\n",
    "        \n",
    "        if sim < 0: #don't care about 0 similarity\n",
    "            continue\n",
    "        \n",
    "        for item in prefs[other]:\n",
    "            \n",
    "            #only score movies I haven't seen yet\n",
    "            #a score of 0 means i haven't seen it, apparently\n",
    "            if item not in prefs[person] or prefs[person][item]==0:\n",
    "                #similarity * score\n",
    "                totals.setdefault(item,0)\n",
    "                totals[item]+=prefs[other][item]*sim\n",
    "                #sum of similarities\n",
    "                sim_sums.setdefault(item,0)\n",
    "                sim_sums[item]+=sim\n",
    "                \n",
    "    #create normalised list\n",
    "    rankings = [(total/sim_sums[item],item) for item,total in totals.items() if sim_sums[item]!=0]\n",
    "    \n",
    "    #return the sorted liat\n",
    "    rankings.sort()\n",
    "    rankings.reverse()\n",
    "    return rankings"
   ]
  },
  {
   "cell_type": "code",
   "execution_count": 87,
   "metadata": {},
   "outputs": [
    {
     "data": {
      "text/plain": [
       "[(3.3477895267131017, 'The Night Listener'),\n",
       " (2.8325499182641614, 'Lady in the Water'),\n",
       " (2.530980703765565, 'Just My Luck')]"
      ]
     },
     "execution_count": 87,
     "metadata": {},
     "output_type": "execute_result"
    }
   ],
   "source": [
    "get_recommendations(critics, 'Toby')\n",
    "\n",
    "#you get a ranked list of movies but also a guess of what the rating\n",
    "#will be for each film"
   ]
  },
  {
   "cell_type": "code",
   "execution_count": 88,
   "metadata": {
    "collapsed": true
   },
   "outputs": [],
   "source": [
    "#now we know how to find similar people and recommend products\n",
    "#but what if you want to see which products are similar\n",
    "#good for when site hasn't got a lot of data on you\n",
    "#think about product suggestions on Amazon\n",
    "\n",
    "#can determine similarity by lookng at who liked an item and \n",
    "#seeing other things they liked\n",
    "#this is the same method as finding similar people\n",
    "#just need to swap people and items\n",
    "\n",
    "#just need to swap dictionary from:\n",
    "# {CRITIC: {FILM: SCORE, FILM: SCORE}}\n",
    "#to\n",
    "# {FILM: {CRITIC: SCORE, CRITIC: SCORE}}\n",
    "\n",
    "def transform_prefs(prefs):\n",
    "    result = {}\n",
    "    for person in prefs:\n",
    "        for item in prefs[person]:\n",
    "            result.setdefault(item,{})\n",
    "            \n",
    "            #flip item and person\n",
    "            result[item][person]=prefs[person][item]\n",
    "    return result"
   ]
  },
  {
   "cell_type": "code",
   "execution_count": 89,
   "metadata": {},
   "outputs": [],
   "source": [
    "movies = transform_prefs(critics)"
   ]
  },
  {
   "cell_type": "code",
   "execution_count": 90,
   "metadata": {},
   "outputs": [
    {
     "data": {
      "text/plain": [
       "[(0.6579516949597695, 'You, Me and Dupree'),\n",
       " (0.4879500364742689, 'Lady in the Water'),\n",
       " (0.11180339887498941, 'Snakes on a Plane'),\n",
       " (-0.1798471947990544, 'The Night Listener'),\n",
       " (-0.42289003161103106, 'Just My Luck')]"
      ]
     },
     "execution_count": 90,
     "metadata": {},
     "output_type": "execute_result"
    }
   ],
   "source": [
    "top_matches(movies, 'Superman Returns')\n",
    "\n",
    "#note: negative correlation means people who LIKE superman returns\n",
    "#tend to DISLIKE the night listener and just my luck"
   ]
  },
  {
   "cell_type": "code",
   "execution_count": 91,
   "metadata": {},
   "outputs": [
    {
     "data": {
      "text/plain": [
       "[(4.0, 'Michael Phillips'), (3.0, 'Jack Matthews')]"
      ]
     },
     "execution_count": 91,
     "metadata": {},
     "output_type": "execute_result"
    }
   ],
   "source": [
    "#you can also recommend critics for a movie, \n",
    "#see who you'll invite to a premier\n",
    "\n",
    "get_recommendations(movies, 'Just My Luck')"
   ]
  },
  {
   "cell_type": "code",
   "execution_count": 92,
   "metadata": {},
   "outputs": [],
   "source": [
    "#comparing rankings from every single customer is ok with small-med\n",
    "#sized datasets, but very slow when you have millions of people\n",
    "\n",
    "#so far we have used 'used-based collaborative filtering'\n",
    "#an alternative is 'item-based collaborative filtering'\n",
    "#item-based is better with larger datasets\n",
    "#can do calculations in advance so faster\n",
    "\n",
    "#general technique:\n",
    "#precompute most similar items for each item\n",
    "#when making recommendation, look at customer's top rated items\n",
    "#create weighted list of items similar to those\n",
    "#although you examine all data, comparisons between items will not \n",
    "#  change as often as comparisons between users\n",
    "#therefore don't have to continuously calculate each items most \n",
    "#  similar items, can do once in a while\n",
    "\n",
    "#need a function to build the complete dataset of similar items\n",
    "#build dataset once and re-use each time you need it\n",
    "\n",
    "def calculate_sim_items(prefs, n=10):\n",
    "    #create dictionary of items showing which other items\n",
    "    #they are most similar to\n",
    "    result = {}\n",
    "    \n",
    "    #invert preference matrix to be item centric\n",
    "    item_prefs = transform_prefs(prefs)\n",
    "    c = 0\n",
    "    for item in item_prefs:\n",
    "        #status updates for large datasets\n",
    "        c+=1\n",
    "        if c%100==0:\n",
    "            print(\"%d / %d\" % (c, len(item_prefs)))\n",
    "        #find most similar items to this one\n",
    "        scores = top_matches(item_prefs, item, n=n, similarity=sim_distance)\n",
    "        result[item] = scores\n",
    "    return result\n",
    "\n",
    "#gives items with how they were rated by each user\n",
    "#loops over every item and passes transformed dictionary to top_matches\n",
    "#  this gets most similar items along with similarity scores\n",
    "#creates and returns a dictionary of items along with a list of\n",
    "#  their most similar items"
   ]
  },
  {
   "cell_type": "code",
   "execution_count": 93,
   "metadata": {},
   "outputs": [
    {
     "data": {
      "text/plain": [
       "{'Just My Luck': [(0.3483314773547883, 'Lady in the Water'),\n",
       "  (0.32037724101704074, 'You, Me and Dupree'),\n",
       "  (0.2989350844248255, 'The Night Listener'),\n",
       "  (0.2553967929896867, 'Snakes on a Plane'),\n",
       "  (0.20799159651347807, 'Superman Returns')],\n",
       " 'Lady in the Water': [(0.4494897427831781, 'You, Me and Dupree'),\n",
       "  (0.38742588672279304, 'The Night Listener'),\n",
       "  (0.3483314773547883, 'Snakes on a Plane'),\n",
       "  (0.3483314773547883, 'Just My Luck'),\n",
       "  (0.2402530733520421, 'Superman Returns')],\n",
       " 'Snakes on a Plane': [(0.3483314773547883, 'Lady in the Water'),\n",
       "  (0.32037724101704074, 'The Night Listener'),\n",
       "  (0.3090169943749474, 'Superman Returns'),\n",
       "  (0.2553967929896867, 'Just My Luck'),\n",
       "  (0.1886378647726465, 'You, Me and Dupree')],\n",
       " 'Superman Returns': [(0.3090169943749474, 'Snakes on a Plane'),\n",
       "  (0.252650308587072, 'The Night Listener'),\n",
       "  (0.2402530733520421, 'Lady in the Water'),\n",
       "  (0.20799159651347807, 'Just My Luck'),\n",
       "  (0.1918253663634734, 'You, Me and Dupree')],\n",
       " 'The Night Listener': [(0.38742588672279304, 'Lady in the Water'),\n",
       "  (0.32037724101704074, 'Snakes on a Plane'),\n",
       "  (0.2989350844248255, 'Just My Luck'),\n",
       "  (0.29429805508554946, 'You, Me and Dupree'),\n",
       "  (0.252650308587072, 'Superman Returns')],\n",
       " 'You, Me and Dupree': [(0.4494897427831781, 'Lady in the Water'),\n",
       "  (0.32037724101704074, 'Just My Luck'),\n",
       "  (0.29429805508554946, 'The Night Listener'),\n",
       "  (0.1918253663634734, 'Superman Returns'),\n",
       "  (0.1886378647726465, 'Snakes on a Plane')]}"
      ]
     },
     "execution_count": 93,
     "metadata": {},
     "output_type": "execute_result"
    }
   ],
   "source": [
    "calculate_sim_items(critics)\n",
    "\n",
    "#you only need to do this frequently enough to keep item similarities\n",
    "#up-to-date, i.e. more frequently when user base/number of ratings is \n",
    "#small\n",
    "#as they grow, similarity scores will become more stable"
   ]
  },
  {
   "cell_type": "code",
   "execution_count": 94,
   "metadata": {
    "collapsed": true
   },
   "outputs": [],
   "source": [
    "#now to give recommendations using the item similarity dictionary\n",
    "#without going through whole dataset\n",
    "#get items user has ranked\n",
    "#find similar items\n",
    "#weight according to how similar they are\n",
    "#item dictionary can be used to find the similarities\n",
    "\n",
    "#for each movie you have seen\n",
    "#  multiply similarity of unseen movie with that movie rating\n",
    "#  sum the similarity*rating\n",
    "#  normalise by dividing total of sum from above with sum of similarities\n",
    "\n",
    "def get_recommended_items(prefs,item_match, user):\n",
    "    user_ratings = prefs[user]\n",
    "    scores = {}\n",
    "    total_sim = {}\n",
    "    \n",
    "    #loop over items rated by this user\n",
    "    for (item, rating) in user_ratings.items():\n",
    "        \n",
    "        #loop over items similar to this one\n",
    "        for (similarity, item2) in item_match[item]:\n",
    "            \n",
    "            #ignore if this user has already rated this item\n",
    "            if item2 in user_ratings:\n",
    "                continue\n",
    "                \n",
    "            #weighted sum of rating times similarity\n",
    "            scores.setdefault(item2,0)\n",
    "            scores[item2]+=similarity*rating\n",
    "            \n",
    "            #sum of all similarities\n",
    "            total_sim.setdefault(item2,0)\n",
    "            total_sim[item2]+=similarity\n",
    "            \n",
    "    #divide each total score by total weighted to get an average\n",
    "    rankings=[(score/total_sim[item],item) for item,score in scores.items()]\n",
    "\n",
    "    #return rankings from highest to lowest\n",
    "    rankings.sort()\n",
    "    rankings.reverse()\n",
    "    return rankings"
   ]
  },
  {
   "cell_type": "code",
   "execution_count": 95,
   "metadata": {},
   "outputs": [
    {
     "data": {
      "text/plain": [
       "[(3.1667425234070894, 'The Night Listener'),\n",
       " (2.9366294028444346, 'Just My Luck'),\n",
       " (2.868767392626467, 'Lady in the Water')]"
      ]
     },
     "execution_count": 95,
     "metadata": {},
     "output_type": "execute_result"
    }
   ],
   "source": [
    "#this is very similar to get_recommendations\n",
    "#but instead uses a pre-calculated item similarity list\n",
    "\n",
    "item_sim = calculate_sim_items(critics)\n",
    "\n",
    "get_recommended_items(critics, item_sim, 'Toby')\n",
    "\n",
    "#the values are slightly different as the item_sim score is calculated\n",
    "#using 'top_matches' which only returns the top n matches\n",
    "#default n for calculate_sim_items is 10, to make fully accurate"
   ]
  },
  {
   "cell_type": "code",
   "execution_count": 96,
   "metadata": {},
   "outputs": [],
   "source": [
    "#movielens data is the \"older\" 100k one\n",
    "#http://files.grouplens.org/datasets/movielens/ml-100k.zip\n",
    "\n",
    "#u.item contains list of movie IDs and titles\n",
    "#u.data has data in format of:\n",
    "# <user ID> <movie ID> <rating (1-5)> <timestamp>\n",
    "\n",
    "# there are 1682 movies with 943 users\n",
    "# each user has rated at least 20 movies\n",
    "\n",
    "def load_movielens(path='data/movielens'):\n",
    "    \n",
    "    #get movie titles\n",
    "    movies = {}\n",
    "    for line in open(path+'/u.item', 'rb'):\n",
    "        (id, title) = line.decode(\"latin-1\").split('|')[0:2]\n",
    "        movies[id] = title\n",
    "        \n",
    "    #load data\n",
    "    prefs = {}\n",
    "    for line in open(path+'/u.data'):\n",
    "        (user, movieid, rating, ts) = line.split('\\t')\n",
    "        prefs.setdefault(user,{})\n",
    "        prefs[user][movies[movieid]]=float(rating)\n",
    "    return prefs"
   ]
  },
  {
   "cell_type": "code",
   "execution_count": 97,
   "metadata": {},
   "outputs": [],
   "source": [
    "prefs = load_movielens()"
   ]
  },
  {
   "cell_type": "code",
   "execution_count": 98,
   "metadata": {},
   "outputs": [
    {
     "data": {
      "text/plain": [
       "{'2001: A Space Odyssey (1968)': 5.0,\n",
       " 'Ace Ventura: Pet Detective (1994)': 4.0,\n",
       " 'Addams Family Values (1993)': 2.0,\n",
       " 'Addicted to Love (1997)': 4.0,\n",
       " 'Adventures of Priscilla, Queen of the Desert, The (1994)': 3.0,\n",
       " 'Adventures of Robin Hood, The (1938)': 5.0,\n",
       " 'Air Force One (1997)': 3.0,\n",
       " 'Air Up There, The (1994)': 3.0,\n",
       " 'Alien (1979)': 4.0,\n",
       " 'American President, The (1995)': 5.0,\n",
       " 'Annie Hall (1977)': 4.0,\n",
       " 'Apocalypse Now (1979)': 4.0,\n",
       " 'Babe (1995)': 5.0,\n",
       " 'Baby-Sitters Club, The (1995)': 2.0,\n",
       " 'Back to the Future (1985)': 5.0,\n",
       " 'Bad Boys (1995)': 4.0,\n",
       " 'Bananas (1971)': 5.0,\n",
       " 'Barcelona (1994)': 3.0,\n",
       " 'Batman & Robin (1997)': 4.0,\n",
       " 'Batman (1989)': 3.0,\n",
       " 'Batman Returns (1992)': 3.0,\n",
       " 'Big Green, The (1995)': 3.0,\n",
       " 'Big Squeeze, The (1996)': 2.0,\n",
       " 'Birdcage, The (1996)': 4.0,\n",
       " 'Blade Runner (1982)': 4.0,\n",
       " 'Blues Brothers, The (1980)': 5.0,\n",
       " 'Boomerang (1992)': 3.0,\n",
       " 'Boot, Das (1981)': 4.0,\n",
       " 'Brady Bunch Movie, The (1995)': 2.0,\n",
       " 'Braveheart (1995)': 4.0,\n",
       " 'Bridge on the River Kwai, The (1957)': 5.0,\n",
       " 'Broken Arrow (1996)': 3.0,\n",
       " 'Butch Cassidy and the Sundance Kid (1969)': 5.0,\n",
       " 'Citizen Kane (1941)': 4.0,\n",
       " \"City Slickers II: The Legend of Curly's Gold (1994)\": 3.0,\n",
       " 'Clear and Present Danger (1994)': 5.0,\n",
       " 'Cliffhanger (1993)': 3.0,\n",
       " 'Clockwork Orange, A (1971)': 4.0,\n",
       " 'Clueless (1995)': 4.0,\n",
       " 'Con Air (1997)': 4.0,\n",
       " 'Conan the Barbarian (1981)': 3.0,\n",
       " 'Coneheads (1993)': 4.0,\n",
       " 'Cool Hand Luke (1967)': 5.0,\n",
       " 'Cops and Robbersons (1994)': 3.0,\n",
       " 'Cowboy Way, The (1994)': 3.0,\n",
       " 'Crow, The (1994)': 3.0,\n",
       " 'Dances with Wolves (1990)': 5.0,\n",
       " \"Dante's Peak (1997)\": 3.0,\n",
       " 'Dave (1993)': 4.0,\n",
       " 'Days of Thunder (1990)': 5.0,\n",
       " 'Dead Man Walking (1995)': 4.0,\n",
       " 'Dead Poets Society (1989)': 5.0,\n",
       " 'Deer Hunter, The (1978)': 3.0,\n",
       " 'Demolition Man (1993)': 3.0,\n",
       " 'Desperado (1995)': 3.0,\n",
       " 'Die Hard (1988)': 4.0,\n",
       " 'Die Hard: With a Vengeance (1995)': 4.0,\n",
       " 'Down Periscope (1996)': 4.0,\n",
       " 'Dragonheart (1996)': 4.0,\n",
       " 'Dumb & Dumber (1994)': 4.0,\n",
       " 'Dunston Checks In (1996)': 1.0,\n",
       " 'E.T. the Extra-Terrestrial (1982)': 3.0,\n",
       " 'Ed Wood (1994)': 3.0,\n",
       " 'Empire Strikes Back, The (1980)': 5.0,\n",
       " 'Endless Summer 2, The (1994)': 3.0,\n",
       " 'Evil Dead II (1987)': 2.0,\n",
       " 'Executive Decision (1996)': 3.0,\n",
       " 'Fargo (1996)': 5.0,\n",
       " 'First Wives Club, The (1996)': 2.0,\n",
       " 'Fish Called Wanda, A (1988)': 5.0,\n",
       " 'Forget Paris (1995)': 4.0,\n",
       " 'Four Weddings and a Funeral (1994)': 5.0,\n",
       " 'French Kiss (1995)': 5.0,\n",
       " 'Fugitive, The (1993)': 5.0,\n",
       " 'Full Metal Jacket (1987)': 4.0,\n",
       " 'Get Shorty (1995)': 5.0,\n",
       " 'Glory (1989)': 4.0,\n",
       " 'Godfather, The (1972)': 4.0,\n",
       " 'GoldenEye (1995)': 4.0,\n",
       " 'Good, The Bad and The Ugly, The (1966)': 5.0,\n",
       " 'GoodFellas (1990)': 4.0,\n",
       " 'Grease (1978)': 4.0,\n",
       " 'Great White Hype, The (1996)': 3.0,\n",
       " 'Groundhog Day (1993)': 5.0,\n",
       " 'Grumpier Old Men (1995)': 4.0,\n",
       " 'Hard Target (1993)': 4.0,\n",
       " 'Heat (1995)': 3.0,\n",
       " 'Heathers (1989)': 3.0,\n",
       " 'Home Alone (1990)': 4.0,\n",
       " 'Hoop Dreams (1994)': 4.0,\n",
       " 'Hot Shots! Part Deux (1993)': 4.0,\n",
       " 'House Arrest (1996)': 3.0,\n",
       " 'I Love Trouble (1994)': 3.0,\n",
       " 'I.Q. (1994)': 5.0,\n",
       " 'In the Army Now (1994)': 4.0,\n",
       " 'In the Line of Fire (1993)': 5.0,\n",
       " 'Independence Day (ID4) (1996)': 5.0,\n",
       " 'Indiana Jones and the Last Crusade (1989)': 5.0,\n",
       " 'Inkwell, The (1994)': 3.0,\n",
       " \"It's a Wonderful Life (1946)\": 5.0,\n",
       " 'Jack (1996)': 3.0,\n",
       " 'Jeffrey (1995)': 3.0,\n",
       " 'Jimmy Hollywood (1994)': 3.0,\n",
       " \"Joe's Apartment (1996)\": 2.0,\n",
       " 'Junior (1994)': 4.0,\n",
       " 'Jurassic Park (1993)': 5.0,\n",
       " 'Kingpin (1996)': 4.0,\n",
       " 'Lightning Jack (1994)': 3.0,\n",
       " 'Lost World: Jurassic Park, The (1997)': 3.0,\n",
       " 'Low Down Dirty Shame, A (1994)': 3.0,\n",
       " 'M*A*S*H (1970)': 5.0,\n",
       " 'Magnificent Seven, The (1954)': 5.0,\n",
       " 'Major Payne (1994)': 3.0,\n",
       " 'Man of the House (1995)': 3.0,\n",
       " 'Manchurian Candidate, The (1962)': 4.0,\n",
       " 'Mars Attacks! (1996)': 3.0,\n",
       " 'Mask, The (1994)': 3.0,\n",
       " 'Matilda (1996)': 3.0,\n",
       " 'Maverick (1994)': 3.0,\n",
       " 'Michael (1996)': 4.0,\n",
       " 'Mighty Aphrodite (1995)': 3.0,\n",
       " 'Milk Money (1994)': 4.0,\n",
       " 'Mission: Impossible (1996)': 4.0,\n",
       " \"Monty Python's Life of Brian (1979)\": 4.0,\n",
       " 'Mother (1996)': 2.0,\n",
       " 'Mrs. Doubtfire (1993)': 4.0,\n",
       " 'Multiplicity (1996)': 3.0,\n",
       " 'Muppet Treasure Island (1996)': 3.0,\n",
       " 'My Favorite Year (1982)': 3.0,\n",
       " 'Naked Gun 33 1/3: The Final Insult (1994)': 4.0,\n",
       " 'Net, The (1995)': 5.0,\n",
       " 'Nine Months (1995)': 4.0,\n",
       " 'Nutty Professor, The (1996)': 4.0,\n",
       " 'Platoon (1986)': 3.0,\n",
       " 'Prefontaine (1997)': 5.0,\n",
       " 'Private Benjamin (1980)': 4.0,\n",
       " 'Professional, The (1994)': 4.0,\n",
       " 'Program, The (1993)': 3.0,\n",
       " 'Pulp Fiction (1994)': 4.0,\n",
       " \"Pyromaniac's Love Story, A (1995)\": 3.0,\n",
       " 'Quiet Man, The (1952)': 5.0,\n",
       " 'Raging Bull (1980)': 3.0,\n",
       " 'Raiders of the Lost Ark (1981)': 5.0,\n",
       " 'Raising Arizona (1987)': 3.0,\n",
       " 'Reality Bites (1994)': 3.0,\n",
       " 'Renaissance Man (1994)': 5.0,\n",
       " 'Return of the Jedi (1983)': 5.0,\n",
       " 'Return of the Pink Panther, The (1974)': 4.0,\n",
       " 'River Wild, The (1994)': 4.0,\n",
       " 'Sabrina (1995)': 4.0,\n",
       " 'Santa Clause, The (1994)': 4.0,\n",
       " \"Schindler's List (1993)\": 4.0,\n",
       " 'Searching for Bobby Fischer (1993)': 4.0,\n",
       " 'Serial Mom (1994)': 1.0,\n",
       " 'Shadow, The (1994)': 3.0,\n",
       " 'Shawshank Redemption, The (1994)': 5.0,\n",
       " \"Singin' in the Rain (1952)\": 4.0,\n",
       " 'Sleeper (1973)': 4.0,\n",
       " 'Sleepers (1996)': 4.0,\n",
       " 'Sleepless in Seattle (1993)': 5.0,\n",
       " 'Sneakers (1992)': 4.0,\n",
       " 'So I Married an Axe Murderer (1993)': 2.0,\n",
       " 'Something to Talk About (1995)': 2.0,\n",
       " 'Son in Law (1993)': 4.0,\n",
       " 'Speechless (1994)': 4.0,\n",
       " 'Speed (1994)': 5.0,\n",
       " 'Speed 2: Cruise Control (1997)': 3.0,\n",
       " 'Star Trek III: The Search for Spock (1984)': 4.0,\n",
       " 'Star Trek IV: The Voyage Home (1986)': 5.0,\n",
       " 'Star Trek: First Contact (1996)': 4.0,\n",
       " 'Star Trek: The Motion Picture (1979)': 3.0,\n",
       " 'Star Trek: The Wrath of Khan (1982)': 5.0,\n",
       " 'Star Wars (1977)': 5.0,\n",
       " 'Stargate (1994)': 5.0,\n",
       " 'Sting, The (1973)': 5.0,\n",
       " 'Strange Days (1995)': 3.0,\n",
       " 'Strictly Ballroom (1992)': 3.0,\n",
       " 'Striptease (1996)': 2.0,\n",
       " 'Supercop (1992)': 3.0,\n",
       " 'Swimming with Sharks (1995)': 3.0,\n",
       " 'Switchblade Sisters (1975)': 2.0,\n",
       " 'Terminator 2: Judgment Day (1991)': 5.0,\n",
       " 'Terminator, The (1984)': 5.0,\n",
       " 'That Old Feeling (1997)': 4.0,\n",
       " 'That Thing You Do! (1996)': 4.0,\n",
       " 'This Is Spinal Tap (1984)': 5.0,\n",
       " 'To Die For (1995)': 3.0,\n",
       " 'To Kill a Mockingbird (1962)': 4.0,\n",
       " 'To Wong Foo, Thanks for Everything! Julie Newmar (1995)': 3.0,\n",
       " 'Tommy Boy (1995)': 4.0,\n",
       " 'Top Gun (1986)': 5.0,\n",
       " 'Treasure of the Sierra Madre, The (1948)': 4.0,\n",
       " 'True Lies (1994)': 5.0,\n",
       " 'Truth About Cats & Dogs, The (1996)': 4.0,\n",
       " 'Twelve Monkeys (1995)': 4.0,\n",
       " 'Twister (1996)': 4.0,\n",
       " \"Ulee's Gold (1997)\": 3.0,\n",
       " 'Under Siege (1992)': 4.0,\n",
       " 'Up in Smoke (1978)': 3.0,\n",
       " 'Vegas Vacation (1997)': 4.0,\n",
       " 'Victor/Victoria (1982)': 4.0,\n",
       " 'Waterworld (1995)': 4.0,\n",
       " \"Weekend at Bernie's (1989)\": 3.0,\n",
       " 'When Harry Met Sally... (1989)': 5.0,\n",
       " 'While You Were Sleeping (1995)': 5.0,\n",
       " 'Wizard of Oz, The (1939)': 5.0,\n",
       " 'Wyatt Earp (1994)': 3.0,\n",
       " 'Young Frankenstein (1974)': 5.0,\n",
       " 'Young Guns (1988)': 3.0,\n",
       " 'Young Guns II (1990)': 2.0}"
      ]
     },
     "execution_count": 98,
     "metadata": {},
     "output_type": "execute_result"
    }
   ],
   "source": [
    "prefs['87'] #ratings for user 87"
   ]
  },
  {
   "cell_type": "code",
   "execution_count": 104,
   "metadata": {},
   "outputs": [
    {
     "data": {
      "text/plain": [
       "[(5.0, 'They Made Me a Criminal (1939)'),\n",
       " (5.0, 'Star Kid (1997)'),\n",
       " (5.0, 'Santa with Muscles (1996)'),\n",
       " (5.0, 'Saint of Fort Washington, The (1993)'),\n",
       " (5.0, 'Marlene Dietrich: Shadow and Light (1996) '),\n",
       " (5.0, 'Great Day in Harlem, A (1994)'),\n",
       " (5.0, 'Entertaining Angels: The Dorothy Day Story (1996)'),\n",
       " (5.0, 'Boys, Les (1997)'),\n",
       " (4.89884443128923, 'Legal Deceit (1997)'),\n",
       " (4.815019082242709, 'Letter From Death Row, A (1998)'),\n",
       " (4.7321082983941425, 'Hearts and Minds (1996)'),\n",
       " (4.696244466490867, 'Pather Panchali (1955)'),\n",
       " (4.652397061026758, 'Lamerica (1994)'),\n",
       " (4.538723693474813, 'Leading Man, The (1996)'),\n",
       " (4.535081339106105, 'Mrs. Dalloway (1997)'),\n",
       " (4.532337612572981, 'Innocents, The (1961)'),\n",
       " (4.527998574747076, 'Casablanca (1942)'),\n",
       " (4.510270149719864, 'Everest (1998)'),\n",
       " (4.493967755428438, 'Dangerous Beauty (1998)'),\n",
       " (4.485151301801341, 'Wallace & Gromit: The Best of Aardman Animation (1996)'),\n",
       " (4.463287461290221, 'Wrong Trousers, The (1993)'),\n",
       " (4.450979436941034, 'Kaspar Hauser (1993)'),\n",
       " (4.431079071179518, 'Usual Suspects, The (1995)'),\n",
       " (4.427520682864958, 'Maya Lin: A Strong Clear Vision (1994)'),\n",
       " (4.414870784592075, 'Wedding Gift, The (1994)')]"
      ]
     },
     "execution_count": 104,
     "metadata": {},
     "output_type": "execute_result"
    }
   ],
   "source": [
    "get_recommendations(prefs, '87')[:25] #top 25 recommendations for user 87"
   ]
  },
  {
   "cell_type": "code",
   "execution_count": 105,
   "metadata": {},
   "outputs": [
    {
     "name": "stdout",
     "output_type": "stream",
     "text": [
      "100 / 1664\n",
      "200 / 1664\n",
      "300 / 1664\n",
      "400 / 1664\n",
      "500 / 1664\n",
      "600 / 1664\n",
      "700 / 1664\n",
      "800 / 1664\n",
      "900 / 1664\n",
      "1000 / 1664\n",
      "1100 / 1664\n",
      "1200 / 1664\n",
      "1300 / 1664\n",
      "1400 / 1664\n",
      "1500 / 1664\n",
      "1600 / 1664\n"
     ]
    }
   ],
   "source": [
    "#runs pretty fast on my laptop, but if it didn't then it would be \n",
    "#better to precalculate item similarity\n",
    "\n",
    "item_sim = calculate_sim_items(prefs,n=50)"
   ]
  },
  {
   "cell_type": "code",
   "execution_count": 107,
   "metadata": {},
   "outputs": [
    {
     "data": {
      "text/plain": [
       "[(5.0, \"What's Eating Gilbert Grape (1993)\"),\n",
       " (5.0, 'Vertigo (1958)'),\n",
       " (5.0, 'Usual Suspects, The (1995)'),\n",
       " (5.0, 'Toy Story (1995)'),\n",
       " (5.0, 'Titanic (1997)'),\n",
       " (5.0, 'Sword in the Stone, The (1963)'),\n",
       " (5.0, 'Stand by Me (1986)'),\n",
       " (5.0, 'Sling Blade (1996)'),\n",
       " (5.0, 'Silence of the Lambs, The (1991)'),\n",
       " (5.0, 'Shining, The (1980)'),\n",
       " (5.0, 'Shine (1996)'),\n",
       " (5.0, 'Sense and Sensibility (1995)'),\n",
       " (5.0, 'Scream (1996)'),\n",
       " (5.0, 'Rumble in the Bronx (1995)'),\n",
       " (5.0, 'Rock, The (1996)'),\n",
       " (5.0, 'Robin Hood: Prince of Thieves (1991)'),\n",
       " (5.0, 'Reservoir Dogs (1992)'),\n",
       " (5.0, 'Police Story 4: Project S (Chao ji ji hua) (1993)'),\n",
       " (5.0, 'House of the Spirits, The (1993)'),\n",
       " (5.0, 'Fresh (1994)'),\n",
       " (5.0, 'Denise Calls Up (1995)'),\n",
       " (5.0, 'Day the Sun Turned Cold, The (Tianguo niezi) (1994)'),\n",
       " (5.0, 'Before the Rain (Pred dozhdot) (1994)'),\n",
       " (5.0, 'Assignment, The (1997)'),\n",
       " (5.0, '1-900 (1994)')]"
      ]
     },
     "execution_count": 107,
     "metadata": {},
     "output_type": "execute_result"
    }
   ],
   "source": [
    "get_recommended_items(prefs, item_sim, '87')[:25]"
   ]
  },
  {
   "cell_type": "code",
   "execution_count": null,
   "metadata": {
    "collapsed": true
   },
   "outputs": [],
   "source": []
  }
 ],
 "metadata": {
  "kernelspec": {
   "display_name": "Python 3",
   "language": "python",
   "name": "python3"
  },
  "language_info": {
   "codemirror_mode": {
    "name": "ipython",
    "version": 3
   },
   "file_extension": ".py",
   "mimetype": "text/x-python",
   "name": "python",
   "nbconvert_exporter": "python",
   "pygments_lexer": "ipython3",
   "version": "3.6.2"
  }
 },
 "nbformat": 4,
 "nbformat_minor": 2
}

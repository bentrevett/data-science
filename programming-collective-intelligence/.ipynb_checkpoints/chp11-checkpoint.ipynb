{
 "cells": [
  {
   "cell_type": "code",
   "execution_count": 76,
   "metadata": {},
   "outputs": [],
   "source": [
    "#GP\n",
    "\n",
    "#starting with large set of programs (population)\n",
    "#programs 'compete' in a task\n",
    "#ranked list of performance obtained\n",
    "#best programs are replicated and modified\n",
    "#either via mutation (random change)\n",
    "#or by crossover (swapping parts with other 'good programs')\n",
    "\n",
    "#quality measured by a 'fitness function'\n",
    "\n",
    "#need a way to represent programs with Python code\n",
    "#most programming languages are turned into a parse tree\n",
    "\n",
    "#each node in the tree represents an operation on it's children\n",
    "#or is a root which represents a value\n",
    "\n",
    "class FWrapper:\n",
    "    def __init__(self,function,child_count,name):\n",
    "        self.function=function\n",
    "        self.child_count=child_count\n",
    "        self.name=name\n",
    "\n",
    "class Node:\n",
    "    def __init__(self,fw,children):\n",
    "        self.function=fw.function\n",
    "        self.name=fw.name\n",
    "        self.children=children\n",
    "\n",
    "    def evaluate(self,inp):    \n",
    "        results=[n.evaluate(inp) for n in self.children]\n",
    "        return self.function(results)\n",
    "    \n",
    "    def display(self,indent=0):\n",
    "        print((' '*indent)+self.name)\n",
    "    \n",
    "        for c in self.children:\n",
    "            c.display(indent+1)\n",
    "    \n",
    "\n",
    "class ParamNode:\n",
    "    def __init__(self,idx):\n",
    "        self.idx=idx\n",
    "\n",
    "    def evaluate(self,inp):\n",
    "        return inp[self.idx]\n",
    "    def display(self,indent=0):\n",
    "        print('%sp%d' % (' '*indent,self.idx))\n",
    "    \n",
    "    \n",
    "class ConstNode:\n",
    "    def __init__(self,v):\n",
    "        self.v=v\n",
    "    def evaluate(self,inp):\n",
    "        return self.v\n",
    "    def display(self,indent=0):\n",
    "        print('%s%d' % (' '*indent,self.v))"
   ]
  },
  {
   "cell_type": "code",
   "execution_count": 105,
   "metadata": {},
   "outputs": [],
   "source": [
    "#also need some functions for the nodes to apply.\n",
    "#create functions, give them names and parameters counts\n",
    "\n",
    "add_w=FWrapper(lambda l:l[0]+l[1],2,'add')\n",
    "sub_w=FWrapper(lambda l:l[0]-l[1],2,'sub') \n",
    "mul_w=FWrapper(lambda l:l[0]*l[1],2,'mul')\n",
    "\n",
    "def if_func(l):\n",
    "    if l[0]>0: return l[1]\n",
    "    else: return l[2]\n",
    "\n",
    "if_w = FWrapper(if_func,3,'if')\n",
    "\n",
    "def gt_func(l):\n",
    "    if l[0]>l[1]: return 1\n",
    "    else: return 0\n",
    "gt_w=FWrapper(gt_func,2,'gt')\n",
    "\n",
    "f_list=[add_w,mul_w,if_w,gt_w,sub_w]"
   ]
  },
  {
   "cell_type": "code",
   "execution_count": 106,
   "metadata": {
    "collapsed": true
   },
   "outputs": [],
   "source": [
    "def example_tree():\n",
    "    return Node(if_w,[\n",
    "                    Node(gt_w,[ParamNode(0),ConstNode(3)]),\n",
    "                    Node(add_w,[ParamNode(1),ConstNode(5)]),\n",
    "                    Node(sub_w,[ParamNode(1),ConstNode(2)]),\n",
    "                    ]\n",
    "               )\n",
    "\n",
    "#f(x,y) -> if x > 3: \n",
    "#            return y+5\n",
    "#          else:\n",
    "#            return 1-2"
   ]
  },
  {
   "cell_type": "code",
   "execution_count": 107,
   "metadata": {
    "collapsed": true
   },
   "outputs": [],
   "source": [
    "example_tree = example_tree()"
   ]
  },
  {
   "cell_type": "code",
   "execution_count": 108,
   "metadata": {},
   "outputs": [
    {
     "data": {
      "text/plain": [
       "8"
      ]
     },
     "execution_count": 108,
     "metadata": {},
     "output_type": "execute_result"
    }
   ],
   "source": [
    "example_tree.evaluate([5,3]) #ParamNode(0) = 5, ParamNode(1) = 3"
   ]
  },
  {
   "cell_type": "code",
   "execution_count": 109,
   "metadata": {},
   "outputs": [
    {
     "name": "stdout",
     "output_type": "stream",
     "text": [
      "if\n",
      " gt\n",
      "  p0\n",
      "  3\n",
      " add\n",
      "  p1\n",
      "  5\n",
      " sub\n",
      "  p1\n",
      "  2\n"
     ]
    }
   ],
   "source": [
    "example_tree.display()"
   ]
  },
  {
   "cell_type": "code",
   "execution_count": 151,
   "metadata": {
    "collapsed": true
   },
   "outputs": [],
   "source": [
    "#we initialise the population randomly as this introduces more diversity\n",
    "#into the initial population\n",
    "\n",
    "#creating random programs consists of creating a root node with a random\n",
    "#function and then creating as many random child nodes as necessary, \n",
    "#these children may also have their own random child nodes\n",
    "\n",
    "#like most functions with trees, this is also easily defined recursively\n",
    "\n",
    "import random\n",
    "\n",
    "#pc is parameter count\n",
    "#fpr is probability of generating a function\n",
    "#ppr is probability of generating a parameter (if not a function)\n",
    "\n",
    "def make_random_tree(pc,max_depth=4,fpr=0.5,ppr=0.6):\n",
    "    if random.random()<fpr and max_depth>0:\n",
    "        f=random.choice(f_list)\n",
    "        children=[make_random_tree(pc,max_depth-1,fpr,ppr) \n",
    "              for i in range(f.child_count)]\n",
    "        return Node(f,children)\n",
    "    elif random.random()<ppr:\n",
    "        return ParamNode(random.randint(0,pc-1))\n",
    "    else:\n",
    "        return ConstNode(random.randint(0,10))\n",
    "    \n",
    "#creates a node with a random function, then looks to see how many child\n",
    "#nodes this function requires\n",
    "#for every child node required, the function calls itself to create a new\n",
    "#node\n",
    "#entire tree constructed when the function requires no more child nodes"
   ]
  },
  {
   "cell_type": "code",
   "execution_count": 152,
   "metadata": {},
   "outputs": [],
   "source": [
    "program1=make_random_tree(2)"
   ]
  },
  {
   "cell_type": "code",
   "execution_count": 153,
   "metadata": {},
   "outputs": [
    {
     "name": "stdout",
     "output_type": "stream",
     "text": [
      "0\n"
     ]
    }
   ],
   "source": [
    "program1.display()"
   ]
  },
  {
   "cell_type": "code",
   "execution_count": 154,
   "metadata": {},
   "outputs": [
    {
     "data": {
      "text/plain": [
       "0"
      ]
     },
     "execution_count": 154,
     "metadata": {},
     "output_type": "execute_result"
    }
   ],
   "source": [
    "program1.evaluate([52,50])"
   ]
  },
  {
   "cell_type": "code",
   "execution_count": 155,
   "metadata": {
    "collapsed": true
   },
   "outputs": [],
   "source": [
    "#some trees get quite deep since each branch will keep growing until it hits\n",
    "#a zero-child node (leaf/terminal), this is why you include a max_depth"
   ]
  },
  {
   "cell_type": "code",
   "execution_count": 172,
   "metadata": {
    "collapsed": true
   },
   "outputs": [],
   "source": [
    "#now, to use GP, get given some examples from X to Y\n",
    "\n",
    "#this is the function you want to work out\n",
    "\n",
    "def hidden_function(x,y):\n",
    "    return x**2+2*y+3*x+5"
   ]
  },
  {
   "cell_type": "code",
   "execution_count": 173,
   "metadata": {
    "collapsed": true
   },
   "outputs": [],
   "source": [
    "#use this function to build a dataset which you can test your generated programs\n",
    "\n",
    "def build_hidden_set(target_function):\n",
    "    rows = []\n",
    "    for i in range(200):\n",
    "        x = random.randint(0, 40)\n",
    "        y = random.randint(0, 40)\n",
    "        rows.append([x, y, target_function(x,y)])\n",
    "    return rows"
   ]
  },
  {
   "cell_type": "code",
   "execution_count": 174,
   "metadata": {},
   "outputs": [
    {
     "name": "stdout",
     "output_type": "stream",
     "text": [
      "[35, 16, 1367]\n"
     ]
    }
   ],
   "source": [
    "hidden_set = build_hidden_set(hidden_function)\n",
    "\n",
    "print(hidden_set[0])"
   ]
  },
  {
   "cell_type": "code",
   "execution_count": 190,
   "metadata": {
    "collapsed": true
   },
   "outputs": [],
   "source": [
    "#as we are testing a program with a numerical outcome\n",
    "#the easiest way to test a program is to see how close it gets to the \n",
    "#correct answers\n",
    "\n",
    "def score_function(tree,s):\n",
    "    loss=0\n",
    "    for data in s:\n",
    "        v=tree.evaluate([data[0],data[1]])\n",
    "        loss+=abs(v-data[2])\n",
    "    return loss"
   ]
  },
  {
   "cell_type": "code",
   "execution_count": 191,
   "metadata": {},
   "outputs": [
    {
     "data": {
      "text/plain": [
       "137822"
      ]
     },
     "execution_count": 191,
     "metadata": {},
     "output_type": "execute_result"
    }
   ],
   "source": [
    "score_function(program1, hidden_set)"
   ]
  },
  {
   "cell_type": "code",
   "execution_count": 236,
   "metadata": {
    "collapsed": true
   },
   "outputs": [],
   "source": [
    "#we now have a way to determine how good our function is\n",
    "#this is important for deciding which programs make it to the next generation\n",
    "\n",
    "#mutation takes a single program and alters it slightly\n",
    "#either by changing a node or altering branches\n",
    "\n",
    "#shouldn't mutate too much as randomly changing things has a pretty low\n",
    "#chance of actually improving the outcome\n",
    "#instead assign a small probability a mutation will happen\n",
    "\n",
    "#the code below performs sub-tree mutation\n",
    "\n",
    "import copy\n",
    "\n",
    "def mutate(t,pc,prob=0.1):\n",
    "    if random.random()<prob:\n",
    "        return make_random_tree(pc)\n",
    "    else:\n",
    "        result=copy.deepcopy(t)\n",
    "        if hasattr(t,\"children\"):\n",
    "            result.children=[mutate(c,pc,prob) for c in t.children]\n",
    "        return result\n",
    "    \n",
    "#the function begins at the top of the tree and decides if a node should \n",
    "#be altered, if not it calls mutate on the child nodes of a tree"
   ]
  },
  {
   "cell_type": "code",
   "execution_count": 237,
   "metadata": {},
   "outputs": [
    {
     "name": "stdout",
     "output_type": "stream",
     "text": [
      "0\n"
     ]
    }
   ],
   "source": [
    "program1.display()"
   ]
  },
  {
   "cell_type": "code",
   "execution_count": 238,
   "metadata": {},
   "outputs": [
    {
     "name": "stdout",
     "output_type": "stream",
     "text": [
      "0\n"
     ]
    }
   ],
   "source": [
    "mutated_program_1 = mutate(program1, 2)\n",
    "mutated_program_1.display()"
   ]
  },
  {
   "cell_type": "code",
   "execution_count": 239,
   "metadata": {},
   "outputs": [
    {
     "data": {
      "text/plain": [
       "0"
      ]
     },
     "execution_count": 239,
     "metadata": {},
     "output_type": "execute_result"
    }
   ],
   "source": [
    "mutated_program_1.evaluate([-10,5])"
   ]
  },
  {
   "cell_type": "code",
   "execution_count": 254,
   "metadata": {
    "collapsed": true
   },
   "outputs": [],
   "source": [
    "#the other type of program modification is crossover\n",
    "#this takes two successful programs and combines to create a new program\n",
    "#by replacing a branch from one with a branch from another\n",
    "\n",
    "#crossover takes two trees and inputs and traverses both of them\n",
    "#when a threshold is reached the function returns a copy of the first tree\n",
    "#with one branch replaced by a branch in the second tree\n",
    "\n",
    "#by traversing both trees at once, crossover happens at approximately the\n",
    "#same level on each tree\n",
    "\n",
    "def crossover(t1,t2,prob=0.7,top=1):\n",
    "    if random.random()<prob and not top:\n",
    "        return copy.deepcopy(t2) \n",
    "    else:\n",
    "        result=copy.deepcopy(t1)\n",
    "    if hasattr(t1,'children') and hasattr(t2,'children'):\n",
    "        result.children=[crossover(c,random.choice(t2.children),prob,0) \n",
    "                       for c in t1.children]\n",
    "    return result"
   ]
  },
  {
   "cell_type": "code",
   "execution_count": 255,
   "metadata": {},
   "outputs": [
    {
     "name": "stdout",
     "output_type": "stream",
     "text": [
      "p1\n"
     ]
    }
   ],
   "source": [
    "prog1 = make_random_tree(2)\n",
    "prog1.display()"
   ]
  },
  {
   "cell_type": "code",
   "execution_count": 256,
   "metadata": {},
   "outputs": [
    {
     "name": "stdout",
     "output_type": "stream",
     "text": [
      "mul\n",
      " p0\n",
      " 2\n"
     ]
    }
   ],
   "source": [
    "prog2 = make_random_tree(2)\n",
    "prog2.display()"
   ]
  },
  {
   "cell_type": "code",
   "execution_count": 257,
   "metadata": {},
   "outputs": [
    {
     "name": "stdout",
     "output_type": "stream",
     "text": [
      "mul\n",
      " p0\n",
      " 2\n"
     ]
    }
   ],
   "source": [
    "prog3 = crossover(prog2, prog1)\n",
    "prog3.display()"
   ]
  },
  {
   "cell_type": "code",
   "execution_count": 258,
   "metadata": {
    "collapsed": true
   },
   "outputs": [],
   "source": [
    "#now ready to set up an environment to evolve best programs\n",
    "#create a set of random programs\n",
    "#select the best ones for replication and modification\n",
    "#repeat until some stopping criteria is reached\n",
    "\n",
    "import math\n",
    "\n",
    "def evolve(pc, pop_size, rank_function, max_gen=500, p_mutation=0.1,\n",
    "           p_crossover=0.4, exp=0.7, p_new=0.05):\n",
    "    #returns a random number tending towards lower numbers\n",
    "    #the lower exp is, the more lower numbers you get\n",
    "    def select_index():\n",
    "        return int(math.log(random.random())/math.log(exp))\n",
    "    \n",
    "    #create random initial population\n",
    "    pop=[make_random_tree(pc) for i in range(pop_size)]\n",
    "    for i in range(max_gen):\n",
    "        scores = rank_function(pop)\n",
    "        print(\"best score: \",scores[0][0])\n",
    "        if scores[0][0] == 0:\n",
    "            break\n",
    "            \n",
    "        #two best always make it\n",
    "        new_pop = [scores[0][1], scores[1][1]]\n",
    "        \n",
    "        #build next generation\n",
    "        while len(new_pop)<pop_size:\n",
    "            if random.random()>p_new:\n",
    "                new_pop.append(mutate(crossover(scores[select_index()][1],\n",
    "                                                scores[select_index()][1],\n",
    "                                                prob=p_crossover),\n",
    "                                      pc,\n",
    "                                      prob=p_mutation))\n",
    "            else: \n",
    "                #add a random tree to shake things up\n",
    "                new_pop.append(make_random_tree(pc))\n",
    "                \n",
    "        population = new_pop\n",
    "    scores[0][1].display()\n",
    "    return scores[0][1]\n",
    "\n",
    "#creates an initial random population\n",
    "#loops up to max_gen times\n",
    "#each time calling rank_function to rank programs best to worst\n",
    "#the best program is automatically passed through to the next generation\n",
    "#unaltered (this is called 'elitism')\n",
    "#rest of the population is constructed by randomly choosing programs near\n",
    "#the top of the ranking and then breeding and mutating them\n",
    "#this repeats until perfect score of 0 or max_gen is reached"
   ]
  },
  {
   "cell_type": "code",
   "execution_count": 259,
   "metadata": {
    "collapsed": true
   },
   "outputs": [],
   "source": [
    "#need to rank programs based on the result of score_function\n",
    "#get_rank_function returns a ranking function for a given dataset\n",
    "\n",
    "def getrankfunction(dataset):\n",
    "    def rankfunction(population):\n",
    "        scores=[(scorefunction(t,dataset),t) for t in population]\n",
    "        scores = sorted(scores, key= lambda x: x[0])\n",
    "        return scores\n",
    "    return rankfunction"
   ]
  },
  {
   "cell_type": "code",
   "execution_count": 260,
   "metadata": {},
   "outputs": [
    {
     "name": "stdout",
     "output_type": "stream",
     "text": [
      "best score:  15858\n",
      "best score:  15858\n",
      "best score:  15858\n",
      "best score:  15858\n",
      "best score:  15858\n",
      "best score:  15858\n",
      "best score:  15858\n",
      "best score:  15858\n",
      "best score:  15858\n",
      "best score:  15858\n",
      "best score:  15858\n",
      "best score:  15858\n",
      "best score:  15858\n",
      "best score:  15858\n",
      "best score:  15858\n",
      "best score:  15858\n",
      "best score:  15858\n",
      "best score:  15858\n",
      "best score:  15858\n",
      "best score:  15858\n",
      "best score:  15858\n",
      "best score:  15858\n"
     ]
    },
    {
     "ename": "KeyboardInterrupt",
     "evalue": "",
     "output_type": "error",
     "traceback": [
      "\u001b[0;31m---------------------------------------------------------------------------\u001b[0m",
      "\u001b[0;31mKeyboardInterrupt\u001b[0m                         Traceback (most recent call last)",
      "\u001b[0;32m<ipython-input-260-ac1f0a3e74a2>\u001b[0m in \u001b[0;36m<module>\u001b[0;34m()\u001b[0m\n\u001b[1;32m      1\u001b[0m \u001b[0mrf\u001b[0m \u001b[0;34m=\u001b[0m \u001b[0mget_rank_function\u001b[0m\u001b[0;34m(\u001b[0m\u001b[0mbuild_hidden_set\u001b[0m\u001b[0;34m(\u001b[0m\u001b[0mhidden_function\u001b[0m\u001b[0;34m)\u001b[0m\u001b[0;34m)\u001b[0m\u001b[0;34m\u001b[0m\u001b[0m\n\u001b[1;32m      2\u001b[0m \u001b[0;34m\u001b[0m\u001b[0m\n\u001b[0;32m----> 3\u001b[0;31m \u001b[0mevolve\u001b[0m\u001b[0;34m(\u001b[0m\u001b[0;36m2\u001b[0m\u001b[0;34m,\u001b[0m \u001b[0;36m500\u001b[0m\u001b[0;34m,\u001b[0m \u001b[0mrf\u001b[0m\u001b[0;34m,\u001b[0m \u001b[0mp_mutation\u001b[0m\u001b[0;34m=\u001b[0m\u001b[0;36m0.1\u001b[0m\u001b[0;34m,\u001b[0m \u001b[0mp_crossover\u001b[0m\u001b[0;34m=\u001b[0m\u001b[0;36m0.5\u001b[0m\u001b[0;34m,\u001b[0m \u001b[0mexp\u001b[0m\u001b[0;34m=\u001b[0m\u001b[0;36m0.7\u001b[0m\u001b[0;34m,\u001b[0m \u001b[0mp_new\u001b[0m\u001b[0;34m=\u001b[0m\u001b[0;36m0.01\u001b[0m\u001b[0;34m)\u001b[0m\u001b[0;34m\u001b[0m\u001b[0m\n\u001b[0m",
      "\u001b[0;32m<ipython-input-258-baed905f8560>\u001b[0m in \u001b[0;36mevolve\u001b[0;34m(pc, pop_size, rank_function, max_gen, p_mutation, p_crossover, exp, p_new)\u001b[0m\n\u001b[1;32m     29\u001b[0m                 new_pop.append(mutate(crossover(scores[select_index()][1],\n\u001b[1;32m     30\u001b[0m                                                 \u001b[0mscores\u001b[0m\u001b[0;34m[\u001b[0m\u001b[0mselect_index\u001b[0m\u001b[0;34m(\u001b[0m\u001b[0;34m)\u001b[0m\u001b[0;34m]\u001b[0m\u001b[0;34m[\u001b[0m\u001b[0;36m1\u001b[0m\u001b[0;34m]\u001b[0m\u001b[0;34m,\u001b[0m\u001b[0;34m\u001b[0m\u001b[0m\n\u001b[0;32m---> 31\u001b[0;31m                                                 prob=p_crossover),\n\u001b[0m\u001b[1;32m     32\u001b[0m                                       \u001b[0mpc\u001b[0m\u001b[0;34m,\u001b[0m\u001b[0;34m\u001b[0m\u001b[0m\n\u001b[1;32m     33\u001b[0m                                       prob=p_mutation))\n",
      "\u001b[0;32m<ipython-input-254-37d4d13c6e82>\u001b[0m in \u001b[0;36mcrossover\u001b[0;34m(t1, t2, prob, top)\u001b[0m\n\u001b[1;32m     14\u001b[0m         \u001b[0;32mreturn\u001b[0m \u001b[0mcopy\u001b[0m\u001b[0;34m.\u001b[0m\u001b[0mdeepcopy\u001b[0m\u001b[0;34m(\u001b[0m\u001b[0mt2\u001b[0m\u001b[0;34m)\u001b[0m\u001b[0;34m\u001b[0m\u001b[0m\n\u001b[1;32m     15\u001b[0m     \u001b[0;32melse\u001b[0m\u001b[0;34m:\u001b[0m\u001b[0;34m\u001b[0m\u001b[0m\n\u001b[0;32m---> 16\u001b[0;31m         \u001b[0mresult\u001b[0m\u001b[0;34m=\u001b[0m\u001b[0mcopy\u001b[0m\u001b[0;34m.\u001b[0m\u001b[0mdeepcopy\u001b[0m\u001b[0;34m(\u001b[0m\u001b[0mt1\u001b[0m\u001b[0;34m)\u001b[0m\u001b[0;34m\u001b[0m\u001b[0m\n\u001b[0m\u001b[1;32m     17\u001b[0m     \u001b[0;32mif\u001b[0m \u001b[0mhasattr\u001b[0m\u001b[0;34m(\u001b[0m\u001b[0mt1\u001b[0m\u001b[0;34m,\u001b[0m\u001b[0;34m'children'\u001b[0m\u001b[0;34m)\u001b[0m \u001b[0;32mand\u001b[0m \u001b[0mhasattr\u001b[0m\u001b[0;34m(\u001b[0m\u001b[0mt2\u001b[0m\u001b[0;34m,\u001b[0m\u001b[0;34m'children'\u001b[0m\u001b[0;34m)\u001b[0m\u001b[0;34m:\u001b[0m\u001b[0;34m\u001b[0m\u001b[0m\n\u001b[1;32m     18\u001b[0m         result.children=[crossover(c,random.choice(t2.children),prob,0) \n",
      "\u001b[0;32m~/miniconda3/envs/collective-intelligence/lib/python3.6/copy.py\u001b[0m in \u001b[0;36mdeepcopy\u001b[0;34m(x, memo, _nil)\u001b[0m\n\u001b[1;32m    178\u001b[0m                     \u001b[0my\u001b[0m \u001b[0;34m=\u001b[0m \u001b[0mx\u001b[0m\u001b[0;34m\u001b[0m\u001b[0m\n\u001b[1;32m    179\u001b[0m                 \u001b[0;32melse\u001b[0m\u001b[0;34m:\u001b[0m\u001b[0;34m\u001b[0m\u001b[0m\n\u001b[0;32m--> 180\u001b[0;31m                     \u001b[0my\u001b[0m \u001b[0;34m=\u001b[0m \u001b[0m_reconstruct\u001b[0m\u001b[0;34m(\u001b[0m\u001b[0mx\u001b[0m\u001b[0;34m,\u001b[0m \u001b[0mmemo\u001b[0m\u001b[0;34m,\u001b[0m \u001b[0;34m*\u001b[0m\u001b[0mrv\u001b[0m\u001b[0;34m)\u001b[0m\u001b[0;34m\u001b[0m\u001b[0m\n\u001b[0m\u001b[1;32m    181\u001b[0m \u001b[0;34m\u001b[0m\u001b[0m\n\u001b[1;32m    182\u001b[0m     \u001b[0;31m# If is its own copy, don't memoize.\u001b[0m\u001b[0;34m\u001b[0m\u001b[0;34m\u001b[0m\u001b[0m\n",
      "\u001b[0;32m~/miniconda3/envs/collective-intelligence/lib/python3.6/copy.py\u001b[0m in \u001b[0;36m_reconstruct\u001b[0;34m(x, memo, func, args, state, listiter, dictiter, deepcopy)\u001b[0m\n\u001b[1;32m    278\u001b[0m     \u001b[0;32mif\u001b[0m \u001b[0mstate\u001b[0m \u001b[0;32mis\u001b[0m \u001b[0;32mnot\u001b[0m \u001b[0;32mNone\u001b[0m\u001b[0;34m:\u001b[0m\u001b[0;34m\u001b[0m\u001b[0m\n\u001b[1;32m    279\u001b[0m         \u001b[0;32mif\u001b[0m \u001b[0mdeep\u001b[0m\u001b[0;34m:\u001b[0m\u001b[0;34m\u001b[0m\u001b[0m\n\u001b[0;32m--> 280\u001b[0;31m             \u001b[0mstate\u001b[0m \u001b[0;34m=\u001b[0m \u001b[0mdeepcopy\u001b[0m\u001b[0;34m(\u001b[0m\u001b[0mstate\u001b[0m\u001b[0;34m,\u001b[0m \u001b[0mmemo\u001b[0m\u001b[0;34m)\u001b[0m\u001b[0;34m\u001b[0m\u001b[0m\n\u001b[0m\u001b[1;32m    281\u001b[0m         \u001b[0;32mif\u001b[0m \u001b[0mhasattr\u001b[0m\u001b[0;34m(\u001b[0m\u001b[0my\u001b[0m\u001b[0;34m,\u001b[0m \u001b[0;34m'__setstate__'\u001b[0m\u001b[0;34m)\u001b[0m\u001b[0;34m:\u001b[0m\u001b[0;34m\u001b[0m\u001b[0m\n\u001b[1;32m    282\u001b[0m             \u001b[0my\u001b[0m\u001b[0;34m.\u001b[0m\u001b[0m__setstate__\u001b[0m\u001b[0;34m(\u001b[0m\u001b[0mstate\u001b[0m\u001b[0;34m)\u001b[0m\u001b[0;34m\u001b[0m\u001b[0m\n",
      "\u001b[0;32m~/miniconda3/envs/collective-intelligence/lib/python3.6/copy.py\u001b[0m in \u001b[0;36mdeepcopy\u001b[0;34m(x, memo, _nil)\u001b[0m\n\u001b[1;32m    148\u001b[0m     \u001b[0mcopier\u001b[0m \u001b[0;34m=\u001b[0m \u001b[0m_deepcopy_dispatch\u001b[0m\u001b[0;34m.\u001b[0m\u001b[0mget\u001b[0m\u001b[0;34m(\u001b[0m\u001b[0mcls\u001b[0m\u001b[0;34m)\u001b[0m\u001b[0;34m\u001b[0m\u001b[0m\n\u001b[1;32m    149\u001b[0m     \u001b[0;32mif\u001b[0m \u001b[0mcopier\u001b[0m\u001b[0;34m:\u001b[0m\u001b[0;34m\u001b[0m\u001b[0m\n\u001b[0;32m--> 150\u001b[0;31m         \u001b[0my\u001b[0m \u001b[0;34m=\u001b[0m \u001b[0mcopier\u001b[0m\u001b[0;34m(\u001b[0m\u001b[0mx\u001b[0m\u001b[0;34m,\u001b[0m \u001b[0mmemo\u001b[0m\u001b[0;34m)\u001b[0m\u001b[0;34m\u001b[0m\u001b[0m\n\u001b[0m\u001b[1;32m    151\u001b[0m     \u001b[0;32melse\u001b[0m\u001b[0;34m:\u001b[0m\u001b[0;34m\u001b[0m\u001b[0m\n\u001b[1;32m    152\u001b[0m         \u001b[0;32mtry\u001b[0m\u001b[0;34m:\u001b[0m\u001b[0;34m\u001b[0m\u001b[0m\n",
      "\u001b[0;32m~/miniconda3/envs/collective-intelligence/lib/python3.6/copy.py\u001b[0m in \u001b[0;36m_deepcopy_dict\u001b[0;34m(x, memo, deepcopy)\u001b[0m\n\u001b[1;32m    238\u001b[0m     \u001b[0mmemo\u001b[0m\u001b[0;34m[\u001b[0m\u001b[0mid\u001b[0m\u001b[0;34m(\u001b[0m\u001b[0mx\u001b[0m\u001b[0;34m)\u001b[0m\u001b[0;34m]\u001b[0m \u001b[0;34m=\u001b[0m \u001b[0my\u001b[0m\u001b[0;34m\u001b[0m\u001b[0m\n\u001b[1;32m    239\u001b[0m     \u001b[0;32mfor\u001b[0m \u001b[0mkey\u001b[0m\u001b[0;34m,\u001b[0m \u001b[0mvalue\u001b[0m \u001b[0;32min\u001b[0m \u001b[0mx\u001b[0m\u001b[0;34m.\u001b[0m\u001b[0mitems\u001b[0m\u001b[0;34m(\u001b[0m\u001b[0;34m)\u001b[0m\u001b[0;34m:\u001b[0m\u001b[0;34m\u001b[0m\u001b[0m\n\u001b[0;32m--> 240\u001b[0;31m         \u001b[0my\u001b[0m\u001b[0;34m[\u001b[0m\u001b[0mdeepcopy\u001b[0m\u001b[0;34m(\u001b[0m\u001b[0mkey\u001b[0m\u001b[0;34m,\u001b[0m \u001b[0mmemo\u001b[0m\u001b[0;34m)\u001b[0m\u001b[0;34m]\u001b[0m \u001b[0;34m=\u001b[0m \u001b[0mdeepcopy\u001b[0m\u001b[0;34m(\u001b[0m\u001b[0mvalue\u001b[0m\u001b[0;34m,\u001b[0m \u001b[0mmemo\u001b[0m\u001b[0;34m)\u001b[0m\u001b[0;34m\u001b[0m\u001b[0m\n\u001b[0m\u001b[1;32m    241\u001b[0m     \u001b[0;32mreturn\u001b[0m \u001b[0my\u001b[0m\u001b[0;34m\u001b[0m\u001b[0m\n\u001b[1;32m    242\u001b[0m \u001b[0md\u001b[0m\u001b[0;34m[\u001b[0m\u001b[0mdict\u001b[0m\u001b[0;34m]\u001b[0m \u001b[0;34m=\u001b[0m \u001b[0m_deepcopy_dict\u001b[0m\u001b[0;34m\u001b[0m\u001b[0m\n",
      "\u001b[0;32m~/miniconda3/envs/collective-intelligence/lib/python3.6/copy.py\u001b[0m in \u001b[0;36mdeepcopy\u001b[0;34m(x, memo, _nil)\u001b[0m\n\u001b[1;32m    148\u001b[0m     \u001b[0mcopier\u001b[0m \u001b[0;34m=\u001b[0m \u001b[0m_deepcopy_dispatch\u001b[0m\u001b[0;34m.\u001b[0m\u001b[0mget\u001b[0m\u001b[0;34m(\u001b[0m\u001b[0mcls\u001b[0m\u001b[0;34m)\u001b[0m\u001b[0;34m\u001b[0m\u001b[0m\n\u001b[1;32m    149\u001b[0m     \u001b[0;32mif\u001b[0m \u001b[0mcopier\u001b[0m\u001b[0;34m:\u001b[0m\u001b[0;34m\u001b[0m\u001b[0m\n\u001b[0;32m--> 150\u001b[0;31m         \u001b[0my\u001b[0m \u001b[0;34m=\u001b[0m \u001b[0mcopier\u001b[0m\u001b[0;34m(\u001b[0m\u001b[0mx\u001b[0m\u001b[0;34m,\u001b[0m \u001b[0mmemo\u001b[0m\u001b[0;34m)\u001b[0m\u001b[0;34m\u001b[0m\u001b[0m\n\u001b[0m\u001b[1;32m    151\u001b[0m     \u001b[0;32melse\u001b[0m\u001b[0;34m:\u001b[0m\u001b[0;34m\u001b[0m\u001b[0m\n\u001b[1;32m    152\u001b[0m         \u001b[0;32mtry\u001b[0m\u001b[0;34m:\u001b[0m\u001b[0;34m\u001b[0m\u001b[0m\n",
      "\u001b[0;32m~/miniconda3/envs/collective-intelligence/lib/python3.6/copy.py\u001b[0m in \u001b[0;36m_deepcopy_list\u001b[0;34m(x, memo, deepcopy)\u001b[0m\n\u001b[1;32m    213\u001b[0m     \u001b[0mappend\u001b[0m \u001b[0;34m=\u001b[0m \u001b[0my\u001b[0m\u001b[0;34m.\u001b[0m\u001b[0mappend\u001b[0m\u001b[0;34m\u001b[0m\u001b[0m\n\u001b[1;32m    214\u001b[0m     \u001b[0;32mfor\u001b[0m \u001b[0ma\u001b[0m \u001b[0;32min\u001b[0m \u001b[0mx\u001b[0m\u001b[0;34m:\u001b[0m\u001b[0;34m\u001b[0m\u001b[0m\n\u001b[0;32m--> 215\u001b[0;31m         \u001b[0mappend\u001b[0m\u001b[0;34m(\u001b[0m\u001b[0mdeepcopy\u001b[0m\u001b[0;34m(\u001b[0m\u001b[0ma\u001b[0m\u001b[0;34m,\u001b[0m \u001b[0mmemo\u001b[0m\u001b[0;34m)\u001b[0m\u001b[0;34m)\u001b[0m\u001b[0;34m\u001b[0m\u001b[0m\n\u001b[0m\u001b[1;32m    216\u001b[0m     \u001b[0;32mreturn\u001b[0m \u001b[0my\u001b[0m\u001b[0;34m\u001b[0m\u001b[0m\n\u001b[1;32m    217\u001b[0m \u001b[0md\u001b[0m\u001b[0;34m[\u001b[0m\u001b[0mlist\u001b[0m\u001b[0;34m]\u001b[0m \u001b[0;34m=\u001b[0m \u001b[0m_deepcopy_list\u001b[0m\u001b[0;34m\u001b[0m\u001b[0m\n",
      "\u001b[0;32m~/miniconda3/envs/collective-intelligence/lib/python3.6/copy.py\u001b[0m in \u001b[0;36mdeepcopy\u001b[0;34m(x, memo, _nil)\u001b[0m\n\u001b[1;32m    178\u001b[0m                     \u001b[0my\u001b[0m \u001b[0;34m=\u001b[0m \u001b[0mx\u001b[0m\u001b[0;34m\u001b[0m\u001b[0m\n\u001b[1;32m    179\u001b[0m                 \u001b[0;32melse\u001b[0m\u001b[0;34m:\u001b[0m\u001b[0;34m\u001b[0m\u001b[0m\n\u001b[0;32m--> 180\u001b[0;31m                     \u001b[0my\u001b[0m \u001b[0;34m=\u001b[0m \u001b[0m_reconstruct\u001b[0m\u001b[0;34m(\u001b[0m\u001b[0mx\u001b[0m\u001b[0;34m,\u001b[0m \u001b[0mmemo\u001b[0m\u001b[0;34m,\u001b[0m \u001b[0;34m*\u001b[0m\u001b[0mrv\u001b[0m\u001b[0;34m)\u001b[0m\u001b[0;34m\u001b[0m\u001b[0m\n\u001b[0m\u001b[1;32m    181\u001b[0m \u001b[0;34m\u001b[0m\u001b[0m\n\u001b[1;32m    182\u001b[0m     \u001b[0;31m# If is its own copy, don't memoize.\u001b[0m\u001b[0;34m\u001b[0m\u001b[0;34m\u001b[0m\u001b[0m\n",
      "\u001b[0;32m~/miniconda3/envs/collective-intelligence/lib/python3.6/copy.py\u001b[0m in \u001b[0;36m_reconstruct\u001b[0;34m(x, memo, func, args, state, listiter, dictiter, deepcopy)\u001b[0m\n\u001b[1;32m    272\u001b[0m     \u001b[0;32mif\u001b[0m \u001b[0mdeep\u001b[0m \u001b[0;32mand\u001b[0m \u001b[0margs\u001b[0m\u001b[0;34m:\u001b[0m\u001b[0;34m\u001b[0m\u001b[0m\n\u001b[1;32m    273\u001b[0m         \u001b[0margs\u001b[0m \u001b[0;34m=\u001b[0m \u001b[0;34m(\u001b[0m\u001b[0mdeepcopy\u001b[0m\u001b[0;34m(\u001b[0m\u001b[0marg\u001b[0m\u001b[0;34m,\u001b[0m \u001b[0mmemo\u001b[0m\u001b[0;34m)\u001b[0m \u001b[0;32mfor\u001b[0m \u001b[0marg\u001b[0m \u001b[0;32min\u001b[0m \u001b[0margs\u001b[0m\u001b[0;34m)\u001b[0m\u001b[0;34m\u001b[0m\u001b[0m\n\u001b[0;32m--> 274\u001b[0;31m     \u001b[0my\u001b[0m \u001b[0;34m=\u001b[0m \u001b[0mfunc\u001b[0m\u001b[0;34m(\u001b[0m\u001b[0;34m*\u001b[0m\u001b[0margs\u001b[0m\u001b[0;34m)\u001b[0m\u001b[0;34m\u001b[0m\u001b[0m\n\u001b[0m\u001b[1;32m    275\u001b[0m     \u001b[0;32mif\u001b[0m \u001b[0mdeep\u001b[0m\u001b[0;34m:\u001b[0m\u001b[0;34m\u001b[0m\u001b[0m\n\u001b[1;32m    276\u001b[0m         \u001b[0mmemo\u001b[0m\u001b[0;34m[\u001b[0m\u001b[0mid\u001b[0m\u001b[0;34m(\u001b[0m\u001b[0mx\u001b[0m\u001b[0;34m)\u001b[0m\u001b[0;34m]\u001b[0m \u001b[0;34m=\u001b[0m \u001b[0my\u001b[0m\u001b[0;34m\u001b[0m\u001b[0m\n",
      "\u001b[0;32m~/miniconda3/envs/collective-intelligence/lib/python3.6/copy.py\u001b[0m in \u001b[0;36m<genexpr>\u001b[0;34m(.0)\u001b[0m\n\u001b[1;32m    271\u001b[0m     \u001b[0mdeep\u001b[0m \u001b[0;34m=\u001b[0m \u001b[0mmemo\u001b[0m \u001b[0;32mis\u001b[0m \u001b[0;32mnot\u001b[0m \u001b[0;32mNone\u001b[0m\u001b[0;34m\u001b[0m\u001b[0m\n\u001b[1;32m    272\u001b[0m     \u001b[0;32mif\u001b[0m \u001b[0mdeep\u001b[0m \u001b[0;32mand\u001b[0m \u001b[0margs\u001b[0m\u001b[0;34m:\u001b[0m\u001b[0;34m\u001b[0m\u001b[0m\n\u001b[0;32m--> 273\u001b[0;31m         \u001b[0margs\u001b[0m \u001b[0;34m=\u001b[0m \u001b[0;34m(\u001b[0m\u001b[0mdeepcopy\u001b[0m\u001b[0;34m(\u001b[0m\u001b[0marg\u001b[0m\u001b[0;34m,\u001b[0m \u001b[0mmemo\u001b[0m\u001b[0;34m)\u001b[0m \u001b[0;32mfor\u001b[0m \u001b[0marg\u001b[0m \u001b[0;32min\u001b[0m \u001b[0margs\u001b[0m\u001b[0;34m)\u001b[0m\u001b[0;34m\u001b[0m\u001b[0m\n\u001b[0m\u001b[1;32m    274\u001b[0m     \u001b[0my\u001b[0m \u001b[0;34m=\u001b[0m \u001b[0mfunc\u001b[0m\u001b[0;34m(\u001b[0m\u001b[0;34m*\u001b[0m\u001b[0margs\u001b[0m\u001b[0;34m)\u001b[0m\u001b[0;34m\u001b[0m\u001b[0m\n\u001b[1;32m    275\u001b[0m     \u001b[0;32mif\u001b[0m \u001b[0mdeep\u001b[0m\u001b[0;34m:\u001b[0m\u001b[0;34m\u001b[0m\u001b[0m\n",
      "\u001b[0;32m~/miniconda3/envs/collective-intelligence/lib/python3.6/copy.py\u001b[0m in \u001b[0;36mdeepcopy\u001b[0;34m(x, memo, _nil)\u001b[0m\n\u001b[1;32m    146\u001b[0m     \u001b[0mcls\u001b[0m \u001b[0;34m=\u001b[0m \u001b[0mtype\u001b[0m\u001b[0;34m(\u001b[0m\u001b[0mx\u001b[0m\u001b[0;34m)\u001b[0m\u001b[0;34m\u001b[0m\u001b[0m\n\u001b[1;32m    147\u001b[0m \u001b[0;34m\u001b[0m\u001b[0m\n\u001b[0;32m--> 148\u001b[0;31m     \u001b[0mcopier\u001b[0m \u001b[0;34m=\u001b[0m \u001b[0m_deepcopy_dispatch\u001b[0m\u001b[0;34m.\u001b[0m\u001b[0mget\u001b[0m\u001b[0;34m(\u001b[0m\u001b[0mcls\u001b[0m\u001b[0;34m)\u001b[0m\u001b[0;34m\u001b[0m\u001b[0m\n\u001b[0m\u001b[1;32m    149\u001b[0m     \u001b[0;32mif\u001b[0m \u001b[0mcopier\u001b[0m\u001b[0;34m:\u001b[0m\u001b[0;34m\u001b[0m\u001b[0m\n\u001b[1;32m    150\u001b[0m         \u001b[0my\u001b[0m \u001b[0;34m=\u001b[0m \u001b[0mcopier\u001b[0m\u001b[0;34m(\u001b[0m\u001b[0mx\u001b[0m\u001b[0;34m,\u001b[0m \u001b[0mmemo\u001b[0m\u001b[0;34m)\u001b[0m\u001b[0;34m\u001b[0m\u001b[0m\n",
      "\u001b[0;31mKeyboardInterrupt\u001b[0m: "
     ]
    }
   ],
   "source": [
    "rf = get_rank_function(build_hidden_set(hidden_function))\n",
    "\n",
    "evolve(2, 500, rf, p_mutation=0.1, p_crossover=0.5, exp=0.7, p_new=0.01)"
   ]
  },
  {
   "cell_type": "code",
   "execution_count": null,
   "metadata": {
    "collapsed": true
   },
   "outputs": [],
   "source": [
    "import gp"
   ]
  },
  {
   "cell_type": "code",
   "execution_count": null,
   "metadata": {},
   "outputs": [],
   "source": [
    "rf=gp.getrankfunction(gp.buildhiddenset())\n",
    "gp.evolve(2, 500, rf, mutationrate=0.1, breedingrate=0.1, pexp=0.7, pnew=0.01)"
   ]
  },
  {
   "cell_type": "code",
   "execution_count": null,
   "metadata": {
    "collapsed": true
   },
   "outputs": [],
   "source": []
  }
 ],
 "metadata": {
  "kernelspec": {
   "display_name": "Python 3",
   "language": "python",
   "name": "python3"
  },
  "language_info": {
   "codemirror_mode": {
    "name": "ipython",
    "version": 3
   },
   "file_extension": ".py",
   "mimetype": "text/x-python",
   "name": "python",
   "nbconvert_exporter": "python",
   "pygments_lexer": "ipython3",
   "version": "3.6.2"
  }
 },
 "nbformat": 4,
 "nbformat_minor": 2
}

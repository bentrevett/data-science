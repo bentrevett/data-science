{
 "cells": [
  {
   "cell_type": "code",
   "execution_count": 7,
   "metadata": {
    "collapsed": true
   },
   "outputs": [],
   "source": [
    "#http://anytree.readthedocs.io/en/latest/api.html\n",
    "import anytree \n",
    "\n",
    "udo = anytree.Node(\"Udo\")\n",
    "marc = anytree.Node(\"Marc\", parent=udo)\n",
    "lian = anytree.Node(\"Lian\", parent=marc)\n",
    "dan = anytree.Node(\"Dan\", parent=udo)\n",
    "jet = anytree.Node(\"Jet\", parent=dan)\n",
    "jan = anytree.Node(\"Jan\", parent=dan)\n",
    "joe = anytree.Node(\"Joe\", parent=dan)"
   ]
  },
  {
   "cell_type": "code",
   "execution_count": 8,
   "metadata": {},
   "outputs": [
    {
     "name": "stdout",
     "output_type": "stream",
     "text": [
      "Udo\n",
      "├── Marc\n",
      "│   └── Lian\n",
      "└── Dan\n",
      "    ├── Jet\n",
      "    ├── Jan\n",
      "    └── Joe\n"
     ]
    }
   ],
   "source": [
    "for pre, fill, node in RenderTree(udo):\n",
    "    print(\"%s%s\" % (pre, node.name))"
   ]
  },
  {
   "cell_type": "code",
   "execution_count": 9,
   "metadata": {},
   "outputs": [],
   "source": [
    "class CodeNode(anytree.NodeMixin):\n",
    "    def __init__(self, data, parent=None):\n",
    "        super(CodeNode, self).__init__()\n",
    "        \n",
    "        self.function=fw.function\n",
    "        self.data = data\n",
    "        self.parent = parent\n",
    "    \n",
    "    def evaluate(self, inp):\n",
    "        results = [n.evaluate(inp) for n in self.children]\n",
    "        return self.function(results)"
   ]
  },
  {
   "cell_type": "code",
   "execution_count": 63,
   "metadata": {},
   "outputs": [],
   "source": [
    "class FWrapper:\n",
    "    def __init__(self,function,child_count,name):\n",
    "        self.function=function\n",
    "        self.child_count=child_count\n",
    "        self.name=name\n",
    "\n",
    "class Node(anytree.NodeMixin):\n",
    "    def __init__(self,fw,children,parent=None):\n",
    "        super(Node, self).__init__()\n",
    "        self.function=fw.function\n",
    "        self.name=fw.name\n",
    "        self.children=children\n",
    "        self.parent=parent\n",
    "\n",
    "    def evaluate(self,inp):    \n",
    "        results=[n.evaluate(inp) for n in self.children]\n",
    "        return self.function(results)\n",
    "    \n",
    "    def display(self,indent=0):\n",
    "        print((' '*indent)+self.name)\n",
    "    \n",
    "        for c in self.children:\n",
    "            c.display(indent+1)\n",
    "\n",
    "class VarNode(anytree.NodeMixin):\n",
    "    def __init__(self, idx, parent=None):\n",
    "        super(VarNode, self).__init__()\n",
    "        self.idx = idx\n",
    "        self.name=\"v{}\".format(idx)\n",
    "        self.parent = parent\n",
    "    def evaluate(self,inp):\n",
    "        return inp[self.idx]\n",
    "    def display(self,indent=0):\n",
    "        print('%sp%d' % (' '*indent,self.idx))\n",
    "    \n",
    "    \n",
    "class ConstNode(anytree.NodeMixin):\n",
    "    def __init__(self, value, parent=None):\n",
    "        super(ConstNode, self).__init__()\n",
    "        self.value= value\n",
    "        self.name= \"c{}\".format(value)\n",
    "        self.parent = parent\n",
    "    def evaluate(self, inp):\n",
    "        return self.value\n",
    "    def display(self,indent=0):\n",
    "        print('%s%d' % (' '*indent,self.value))"
   ]
  },
  {
   "cell_type": "code",
   "execution_count": 64,
   "metadata": {
    "collapsed": true
   },
   "outputs": [],
   "source": [
    "add_w=FWrapper(lambda l:l[0]+l[1],2,'add')\n",
    "sub_w=FWrapper(lambda l:l[0]-l[1],2,'sub') \n",
    "mul_w=FWrapper(lambda l:l[0]*l[1],2,'mul')\n",
    "\n",
    "def if_func(l):\n",
    "    if l[0]>0: return l[1]\n",
    "    else: return l[2]\n",
    "\n",
    "if_w = FWrapper(if_func,3,'if')\n",
    "\n",
    "def gt_func(l):\n",
    "    if l[0]>l[1]: return 1\n",
    "    else: return 0\n",
    "    \n",
    "gt_w = FWrapper(gt_func,2,'gt')\n",
    "\n",
    "def lt_func(l):\n",
    "    if l[0]>l[1]: return 1\n",
    "    else: return 0\n",
    "    \n",
    "lt_w = FWrapper(lt_func,2,'lt')\n",
    "\n",
    "f_list=[add_w, sub_w, mul_w, if_w, gt_w, lt_w]"
   ]
  },
  {
   "cell_type": "code",
   "execution_count": 65,
   "metadata": {},
   "outputs": [],
   "source": [
    "example_tree = Node(if_w,[\n",
    "                    Node(gt_w,[ParamNode(0),ConstNode(3)]),\n",
    "                    Node(add_w,[ParamNode(1),ConstNode(5)]),\n",
    "                    Node(sub_w,[ParamNode(1),ConstNode(2)]),\n",
    "                    ]\n",
    "               )"
   ]
  },
  {
   "cell_type": "code",
   "execution_count": 66,
   "metadata": {},
   "outputs": [
    {
     "data": {
      "text/plain": [
       "1"
      ]
     },
     "execution_count": 66,
     "metadata": {},
     "output_type": "execute_result"
    }
   ],
   "source": [
    "example_tree.evaluate([2,3])"
   ]
  },
  {
   "cell_type": "code",
   "execution_count": 69,
   "metadata": {},
   "outputs": [
    {
     "name": "stdout",
     "output_type": "stream",
     "text": [
      "if\n",
      " gt\n",
      "  p0\n",
      "  3\n",
      " add\n",
      "  p1\n",
      "  5\n",
      " sub\n",
      "  p1\n",
      "  2\n"
     ]
    }
   ],
   "source": [
    "#f(x,y) -> if x > 3: \n",
    "#            return y+5\n",
    "#          else:\n",
    "#            return y-2\n",
    "\n",
    "example_tree.display()"
   ]
  },
  {
   "cell_type": "code",
   "execution_count": 68,
   "metadata": {},
   "outputs": [
    {
     "name": "stdout",
     "output_type": "stream",
     "text": [
      "p0\n",
      "c3\n",
      "p1\n",
      "c5\n",
      "p1\n",
      "c2\n"
     ]
    }
   ],
   "source": []
  },
  {
   "cell_type": "code",
   "execution_count": null,
   "metadata": {
    "collapsed": true
   },
   "outputs": [],
   "source": []
  },
  {
   "cell_type": "code",
   "execution_count": null,
   "metadata": {
    "collapsed": true
   },
   "outputs": [],
   "source": []
  }
 ],
 "metadata": {
  "kernelspec": {
   "display_name": "Python 3",
   "language": "python",
   "name": "python3"
  },
  "language_info": {
   "codemirror_mode": {
    "name": "ipython",
    "version": 3
   },
   "file_extension": ".py",
   "mimetype": "text/x-python",
   "name": "python",
   "nbconvert_exporter": "python",
   "pygments_lexer": "ipython3",
   "version": "3.6.2"
  }
 },
 "nbformat": 4,
 "nbformat_minor": 2
}

{
 "cells": [
  {
   "cell_type": "code",
   "execution_count": 1,
   "metadata": {
    "collapsed": true
   },
   "outputs": [],
   "source": [
    "#http://anytree.readthedocs.io/en/latest/api.html\n",
    "import anytree \n",
    "\n",
    "udo = anytree.Node(\"Udo\")\n",
    "marc = anytree.Node(\"Marc\", parent=udo)\n",
    "lian = anytree.Node(\"Lian\", parent=marc)\n",
    "dan = anytree.Node(\"Dan\", parent=udo)\n",
    "jet = anytree.Node(\"Jet\", parent=dan)\n",
    "jan = anytree.Node(\"Jan\", parent=dan)\n",
    "joe = anytree.Node(\"Joe\", parent=dan)"
   ]
  },
  {
   "cell_type": "code",
   "execution_count": null,
   "metadata": {},
   "outputs": [],
   "source": []
  },
  {
   "cell_type": "code",
   "execution_count": null,
   "metadata": {},
   "outputs": [],
   "source": []
  },
  {
   "cell_type": "code",
   "execution_count": 2,
   "metadata": {},
   "outputs": [],
   "source": [
    "class FWrapper:\n",
    "    def __init__(self,function,child_count,name):\n",
    "        self.function=function\n",
    "        self.child_count=child_count\n",
    "        self.name=name\n",
    "\n",
    "class Node(anytree.NodeMixin):\n",
    "    def __init__(self,fw,children,parent=None):\n",
    "        super(Node, self).__init__()\n",
    "        self.function=fw.function\n",
    "        self.name=fw.name\n",
    "        self.children=children\n",
    "        self.parent=parent\n",
    "        self.visited = False\n",
    "    def evaluate(self,inp):    \n",
    "        results=[n.evaluate(inp) for n in self.children]\n",
    "        return self.function(results)\n",
    "    \n",
    "    def display(self,indent=0):\n",
    "        print((' '*indent)+self.name)\n",
    "    \n",
    "        for c in self.children:\n",
    "            c.display(indent+1)\n",
    "\n",
    "class VarNode(anytree.NodeMixin):\n",
    "    def __init__(self, idx, parent=None):\n",
    "        super(VarNode, self).__init__()\n",
    "        self.idx = idx\n",
    "        self.name=\"v{}\".format(idx)\n",
    "        self.parent = parent\n",
    "        self.visited = False\n",
    "    def evaluate(self,inp):\n",
    "        return inp[self.idx]\n",
    "    def display(self,indent=0):\n",
    "        print('%sv%d' % (' '*indent,self.idx))\n",
    "    \n",
    "    \n",
    "class ConstNode(anytree.NodeMixin):\n",
    "    def __init__(self, value, parent=None):\n",
    "        super(ConstNode, self).__init__()\n",
    "        self.value= value\n",
    "        self.name= \"c{}\".format(value)\n",
    "        self.parent = parent\n",
    "        self.visited = False\n",
    "    def evaluate(self, inp):\n",
    "        return self.value\n",
    "    def display(self,indent=0):\n",
    "        print('%sc%d' % (' '*indent,self.value))"
   ]
  },
  {
   "cell_type": "code",
   "execution_count": 3,
   "metadata": {
    "collapsed": true
   },
   "outputs": [],
   "source": [
    "add_w=FWrapper(lambda l:l[0]+l[1],2,'add')\n",
    "sub_w=FWrapper(lambda l:l[0]-l[1],2,'sub') \n",
    "mul_w=FWrapper(lambda l:l[0]*l[1],2,'mul')\n",
    "\n",
    "def if_func(l):\n",
    "    if l[0]>0: return l[1]\n",
    "    else: return l[2]\n",
    "\n",
    "if_w = FWrapper(if_func,3,'if')\n",
    "\n",
    "def gt_func(l):\n",
    "    if l[0]>l[1]: return 1\n",
    "    else: return 0\n",
    "    \n",
    "gt_w = FWrapper(gt_func,2,'gt')\n",
    "\n",
    "def lt_func(l):\n",
    "    if l[0]>l[1]: return 1\n",
    "    else: return 0\n",
    "    \n",
    "lt_w = FWrapper(lt_func,2,'lt')\n",
    "\n",
    "f_list=[add_w, sub_w, mul_w, if_w, gt_w, lt_w]"
   ]
  },
  {
   "cell_type": "code",
   "execution_count": 4,
   "metadata": {},
   "outputs": [],
   "source": [
    "example_tree = Node(if_w,[\n",
    "                    Node(gt_w,[VarNode(0),ConstNode(3)]),\n",
    "                    Node(add_w,[VarNode(1),ConstNode(5)]),\n",
    "                    Node(sub_w,[VarNode(1),ConstNode(2)]),\n",
    "                    ]\n",
    "               )"
   ]
  },
  {
   "cell_type": "code",
   "execution_count": 5,
   "metadata": {},
   "outputs": [
    {
     "data": {
      "text/plain": [
       "1"
      ]
     },
     "execution_count": 5,
     "metadata": {},
     "output_type": "execute_result"
    }
   ],
   "source": [
    "example_tree.evaluate([2,3])"
   ]
  },
  {
   "cell_type": "code",
   "execution_count": 6,
   "metadata": {},
   "outputs": [
    {
     "name": "stdout",
     "output_type": "stream",
     "text": [
      "if\n",
      " gt\n",
      "  v0\n",
      "  c3\n",
      " add\n",
      "  v1\n",
      "  c5\n",
      " sub\n",
      "  v1\n",
      "  c2\n"
     ]
    }
   ],
   "source": [
    "#f(x,y) -> if x > 3: \n",
    "#            return y+5\n",
    "#          else:\n",
    "#            return y-2\n",
    "\n",
    "example_tree.display()"
   ]
  },
  {
   "cell_type": "code",
   "execution_count": null,
   "metadata": {},
   "outputs": [],
   "source": []
  },
  {
   "cell_type": "code",
   "execution_count": 13,
   "metadata": {},
   "outputs": [],
   "source": [
    "def DFS_print(tree):\n",
    "    \"\"\"\n",
    "    Depth First Search\n",
    "    \"\"\"\n",
    "    name = tree.name\n",
    "    try:\n",
    "        parent = tree.parent.name\n",
    "    except:\n",
    "        parent = 'root'\n",
    "    children = [c.name for c in tree.children]\n",
    "    if len(children)==0:\n",
    "        children = ['leaf']\n",
    "    print(\"name: {:5}  parent: {:5}  children: {}\".format(name, parent, children))\n",
    "    tree.visited = True\n",
    "    for c in tree.children:\n",
    "        if c.visited == False:\n",
    "            DFS_print(c)"
   ]
  },
  {
   "cell_type": "code",
   "execution_count": 14,
   "metadata": {},
   "outputs": [
    {
     "name": "stdout",
     "output_type": "stream",
     "text": [
      "name: if     parent: root   children: ['gt', 'add', 'sub']\n",
      "name: gt     parent: if     children: ['v0', 'c3']\n",
      "name: v0     parent: gt     children: ['leaf']\n",
      "name: c3     parent: gt     children: ['leaf']\n",
      "name: add    parent: if     children: ['v1', 'c5']\n",
      "name: v1     parent: add    children: ['leaf']\n",
      "name: c5     parent: add    children: ['leaf']\n",
      "name: sub    parent: if     children: ['v1', 'c2']\n",
      "name: v1     parent: sub    children: ['leaf']\n",
      "name: c2     parent: sub    children: ['leaf']\n"
     ]
    }
   ],
   "source": [
    "example_tree = Node(if_w,[\n",
    "                    Node(gt_w,[VarNode(0),ConstNode(3)]),\n",
    "                    Node(add_w,[VarNode(1),ConstNode(5)]),\n",
    "                    Node(sub_w,[VarNode(1),ConstNode(2)]),\n",
    "                    ]\n",
    "               )\n",
    "\n",
    "DFS_print(example_tree)"
   ]
  },
  {
   "cell_type": "code",
   "execution_count": 15,
   "metadata": {},
   "outputs": [],
   "source": [
    "def tree_to_sequence(tree, seq=''):\n",
    "    name = tree.name\n",
    "    if len(tree.children)>0:\n",
    "        name+=' ( '\n",
    "    else:\n",
    "        name+=' , '\n",
    "    seq += name\n",
    "    tree.visited = True\n",
    "    for c in tree.children:\n",
    "        if c.visited == False:\n",
    "            seq += tree_to_sequence(c)\n",
    "    if len(tree.children)>0:\n",
    "        seq += ' ) , '\n",
    "    return seq"
   ]
  },
  {
   "cell_type": "code",
   "execution_count": 16,
   "metadata": {},
   "outputs": [
    {
     "data": {
      "text/plain": [
       "'if ( gt ( v0 , c3 ,  ) , add ( v1 , c5 ,  ) , sub ( v1 , c2 ,  ) ,  ) , '"
      ]
     },
     "execution_count": 16,
     "metadata": {},
     "output_type": "execute_result"
    }
   ],
   "source": [
    "example_tree = Node(if_w,[\n",
    "                    Node(gt_w,[VarNode(0),ConstNode(3)]),\n",
    "                    Node(add_w,[VarNode(1),ConstNode(5)]),\n",
    "                    Node(sub_w,[VarNode(1),ConstNode(2)]),\n",
    "                    ]\n",
    "               )\n",
    "\n",
    "tree_to_sequence(example_tree)"
   ]
  },
  {
   "cell_type": "code",
   "execution_count": 17,
   "metadata": {},
   "outputs": [],
   "source": [
    "example_tree = Node(if_w,[\n",
    "                    Node(gt_w,[VarNode(0),ConstNode(3)]),\n",
    "                    Node(add_w,[VarNode(1),ConstNode(5)]),\n",
    "                    Node(sub_w,[VarNode(1),ConstNode(2)]),\n",
    "                    ]\n",
    "               )\n",
    "\n",
    "def return_sequence(example_tree):\n",
    "    sequence = tree_to_sequence(example_tree)\n",
    "    sequence = sequence.split()\n",
    "    for i, s in enumerate(sequence):\n",
    "        if i<(len(sequence)-1) and sequence[i]==',' and sequence[i+1]==')':\n",
    "            del sequence[i]\n",
    "        if sequence[-1]==',':\n",
    "            del sequence[-1]\n",
    "    return ' '.join(sequence)"
   ]
  },
  {
   "cell_type": "code",
   "execution_count": 18,
   "metadata": {},
   "outputs": [
    {
     "data": {
      "text/plain": [
       "'if ( gt ( v0 , c3 ) , add ( v1 , c5 ) , sub ( v1 , c2 ) )'"
      ]
     },
     "execution_count": 18,
     "metadata": {},
     "output_type": "execute_result"
    }
   ],
   "source": [
    "return_sequence(example_tree)"
   ]
  },
  {
   "cell_type": "code",
   "execution_count": null,
   "metadata": {
    "collapsed": true
   },
   "outputs": [],
   "source": []
  }
 ],
 "metadata": {
  "kernelspec": {
   "display_name": "Python 3",
   "language": "python",
   "name": "python3"
  },
  "language_info": {
   "codemirror_mode": {
    "name": "ipython",
    "version": 3
   },
   "file_extension": ".py",
   "mimetype": "text/x-python",
   "name": "python",
   "nbconvert_exporter": "python",
   "pygments_lexer": "ipython3",
   "version": "3.6.2"
  }
 },
 "nbformat": 4,
 "nbformat_minor": 2
}

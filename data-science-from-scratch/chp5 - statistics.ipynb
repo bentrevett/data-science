{
 "cells": [
  {
   "cell_type": "code",
   "execution_count": 2,
   "metadata": {},
   "outputs": [
    {
     "data": {
      "text/plain": [
       "<matplotlib.figure.Figure at 0x7fdc49eb2a58>"
      ]
     },
     "metadata": {},
     "output_type": "display_data"
    }
   ],
   "source": [
    "#want to see number of friends people have on average\n",
    "\n",
    "import collections\n",
    "import matplotlib.pyplot as plt\n",
    "\n",
    "num_friends = [100,49,41,40,25,21,21,19,19,18,18,16,15,15,15,15,14,14,13,13,13,13,12,12,11,10,10,10,10,10,10,10,10,10,10,10,10,10,10,10,9,9,9,9,9,9,9,9,9,9,9,9,9,9,9,9,9,9,8,8,8,8,8,8,8,8,8,8,8,8,8,7,7,7,7,7,7,7,7,7,7,7,7,7,7,7,6,6,6,6,6,6,6,6,6,6,6,6,6,6,6,6,6,6,6,6,6,6,5,5,5,5,5,5,5,5,5,5,5,5,5,5,5,5,5,4,4,4,4,4,4,4,4,4,4,4,4,4,4,4,4,4,4,4,4,3,3,3,3,3,3,3,3,3,3,3,3,3,3,3,3,3,3,3,3,2,2,2,2,2,2,2,2,2,2,2,2,2,2,2,2,2,1,1,1,1,1,1,1,1,1,1,1,1,1,1,1,1,1,1,1,1,1,1]\n",
    "\n",
    "friend_counts = collections.Counter(num_friends)\n",
    "xs = range(101)\n",
    "ys = [friend_counts[x] for x in xs]\n",
    "plt.bar(xs, ys)\n",
    "plt.axis([0, 101, 0, 25])\n",
    "plt.title(\"Histogram of Friend Counts\")\n",
    "plt.xlabel(\"# of friends\")\n",
    "plt.ylabel('# of people')\n",
    "plt.show()"
   ]
  },
  {
   "cell_type": "code",
   "execution_count": 3,
   "metadata": {},
   "outputs": [],
   "source": [
    "#still quite difficult to talk about over a conversation\n",
    "#need to generate some statistics\n",
    "\n",
    "num_points = len(num_friends)\n",
    "largest_value = max(num_friends)\n",
    "smallest_value = min(num_friends)\n",
    "sorted_values = sorted(num_friends)"
   ]
  },
  {
   "cell_type": "code",
   "execution_count": 4,
   "metadata": {},
   "outputs": [
    {
     "name": "stdout",
     "output_type": "stream",
     "text": [
      "7.333333333333333\n"
     ]
    }
   ],
   "source": [
    "#want notion of where our data is centered using mean\n",
    "\n",
    "def mean(x):\n",
    "    return sum(x) / len(x)\n",
    "\n",
    "print(mean(num_friends))"
   ]
  },
  {
   "cell_type": "code",
   "execution_count": 6,
   "metadata": {},
   "outputs": [
    {
     "name": "stdout",
     "output_type": "stream",
     "text": [
      "6.0\n"
     ]
    }
   ],
   "source": [
    "#the median is the middle-most value (for odd number of points) or average\n",
    "#of the two middle values (for even number of points)\n",
    "#unlike mean, doesn't depend on every data point in the data, i.e if the largest\n",
    "#value gets larger or smallest gets smaller, then doesn't change the median\n",
    "\n",
    "def median(v):\n",
    "    \"\"\"finds middle-most value of v\"\"\"\n",
    "    n = len(v)\n",
    "    sorted_v = sorted(v)\n",
    "    midpoint = n // 2\n",
    "    \n",
    "    if n%2 == 1:\n",
    "        #if odd, return middle value\n",
    "        return sorted_v[midpoint]\n",
    "    \n",
    "    else:\n",
    "        #if even return average of middle values\n",
    "        lo = midpoint - 1\n",
    "        hi = midpoint\n",
    "        return (sorted_v[lo] + sorted_v[hi]) / 2\n",
    "\n",
    "print(median(num_friends))"
   ]
  },
  {
   "cell_type": "code",
   "execution_count": 19,
   "metadata": {},
   "outputs": [
    {
     "name": "stdout",
     "output_type": "stream",
     "text": [
      "6\n",
      "1\n",
      "3\n",
      "9\n",
      "13\n"
     ]
    }
   ],
   "source": [
    "#mean is good as it is easier to compute and varies smoothly as data changes\n",
    "#if one data point changes by e, then the mean changes by e/n\n",
    "#however the median relies sorting data, and changing a point by e might not\n",
    "#even change the median at all\n",
    "\n",
    "#however the mean is sensitive to outliers in our data\n",
    "#i.e. if a new person was added to the data with 200 friends then the mean increases\n",
    "\n",
    "#a generalization of the median is the `quantile`, represents values less than\n",
    "#which a certain percentile of the data lies\n",
    "#the median represents the value less than which 50% of the data lies\n",
    "\n",
    "def quantile(x, p):\n",
    "    \"\"\"returns the p-th-percentile value in x\"\"\"\n",
    "    p_index = int(p*len(x))\n",
    "    return sorted(x)[p_index]\n",
    "\n",
    "print(quantile(num_friends, 0.5))\n",
    "print(quantile(num_friends, 0.1))\n",
    "print(quantile(num_friends, 0.25))\n",
    "print(quantile(num_friends, 0.75))\n",
    "print(quantile(num_friends, 0.9))"
   ]
  },
  {
   "cell_type": "code",
   "execution_count": 34,
   "metadata": {},
   "outputs": [
    {
     "name": "stdout",
     "output_type": "stream",
     "text": [
      "[6, 1]\n"
     ]
    }
   ],
   "source": [
    "#mode is the most common value\n",
    "def mode(x):\n",
    "    \"\"\"returns a list as might be more than one mode\"\"\"\n",
    "    counts = collections.Counter(x) #counts is a dict of value: n_appearances\n",
    "    max_count = max(counts.values())\n",
    "    return [x_i for (x_i, count) in counts.items() if count == max_count]\n",
    "\n",
    "print(mode(num_friends))"
   ]
  },
  {
   "cell_type": "code",
   "execution_count": 28,
   "metadata": {},
   "outputs": [
    {
     "name": "stdout",
     "output_type": "stream",
     "text": [
      "99\n"
     ]
    }
   ],
   "source": [
    "#dispersion is how spread out the data is\n",
    "#values near 0 mean not spread out at all\n",
    "#large values mean very spread out\n",
    "\n",
    "#simplest is the range, different between largest and smallest points\n",
    "def data_range(x):\n",
    "    return max(x) - min(x)\n",
    "\n",
    "print(data_range(num_friends))"
   ]
  },
  {
   "cell_type": "code",
   "execution_count": 30,
   "metadata": {},
   "outputs": [
    {
     "name": "stdout",
     "output_type": "stream",
     "text": [
      "81.54351395730716\n"
     ]
    }
   ],
   "source": [
    "#a more complex measure of dispersion is the variance\n",
    "\n",
    "def de_mean(x):\n",
    "    \"\"\"translate x by subtracting its own mean (so result has mean of 0)\"\"\"\n",
    "    x_bar = mean(x)\n",
    "    return [x_i - x_bar for x_i in x]\n",
    "\n",
    "## USING THESE TWO FUNCTIONS FROM LAST CHAPTER\n",
    "def dot(v, w):\n",
    "    \"\"\"v_0 * w_0 + ... + v_n * w_n \"\"\"\n",
    "    return sum(v_i * w_i for (v_i, w_i) in zip(v, w))\n",
    "\n",
    "def sum_of_squares(v):\n",
    "    \"\"\" v0 * v0 + ... + v_n + v_n\"\"\"\n",
    "    return dot(v, v)\n",
    "## USING THESE TWO FUNCTIONS FROM LAST CHAPTER\n",
    "\n",
    "def variance(x):\n",
    "    \"\"\"assumes x has at least two elements\"\"\"\n",
    "    n = len(x)\n",
    "    deviations = de_mean(x)\n",
    "    return sum_of_squares(deviations) / (n-1)\n",
    "\n",
    "print(variance(num_friends))\n",
    "\n",
    "#this looks like it is the average squared deviation from the mean\n",
    "#except we are dividing n-1 instead of n\n",
    "\n",
    "#in fact, when dealing with a sample from a larger population, x_bar is only\n",
    "#an estimate of the actual mean, which means on average (x_i - x_bar) ** 2 is\n",
    "#an uderestimate of x_i's squared deviation from the mean, which is why\n",
    "#we divide by n-1 instead"
   ]
  },
  {
   "cell_type": "code",
   "execution_count": 32,
   "metadata": {},
   "outputs": [
    {
     "name": "stdout",
     "output_type": "stream",
     "text": [
      "9.03014473623248\n"
     ]
    }
   ],
   "source": [
    "#whatever our units of data, all of the measures of central tendency are\n",
    "#in the same unit\n",
    "#however the variance has units that are the square of the original units\n",
    "#i.e. \"friends squared\", this can be hard to make sense of, so we usually look at\n",
    "#the standard deviation\n",
    "\n",
    "import math\n",
    "\n",
    "def standard_deviation(x):\n",
    "    return math.sqrt(variance(x))\n",
    "\n",
    "print(standard_deviation(num_friends))"
   ]
  },
  {
   "cell_type": "code",
   "execution_count": 33,
   "metadata": {},
   "outputs": [
    {
     "name": "stdout",
     "output_type": "stream",
     "text": [
      "6\n"
     ]
    }
   ],
   "source": [
    "#standard deviation and the range have the same problem as the mean, if we\n",
    "#add a new user with 200 friends as an outlier it massively increases the value\n",
    "\n",
    "#more robust is to compute the difference between the 75th and 25th percentile value\n",
    "\n",
    "def interquartile_range(x):\n",
    "    return quantile(x, 0.75) - quantile(x, 0.25)\n",
    "\n",
    "print(interquartile_range(num_friends))"
   ]
  },
  {
   "cell_type": "code",
   "execution_count": 36,
   "metadata": {},
   "outputs": [
    {
     "name": "stdout",
     "output_type": "stream",
     "text": [
      "22.425435139573064\n"
     ]
    }
   ],
   "source": [
    "#want to check if number of minutes spent on the sit is related to number of friends\n",
    "#first look at covariance, the analogue of variance\n",
    "#variance measures how a single variable deviates from its mena\n",
    "#covariance measures how two variables vary in tandem from their means\n",
    "\n",
    "daily_minutes = [1,68.77,51.25,52.08,38.36,44.54,57.13,51.4,41.42,31.22,34.76,54.01,38.79,47.59,49.1,27.66,41.03,36.73,48.65,28.12,46.62,35.57,32.98,35,26.07,23.77,39.73,40.57,31.65,31.21,36.32,20.45,21.93,26.02,27.34,23.49,46.94,30.5,33.8,24.23,21.4,27.94,32.24,40.57,25.07,19.42,22.39,18.42,46.96,23.72,26.41,26.97,36.76,40.32,35.02,29.47,30.2,31,38.11,38.18,36.31,21.03,30.86,36.07,28.66,29.08,37.28,15.28,24.17,22.31,30.17,25.53,19.85,35.37,44.6,17.23,13.47,26.33,35.02,32.09,24.81,19.33,28.77,24.26,31.98,25.73,24.86,16.28,34.51,15.23,39.72,40.8,26.06,35.76,34.76,16.13,44.04,18.03,19.65,32.62,35.59,39.43,14.18,35.24,40.13,41.82,35.45,36.07,43.67,24.61,20.9,21.9,18.79,27.61,27.21,26.61,29.77,20.59,27.53,13.82,33.2,25,33.1,36.65,18.63,14.87,22.2,36.81,25.53,24.62,26.25,18.21,28.08,19.42,29.79,32.8,35.99,28.32,27.79,35.88,29.06,36.28,14.1,36.63,37.49,26.9,18.58,38.48,24.48,18.95,33.55,14.24,29.04,32.51,25.63,22.22,19,32.73,15.16,13.9,27.2,32.01,29.27,33,13.74,20.42,27.32,18.23,35.35,28.48,9.08,24.62,20.12,35.26,19.92,31.02,16.49,12.16,30.7,31.22,34.65,13.13,27.51,33.2,31.57,14.1,33.42,17.44,10.12,24.42,9.82,23.39,30.93,15.03,21.67,31.09,33.29,22.61,26.89,23.48,8.38,27.81,32.35,23.84]\n",
    "\n",
    "def covariance(x, y):\n",
    "    n = len(x)\n",
    "    return dot(de_mean(x), de_mean(y)) / (n - 1)\n",
    "\n",
    "print(covariance(num_friends, daily_minutes))\n",
    "\n",
    "#dot product sums the products of corresponding pairs of elements\n",
    "#when both x and y are both above their means or both are below their means\n",
    "#a positive number enters the sum\n",
    "#when one is below and one is above, a negative value enters the sum\n",
    "\n",
    "#large positive covariance means x tends to be large when y is large (that is, \n",
    "#larger than the mean), and small when y is small (again, smaller than the mean)\n",
    "\n",
    "#large negative covariance means the opposite, x is small when y is large, vice versa\n",
    "\n",
    "#covariance close to zero means no relationships exist"
   ]
  },
  {
   "cell_type": "code",
   "execution_count": 38,
   "metadata": {},
   "outputs": [
    {
     "name": "stdout",
     "output_type": "stream",
     "text": [
      "0.24736957366478218\n"
     ]
    }
   ],
   "source": [
    "#covariance is hard to interpret as:\n",
    "# - units are the product of input units, here it's friend minutes per day, which\n",
    "#   doesn't really make sense\n",
    "# - if each user has twice as many friends (but same number of minutes) the\n",
    "#   covariance would be twice as large, but the variables would be just as related\n",
    "\n",
    "#it's more common to look at the correlation which divides our the standard\n",
    "#deviations of both variances\n",
    "\n",
    "def correlation(x, y):\n",
    "    std_x = standard_deviation(x)\n",
    "    std_y = standard_deviation(y) #sqrt of sum of squares of deviations div by n-1\n",
    "    if std_x > 0 and std_y > 0:\n",
    "        return covariance(x, y) / std_x / std_y\n",
    "    else:\n",
    "        return 0 #if not variation, correlation is 0\n",
    "    \n",
    "print(correlation(num_friends, daily_minutes))\n",
    "\n",
    "#correlation always lies between -1 (perfect anti-correlation) and 1 (perfect \n",
    "#correlation)\n",
    "#0.25 represents a weak positive correlation"
   ]
  },
  {
   "cell_type": "code",
   "execution_count": 53,
   "metadata": {},
   "outputs": [
    {
     "data": {
      "image/png": "[encoded data removed]",
      "text/plain": [
       "<matplotlib.figure.Figure at 0x7f96172c1978>"
      ]
     },
     "metadata": {},
     "output_type": "display_data"
    }
   ],
   "source": [
    "#we did all this without even looking at the data\n",
    "\n",
    "import matplotlib.pyplot as plt\n",
    "\n",
    "plt.scatter(num_friends, daily_minutes, s=5) #x, y, size of points\n",
    "plt.title('Correlation with an outlier')\n",
    "plt.xlabel('# of friends')\n",
    "plt.ylabel('minutes per day')\n",
    "plt.show()"
   ]
  },
  {
   "cell_type": "code",
   "execution_count": 57,
   "metadata": {},
   "outputs": [
    {
     "name": "stdout",
     "output_type": "stream",
     "text": [
      "0.5736792115665573\n"
     ]
    }
   ],
   "source": [
    "#the person with 100 friends and only 1 minute per day on the site (bottom right)\n",
    "#is a huge outlier, and correlation is very sensitive to outliers\n",
    "\n",
    "outlier = num_friends.index(100)\n",
    "\n",
    "num_friends_good = [x for (i,x) in enumerate(num_friends) if i != outlier]\n",
    "\n",
    "daily_minutes_good = [x for (i,x) in enumerate(daily_minutes) if i != outlier]\n",
    "\n",
    "print(correlation(num_friends_good, daily_minutes_good)) #more than doubled!"
   ]
  },
  {
   "cell_type": "code",
   "execution_count": 58,
   "metadata": {},
   "outputs": [
    {
     "data": {
      "image/png": "[encoded data removed]",
      "text/plain": [
       "<matplotlib.figure.Figure at 0x7f9617abd7f0>"
      ]
     },
     "metadata": {},
     "output_type": "display_data"
    }
   ],
   "source": [
    "plt.scatter(num_friends_good, daily_minutes_good, s=5) #x, y, size of points\n",
    "plt.title('Correlation without an outlier')\n",
    "plt.xlabel('# of friends')\n",
    "plt.ylabel('minutes per day')\n",
    "plt.show()"
   ]
  },
  {
   "cell_type": "code",
   "execution_count": 59,
   "metadata": {
    "collapsed": true
   },
   "outputs": [],
   "source": [
    "#simpson's paradox is when correlations can be misleading when 'confounding' variables\n",
    "#are ignored\n",
    "\n",
    "#identify all members as either east or west coast\n",
    "#you find the on average west coast people have more friends\n",
    "\n",
    "#however looking at the data in more detail you find that if you only look\n",
    "#at people WITH PhDs then east coast people have more friends on average, however\n",
    "#generally have a lot less friends than normal\n",
    "#and if you look at people WITHOUT PhDs, still have more friends on average\n",
    "#there are a lot more PhD people on the east coast\n",
    "\n",
    "#once you account for degrees, correlation goes in the opposite direction\n",
    "#bucketing data into coasts disguised the fact that east coast data scientists\n",
    "#skew more heavily toward phd types (those who on average have a lot less friends)\n",
    "\n",
    "#the key issue is correlation is measures the relationship between two variables\n",
    "#when all else is equal!\n",
    "\n",
    "#the only way to avoid this is by KNOWING YOUR DATA and checking for confounding \n",
    "#factors\n",
    "#if you didn't know the degrees of those people, you wouldn't be able to find this"
   ]
  },
  {
   "cell_type": "code",
   "execution_count": 62,
   "metadata": {},
   "outputs": [
    {
     "name": "stdout",
     "output_type": "stream",
     "text": [
      "0.0\n"
     ]
    }
   ],
   "source": [
    "#a correlation of zero indicates there is no linear relationship between two\n",
    "#variables, however there may be other types of relationships\n",
    "\n",
    "#these two have zero correlation, but certainly have a relationship\n",
    "#each y is abs(x)\n",
    "\n",
    "#they just don't have a relationship comparing how x_i compares to mean(x) and y_i\n",
    "#compares to mean(y), which is the relationship correlation looks for\n",
    "\n",
    "x = [-2, -1, 0, 1, 2]\n",
    "y = [2, 1, 0, 1, 2]\n",
    "\n",
    "print(correlation(x, y))"
   ]
  },
  {
   "cell_type": "code",
   "execution_count": 63,
   "metadata": {},
   "outputs": [
    {
     "name": "stdout",
     "output_type": "stream",
     "text": [
      "0.8340576562281805\n"
     ]
    }
   ],
   "source": [
    "#correlation also doesn't tell you how how large the relationship is\n",
    "\n",
    "#these two have a relatively high correlation, but it's possible the relationship\n",
    "#isn't that interesting\n",
    "\n",
    "x = [-2, 1, 0, 1, 2]\n",
    "y = [99.98, 99.99, 100, 100.01, 100.02]\n",
    "\n",
    "print(correlation(x, y))"
   ]
  },
  {
   "cell_type": "code",
   "execution_count": 64,
   "metadata": {
    "collapsed": true
   },
   "outputs": [],
   "source": [
    "#\"correlation is not causation\", if x and y are strongly correlated, it might\n",
    "#mean that x causes y or y causes x, that each causes the other, some third\n",
    "#factor causes both or it might mean nothing at all\n",
    "\n",
    "#consider number of friends to minutes on the site. it's possible having more friends\n",
    "#causes people to spend more time on the time as each friend posts some content\n",
    "#each day which means having more friends makes you take longer to read everyone's\n",
    "#content\n",
    "\n",
    "#however it's possible the more time you spend on the site talking to random people\n",
    "#on the chatrooms causes you to meet like-minded people and make more friends\n",
    "\n",
    "#or users who love data science spend more time on the site (as they find it interesting)\n",
    "#and more actively collect data science friends (as they don't talk to others)\n",
    "\n",
    "#one way to test causality is by conducting randomized trials\n",
    "#randomly split users into two groups with similar demographics\n",
    "#if you give one group a different experience then you can be sure that\n",
    "#different experiences are causing different outcomes\n",
    "\n",
    "#i.e split users into two groups and show one group content only from a fraction\n",
    "#of their friends, if this group spends less time on the site this means that\n",
    "#you would be confidence that having more friends causes more time on the site"
   ]
  },
  {
   "cell_type": "code",
   "execution_count": null,
   "metadata": {
    "collapsed": true
   },
   "outputs": [],
   "source": [
    "#for more on stats\n",
    "# free book https://www.openintro.org/stat/textbook.php?stat_book=os\n",
    "# free book https://openstax.org/details/introductory-statistics"
   ]
  }
 ],
 "metadata": {
  "kernelspec": {
   "display_name": "Python 3",
   "language": "python",
   "name": "python3"
  },
  "language_info": {
   "codemirror_mode": {
    "name": "ipython",
    "version": 3
   },
   "file_extension": ".py",
   "mimetype": "text/x-python",
   "name": "python",
   "nbconvert_exporter": "python",
   "pygments_lexer": "ipython3",
   "version": "3.6.3"
  }
 },
 "nbformat": 4,
 "nbformat_minor": 2
}

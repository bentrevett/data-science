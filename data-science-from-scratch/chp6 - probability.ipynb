{
 "cells": [
  {
   "cell_type": "code",
   "execution_count": 1,
   "metadata": {},
   "outputs": [],
   "source": [
    "#probability is a way of quantifying uncertainty associated\n",
    "#with \"events\" chosen from a \"universe\" of events\n",
    "\n",
    "#think of rolling a die\n",
    "#the universe vconsists of all possible outcomes\n",
    "#any subset of these outcomes is an event\n",
    "#for example, you roll a one, you roll an even number, etc.\n",
    "\n",
    "#P(E) means the probability of event E"
   ]
  },
  {
   "cell_type": "code",
   "execution_count": 2,
   "metadata": {},
   "outputs": [],
   "source": [
    "#we say that two events, E and F, are dependent if knowing\n",
    "#something about whether E happens gives us information about\n",
    "#whether F happens (or vice versa)\n",
    "#otherwise they are independent\n",
    "\n",
    "#for example, if we flip a coin twice, knowing the first\n",
    "#outcome is a heads gives no information about whether the\n",
    "#second outcome is a heads\n",
    "#these two events are independent\n",
    "\n",
    "#however, knowing if the first outcome is heads does give\n",
    "#information about whether both flips are tails\n",
    "#these two events are dependent\n",
    "\n",
    "#mathematically, we can say that two events, E and F, are\n",
    "#independent if the probability that they both happen is \n",
    "#the product of the probabilities that each one happens\n",
    "#i.e. P(E, F) = P(E)P(F)\n",
    "\n",
    "#the probability of \"first outcome = heads\" is 1/2\n",
    "#the probability of \"both outcomes = tails\" is 1/4\n",
    "#the probability of \"first outcome = heads AND both outcomes = tails\" is 0"
   ]
  },
  {
   "cell_type": "code",
   "execution_count": 3,
   "metadata": {},
   "outputs": [],
   "source": [
    "#when two events, E and F, are independent, we have:\n",
    "#P(E, F) = P(E)P(F)\n",
    "\n",
    "#if they are not independent, then we define the probability\n",
    "#of E \"conditional of F\" as:\n",
    "#P(E|F) = P(E,F)/P(F)\n",
    "\n",
    "#this is the probability that E happens, given that we know\n",
    "#that F happens\n",
    "\n",
    "#we can re-write this as: \n",
    "#P(E,F) = P(E|F)P(F)\n",
    "\n",
    "#when E and F are independent, we can check this gives:\n",
    "#P(E|F) = P(E)\n",
    "\n",
    "#this is a mathematical way of expressing that knowing F\n",
    "#occurred gives us no additional information about whether E\n",
    "#occured"
   ]
  },
  {
   "cell_type": "code",
   "execution_count": 4,
   "metadata": {},
   "outputs": [],
   "source": [
    "#an example\n",
    "#if we assume that:\n",
    "#1 - each child is equally likely to be a boy or girl\n",
    "#2 - the gender of the second child is independent of the gender\n",
    "#    of the first child\n",
    "\n",
    "#then the event \"no girls\" has probability 1/4\n",
    "#the event \"one boy, one girl\" has probability 1/2\n",
    "#the event \"two girls\" has probability 1/4\n",
    "\n",
    "#what is the probability of the event \n",
    "#\"both children are girls\" (B) conditional on the event that\n",
    "#\"the older child is a girl\" (G)?\n",
    "\n",
    "#P(B|G) = P(B,G)/P(G) = P(B)/P(G) = 1/4 div 1/2 = 1/2\n",
    "#since the event B and G (\"both children are girls AND the older\n",
    "#child is a girl\") is just the event B\n",
    "#once you know that both children are girls than it has to be\n",
    "#true that the older child must be a girl"
   ]
  },
  {
   "cell_type": "code",
   "execution_count": 5,
   "metadata": {},
   "outputs": [],
   "source": [
    "#another example\n",
    "#what is the probability of the event \"both children are girls\"\n",
    "#conditioned on the event \"at least one of the children is a girl\" (L)\n",
    "#THE ANSWER IS DIFFERENT THAN BEFORE\n",
    "\n",
    "#the event B and L (\"both children are girls and at least one\n",
    "#of the children is a girl\") is just the event B\n",
    "#this means we have P(B|L) = P(B,L)/P(L) = P(B)/P(L) = 1/4 div 3/4 =  1/3\n",
    "\n",
    "#how?!\n",
    "#if you know that at least one of the children is a girl\n",
    "#then it is twice as likely that the family has one boy\n",
    "#and one girl than it has both girls\n",
    "#because think of the outcomes, BB, BG, GB, GG\n",
    "#with at least one girl: BG, GB, GG\n",
    "#only one of these outcomes has two girls\n",
    "#two of these outcomes (twice as many) have a boy"
   ]
  },
  {
   "cell_type": "code",
   "execution_count": 19,
   "metadata": {},
   "outputs": [
    {
     "name": "stdout",
     "output_type": "stream",
     "text": [
      "P(both| older):0.4988460454827926\n",
      "P(both|either):0.33289729147331476\n"
     ]
    }
   ],
   "source": [
    "import random\n",
    "\n",
    "def random_kid():\n",
    "    return random.choice(['boy','girl'])\n",
    "\n",
    "both_girls = 0\n",
    "older_girl = 0\n",
    "either_girl = 0\n",
    "\n",
    "for _ in range(1_000_000):\n",
    "    younger = random_kid()\n",
    "    older = random_kid()\n",
    "    if older == 'girl':\n",
    "        older_girl += 1\n",
    "    if older == 'girl' and younger == 'girl':\n",
    "        both_girls += 1\n",
    "    if older == 'girl' or younger == 'girl':\n",
    "        either_girl += 1\n",
    "        \n",
    "print(f'P(both| older):{both_girls/older_girl}')\n",
    "print(f'P(both|either):{both_girls/either_girl}')"
   ]
  },
  {
   "cell_type": "code",
   "execution_count": 20,
   "metadata": {},
   "outputs": [],
   "source": [
    "#bayes theorem is a way of \"reversing\" conditional probabilities\n",
    "#if we need the probability of some event E conditioned on F\n",
    "#but we only have the probability of F conditioned on E\n",
    "#we can use the definition of conditional probability twice:\n",
    "\n",
    "#P(E|F) = P(E,F)/P(F) = P(F|E)P(E)/P(F)\n",
    "\n",
    "#the event F can be split into two mutual exclusive events\n",
    "#\"F and E\" and \"F not E\", we'll write nE for \"not E\" (i.e. \n",
    "#E doesn't happen)\n",
    "\n",
    "#P(F) = P(F,E) + P(F,nE)\n",
    "\n",
    "#and we know P(F,E) = P(F|E)P(E)\n",
    "\n",
    "#so\n",
    "\n",
    "#P(E|F) + P(F|E)P(E) / (P(F|E)P(E) + P(F|nE)P(nE))"
   ]
  },
  {
   "cell_type": "code",
   "execution_count": 21,
   "metadata": {},
   "outputs": [],
   "source": [
    "#imagine a disease affects 1 in every 10,000 people\n",
    "#there is a test for this disease that gives the correct\n",
    "#result 99% of the time\n",
    "\n",
    "#what does a positive test mean?\n",
    "#T is the event that your test is positive\n",
    "#D is the event that you have the disease\n",
    "\n",
    "#thus bayes theorem says the probability that you have\n",
    "#the disease conditional on testing positive is:\n",
    "\n",
    "#P(D|T) = P(T|D)P(D) / (P(T|D)P(D) + P(T|nD)P(nD))\n",
    "\n",
    "#we know the prob that someone w/ the disease tests positive\n",
    "#P(T|D) = 0.99\n",
    "#the probability that someone has the disease \n",
    "#P(D) = 1/10_000 = 0.00001\n",
    "#the probability that someone without the disease tests positive\n",
    "#P(T|nD) = 0.01\n",
    "#the probability someone doesn't have the disease is\n",
    "#P(nD) = 0.9999\n",
    "\n",
    "#substitute those numbers into Bayes Theorem and you get\n",
    "#P(D|T) = 0.0098 = 0.98%\n",
    "\n",
    "#that's right, less than a single percentage\n",
    "#and why is that?\n",
    "#because even though it only has a 1% false positive rate\n",
    "#the disproportionately high number of people who don't have\n",
    "#the disease means you get a lot more false positives\n",
    "\n",
    "#another way to think about this is imagine a population of \n",
    "#1 million people, you would expect 100 of them to have the \n",
    "#disease and 99 of those 100 to test positive, but you'd also\n",
    "#expect 999,900 of them not to have the disease and 9,999 of\n",
    "#those to test (false) positive\n",
    "#this means you'd expect only 99 out of 99+9999 (0.98%) \n",
    "#positive results to actually have the disease"
   ]
  },
  {
   "cell_type": "code",
   "execution_count": null,
   "metadata": {},
   "outputs": [],
   "source": []
  }
 ],
 "metadata": {
  "kernelspec": {
   "display_name": "Python 3",
   "language": "python",
   "name": "python3"
  },
  "language_info": {
   "codemirror_mode": {
    "name": "ipython",
    "version": 3
   },
   "file_extension": ".py",
   "mimetype": "text/x-python",
   "name": "python",
   "nbconvert_exporter": "python",
   "pygments_lexer": "ipython3",
   "version": "3.6.3"
  }
 },
 "nbformat": 4,
 "nbformat_minor": 2
}

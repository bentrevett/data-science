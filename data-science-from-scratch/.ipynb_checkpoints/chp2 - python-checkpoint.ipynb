{
 "cells": [
  {
   "cell_type": "code",
   "execution_count": 1,
   "metadata": {},
   "outputs": [
    {
     "name": "stdout",
     "output_type": "stream",
     "text": [
      "The Zen of Python, by Tim Peters\n",
      "\n",
      "Beautiful is better than ugly.\n",
      "Explicit is better than implicit.\n",
      "Simple is better than complex.\n",
      "Complex is better than complicated.\n",
      "Flat is better than nested.\n",
      "Sparse is better than dense.\n",
      "Readability counts.\n",
      "Special cases aren't special enough to break the rules.\n",
      "Although practicality beats purity.\n",
      "Errors should never pass silently.\n",
      "Unless explicitly silenced.\n",
      "In the face of ambiguity, refuse the temptation to guess.\n",
      "There should be one-- and preferably only one --obvious way to do it.\n",
      "Although that way may not be obvious at first unless you're Dutch.\n",
      "Now is better than never.\n",
      "Although never is often better than *right* now.\n",
      "If the implementation is hard to explain, it's a bad idea.\n",
      "If the implementation is easy to explain, it may be a good idea.\n",
      "Namespaces are one honking great idea -- let's do more of those!\n"
     ]
    }
   ],
   "source": [
    "import this"
   ]
  },
  {
   "cell_type": "code",
   "execution_count": 2,
   "metadata": {
    "collapsed": true
   },
   "outputs": [],
   "source": [
    "import re\n",
    "my_regex = re.compile(\"[0-9]+\", re.I)"
   ]
  },
  {
   "cell_type": "code",
   "execution_count": 3,
   "metadata": {
    "collapsed": true
   },
   "outputs": [],
   "source": [
    "from collections import defaultdict, Counter\n",
    "lookup = defaultdict(int)\n",
    "my_counter = Counter()"
   ]
  },
  {
   "cell_type": "code",
   "execution_count": 4,
   "metadata": {},
   "outputs": [
    {
     "name": "stdout",
     "output_type": "stream",
     "text": [
      "<function match at 0x7f117f6e5488>\n"
     ]
    }
   ],
   "source": [
    "#don't do this, importing * imports all and is bad\n",
    "\n",
    "match = 10\n",
    "from re import *\n",
    "print(match)"
   ]
  },
  {
   "cell_type": "code",
   "execution_count": 5,
   "metadata": {},
   "outputs": [
    {
     "name": "stdout",
     "output_type": "stream",
     "text": [
      "2\n"
     ]
    }
   ],
   "source": [
    "def double(x):\n",
    "    return x * 2\n",
    "\n",
    "#python functions are first-class so you can assign them to variables\n",
    "#and pass into functions just like any other arguments\n",
    "\n",
    "def apply_to_one(f):\n",
    "    \"calls the function f with 1 as its argument\"\n",
    "    return f(1)\n",
    "\n",
    "my_double = double #my_double is the function 'double'\n",
    "x = apply_to_one(my_double) #function calls my_double with argument 1\n",
    "print(x) "
   ]
  },
  {
   "cell_type": "code",
   "execution_count": 6,
   "metadata": {},
   "outputs": [
    {
     "name": "stdout",
     "output_type": "stream",
     "text": [
      "5\n"
     ]
    }
   ],
   "source": [
    "#can create short anonymous functions called lambdas\n",
    "\n",
    "y = apply_to_one(lambda x: x + 4)\n",
    "print(y)"
   ]
  },
  {
   "cell_type": "code",
   "execution_count": 7,
   "metadata": {
    "collapsed": true
   },
   "outputs": [],
   "source": [
    "#can assign lambdas to variables, but you should probably use 'def' instead\n",
    "\n",
    "another_double = lambda x: 2 * x #don't do this\n",
    "def another_double(x): return 2 * x #do this instead"
   ]
  },
  {
   "cell_type": "code",
   "execution_count": 8,
   "metadata": {
    "collapsed": true
   },
   "outputs": [],
   "source": [
    "#function parameters can have default arguments\n",
    "\n",
    "def my_print(message=\"my default message\"):\n",
    "    print(message)"
   ]
  },
  {
   "cell_type": "code",
   "execution_count": 9,
   "metadata": {},
   "outputs": [
    {
     "data": {
      "text/plain": [
       "-5"
      ]
     },
     "execution_count": 9,
     "metadata": {},
     "output_type": "execute_result"
    }
   ],
   "source": [
    "#can specify argument by name\n",
    "\n",
    "def subtract(a=0, b=0):\n",
    "    return a - b\n",
    "\n",
    "subtract(0, 5)\n",
    "subtract(b=5) #does same as above"
   ]
  },
  {
   "cell_type": "code",
   "execution_count": 10,
   "metadata": {},
   "outputs": [
    {
     "data": {
      "text/plain": [
       "1"
      ]
     },
     "execution_count": 10,
     "metadata": {},
     "output_type": "execute_result"
    }
   ],
   "source": [
    "#python uses backslashes to encode special characters\n",
    "\n",
    "tab_string = \"\\t\"\n",
    "len(tab_string)"
   ]
  },
  {
   "cell_type": "code",
   "execution_count": 11,
   "metadata": {},
   "outputs": [
    {
     "data": {
      "text/plain": [
       "2"
      ]
     },
     "execution_count": 11,
     "metadata": {},
     "output_type": "execute_result"
    }
   ],
   "source": [
    "#if you actually want the backslashes, use raw strings with r\"\"\n",
    "\n",
    "not_tab_string = r\"\\t\"\n",
    "len(not_tab_string)"
   ]
  },
  {
   "cell_type": "code",
   "execution_count": 12,
   "metadata": {
    "collapsed": true
   },
   "outputs": [],
   "source": [
    "#make multi line strings using triple double quotes\n",
    "\n",
    "multi_line_string = \"\"\"This is the first line\n",
    "and this is the second line\n",
    "and this is the third line\"\"\""
   ]
  },
  {
   "cell_type": "code",
   "execution_count": 13,
   "metadata": {},
   "outputs": [
    {
     "name": "stdout",
     "output_type": "stream",
     "text": [
      "cannot divide by zero\n"
     ]
    }
   ],
   "source": [
    "#handle Python exceptions with 'try' and 'except'\n",
    "\n",
    "try:\n",
    "    print(0/0)\n",
    "except ZeroDivisionError:\n",
    "    print(\"cannot divide by zero\")"
   ]
  },
  {
   "cell_type": "code",
   "execution_count": 14,
   "metadata": {},
   "outputs": [
    {
     "name": "stdout",
     "output_type": "stream",
     "text": [
      "[0, 1, 2, 3, 4, 5, 6, 7, 8, 9]\n"
     ]
    }
   ],
   "source": [
    "#get list from range\n",
    "\n",
    "x = list(range(10))\n",
    "print(x)"
   ]
  },
  {
   "cell_type": "code",
   "execution_count": 15,
   "metadata": {
    "collapsed": true
   },
   "outputs": [],
   "source": [
    "#access last element via negative numbers\n",
    "nine = x[-1]\n",
    "eight = x[-2]"
   ]
  },
  {
   "cell_type": "code",
   "execution_count": 16,
   "metadata": {
    "collapsed": true
   },
   "outputs": [],
   "source": [
    "#square brackets to slice lists\n",
    "first_three = x[:3]\n",
    "three_to_end = x[3:]\n",
    "last_three = x[-3:]\n",
    "copy_of_x = x[:]"
   ]
  },
  {
   "cell_type": "code",
   "execution_count": 17,
   "metadata": {},
   "outputs": [
    {
     "data": {
      "text/plain": [
       "True"
      ]
     },
     "execution_count": 17,
     "metadata": {},
     "output_type": "execute_result"
    }
   ],
   "source": [
    "#check list membership with the 'in' operator\n",
    "\n",
    "1 in [1,2,3]"
   ]
  },
  {
   "cell_type": "code",
   "execution_count": 18,
   "metadata": {},
   "outputs": [
    {
     "data": {
      "text/plain": [
       "[1, 2, 3, 4, 5, 6]"
      ]
     },
     "execution_count": 18,
     "metadata": {},
     "output_type": "execute_result"
    }
   ],
   "source": [
    "#concat lists together\n",
    "\n",
    "x = [1,2,3]\n",
    "x.extend([4,5,6])\n",
    "x"
   ]
  },
  {
   "cell_type": "code",
   "execution_count": 19,
   "metadata": {},
   "outputs": [
    {
     "data": {
      "text/plain": [
       "[1, 2, 3, 4, 5, 6]"
      ]
     },
     "execution_count": 19,
     "metadata": {},
     "output_type": "execute_result"
    }
   ],
   "source": [
    "#if you don't want to modify original list\n",
    "\n",
    "x = [1,2,3]\n",
    "y = x + [4,5,6]\n",
    "y"
   ]
  },
  {
   "cell_type": "code",
   "execution_count": 20,
   "metadata": {},
   "outputs": [
    {
     "data": {
      "text/plain": [
       "[1, 2, 3, 0]"
      ]
     },
     "execution_count": 20,
     "metadata": {},
     "output_type": "execute_result"
    }
   ],
   "source": [
    "#most frequently just append to the list one item at a time\n",
    "x = [1,2,3]\n",
    "x.append(0)\n",
    "x"
   ]
  },
  {
   "cell_type": "code",
   "execution_count": 21,
   "metadata": {
    "collapsed": true
   },
   "outputs": [],
   "source": [
    "#can unpack lists if you know how many elements they contain\n",
    "\n",
    "x, y = [1,2] #x=1, y=2\n",
    "\n",
    "#common to use underscore for a value you're going to throw away\n",
    "_, y = [1,2]"
   ]
  },
  {
   "cell_type": "code",
   "execution_count": 22,
   "metadata": {},
   "outputs": [
    {
     "name": "stdout",
     "output_type": "stream",
     "text": [
      "cannot modify a tuple\n"
     ]
    }
   ],
   "source": [
    "#tuples are immutable lists\n",
    "\n",
    "my_list = [1,2]\n",
    "my_tuple = (1,2)\n",
    "other_tuple = 3,4\n",
    "\n",
    "try:\n",
    "    my_tuple[1] = 3\n",
    "except TypeError:\n",
    "    print(\"cannot modify a tuple\")"
   ]
  },
  {
   "cell_type": "code",
   "execution_count": 23,
   "metadata": {
    "collapsed": true
   },
   "outputs": [],
   "source": [
    "#tuples are a conventient way to return multiple values from functions\n",
    "\n",
    "def sum_and_product(x, y):\n",
    "    return (x+y),(x*y)\n",
    "\n",
    "sp = sum_and_product(2,3) #equals (5,6)\n",
    "s, p = sum_and_product(5, 10) #s=15, p=50"
   ]
  },
  {
   "cell_type": "code",
   "execution_count": 24,
   "metadata": {
    "collapsed": true
   },
   "outputs": [],
   "source": [
    "#tuples can be used for multiple assignment:\n",
    "\n",
    "x, y = 1, 2\n",
    "x, y = y, x #pythonic way to swap variables"
   ]
  },
  {
   "cell_type": "code",
   "execution_count": 25,
   "metadata": {
    "collapsed": true
   },
   "outputs": [],
   "source": [
    "#dictionaries have values with keys\n",
    "\n",
    "empty_dict = {}\n",
    "grades = {\"Ben\": 100, \"Mark\": 50} #define with literal values"
   ]
  },
  {
   "cell_type": "code",
   "execution_count": 26,
   "metadata": {},
   "outputs": [
    {
     "name": "stdout",
     "output_type": "stream",
     "text": [
      "no grade for Peter!\n"
     ]
    }
   ],
   "source": [
    "#get values using a key in square brackets\n",
    "\n",
    "bens_grade = grades[\"Ben\"]\n",
    "\n",
    "#but you'll get a KeyError if you ask for a key that's not in the dictionary\n",
    "\n",
    "try:\n",
    "    peters_grade = grades[\"Peter\"]\n",
    "except KeyError:\n",
    "    print(\"no grade for Peter!\")"
   ]
  },
  {
   "cell_type": "code",
   "execution_count": 27,
   "metadata": {},
   "outputs": [
    {
     "name": "stdout",
     "output_type": "stream",
     "text": [
      "True\n"
     ]
    }
   ],
   "source": [
    "#can check the existence of a key using 'in'\n",
    "\n",
    "ben_has_grade = \"Ben\" in grades\n",
    "print(ben_has_grade)"
   ]
  },
  {
   "cell_type": "code",
   "execution_count": 28,
   "metadata": {
    "collapsed": true
   },
   "outputs": [],
   "source": [
    "#there is a method that returns a default value (instead of an exception)\n",
    "#when you look up a key that's not in the dictionary\n",
    "\n",
    "bens_grade = grades.get(\"Ben\", 0) #is 100 as already exists\n",
    "peters_grade = grades.get(\"Peter\", 0) #is 0 as doesn't exist\n",
    "no_ones_grade = grades.get(\"No One\") #default default is None"
   ]
  },
  {
   "cell_type": "code",
   "execution_count": 29,
   "metadata": {
    "collapsed": true
   },
   "outputs": [],
   "source": [
    "#assign key-value pairs using same square brackets\n",
    "\n",
    "grades[\"Ben\"] = 80 #updates an entry\n",
    "grades[\"Peter\"] = 100 #adds another entry\n",
    "num_students = len(grades) #equals 3"
   ]
  },
  {
   "cell_type": "code",
   "execution_count": 30,
   "metadata": {},
   "outputs": [
    {
     "data": {
      "text/plain": [
       "True"
      ]
     },
     "execution_count": 30,
     "metadata": {},
     "output_type": "execute_result"
    }
   ],
   "source": [
    "#use dictionaries to represent structured data\n",
    "\n",
    "tweet = {\n",
    " \"user\" : \"joelgrus\",\n",
    " \"text\" : \"Data Science is Awesome\",\n",
    " \"retweet_count\" : 100,\n",
    " \"hashtags\" : [\"#data\", \"#science\", \"#datascience\", \"#awesome\", \"#yolo\"]\n",
    "}\n",
    "\n",
    "tweet_keys = tweet.keys() #list of keys\n",
    "tweet_values = tweet.values() #list of values\n",
    "tweet_items = tweet.items() #list of (key, value) tuples\n",
    "\n",
    "\"user\" in tweet_keys #true, but slow\n",
    "\"user\" in tweet #faster\n",
    "\"joelgrus\" in tweet_values #true"
   ]
  },
  {
   "cell_type": "code",
   "execution_count": 31,
   "metadata": {
    "collapsed": true
   },
   "outputs": [],
   "source": [
    "#imagine you're trying to count the words in a document\n",
    "#create a dictionary in which the keys are words and the values are counts\n",
    "#only increment count if it's already in dictionary\n",
    "\n",
    "document = []\n",
    "\n",
    "word_counts = {}\n",
    "for word in document:\n",
    "    if word in word_counts:\n",
    "        word_counts[word] += 1\n",
    "    else:\n",
    "        word_counts[word] = 1\n",
    "\n",
    "#could also handle exception with missing key\n",
    "word_counts = {}\n",
    "for word in document:\n",
    "    try:\n",
    "        word_counts[word] += 1\n",
    "    except KeyError:\n",
    "        word_counts[word] = 1\n",
    "\n",
    "#or use get to fill in missing keys\n",
    "word_counts = {}\n",
    "for word in document:\n",
    "    previous_count = word_counts.get(word, 0)\n",
    "    word_counts[word] = previous_count + 1"
   ]
  },
  {
   "cell_type": "code",
   "execution_count": 32,
   "metadata": {},
   "outputs": [
    {
     "name": "stdout",
     "output_type": "stream",
     "text": [
      "dict_items([(2, [0, 1])])\n"
     ]
    }
   ],
   "source": [
    "#all the above are pretty ugly, which is why we use defaultdict\n",
    "#like a normal dict but has a default argument build in\n",
    "\n",
    "from collections import defaultdict\n",
    "\n",
    "word_counts = defaultdict(int) # int() produces 0\n",
    "for word in document:\n",
    "    word_counts[word] += 1\n",
    "    \n",
    "#other defaults are list (produces empty list) or dict (produces empty dict)\n",
    "#can specify your own defaults, such as:\n",
    "\n",
    "dd_pair = defaultdict(lambda: [0,0])\n",
    "dd_pair[2][1] = 1\n",
    "print(dd_pair.items())"
   ]
  },
  {
   "cell_type": "code",
   "execution_count": 33,
   "metadata": {},
   "outputs": [
    {
     "data": {
      "text/plain": [
       "Counter({0: 2, 1: 1, 2: 1})"
      ]
     },
     "execution_count": 33,
     "metadata": {},
     "output_type": "execute_result"
    }
   ],
   "source": [
    "#a counter turns a sequence of values nto a defaultdict(int) like object\n",
    "#that maps keys to counts, mainly used to make histograms\n",
    "\n",
    "from collections import Counter\n",
    "c = Counter([0,1,2,0])\n",
    "c"
   ]
  },
  {
   "cell_type": "code",
   "execution_count": 34,
   "metadata": {
    "collapsed": true
   },
   "outputs": [],
   "source": [
    "#can count words in documents with:\n",
    "\n",
    "word_counts = Counter(document) #but the document has to be split???\n",
    "\n",
    "#counter has a 'most_common' method that is frequently useful:\n",
    "for word, count in word_counts.most_common(10):\n",
    "    print(word,count)"
   ]
  },
  {
   "cell_type": "code",
   "execution_count": 35,
   "metadata": {
    "collapsed": true
   },
   "outputs": [],
   "source": [
    "#a set is a data structure that contains a collection of distinct elements\n",
    "\n",
    "s = set()\n",
    "s.add(1) #s = {1}\n",
    "s.add(1) #s = {1} still"
   ]
  },
  {
   "cell_type": "code",
   "execution_count": 36,
   "metadata": {},
   "outputs": [
    {
     "data": {
      "text/plain": [
       "False"
      ]
     },
     "execution_count": 36,
     "metadata": {},
     "output_type": "execute_result"
    }
   ],
   "source": [
    "#why sets?\n",
    "#first, the 'in' operation is very fast on sets\n",
    "#second, use to easily find distinct items in a collections\n",
    "stopwords = [\"a\", \"an\", \"at\", \"etc\"]\n",
    "\n",
    "\"zip\" in stopwords #false but has to check every element\n",
    "\n",
    "stopwords_set = set(stopwords)\n",
    "\n",
    "\"zip\" in stopwords_set #false but very fast"
   ]
  },
  {
   "cell_type": "code",
   "execution_count": 37,
   "metadata": {
    "collapsed": true
   },
   "outputs": [],
   "source": [
    "#perform actions conditionally using control flow\n",
    "if 1 > 2:\n",
    "    message = \"1 is bigger than 2?\"\n",
    "elif 1 > 3:\n",
    "    message = \"elif is short for else if\"\n",
    "else:\n",
    "    message = \"when all else fails, use else\""
   ]
  },
  {
   "cell_type": "code",
   "execution_count": 38,
   "metadata": {
    "collapsed": true
   },
   "outputs": [],
   "source": [
    "#can also use ternary if-then-else\n",
    "x = 5\n",
    "parity = \"even\" if x % 2 == 0 else \"odd\""
   ]
  },
  {
   "cell_type": "code",
   "execution_count": 39,
   "metadata": {
    "collapsed": true
   },
   "outputs": [],
   "source": [
    "#python has a while loop\n",
    "x = 0\n",
    "while x < 10:\n",
    "    x += 1"
   ]
  },
  {
   "cell_type": "code",
   "execution_count": 40,
   "metadata": {
    "collapsed": true
   },
   "outputs": [],
   "source": [
    "#but most times we'll use 'for' and 'in'\n",
    "for x in range(1):\n",
    "    x = 1"
   ]
  },
  {
   "cell_type": "code",
   "execution_count": 41,
   "metadata": {},
   "outputs": [
    {
     "name": "stdout",
     "output_type": "stream",
     "text": [
      "0 1 2 4 "
     ]
    }
   ],
   "source": [
    "#use continue and break for more complex logic\n",
    "for x in range(10):\n",
    "    if x == 3:\n",
    "        continue #go immediately to next iteration\n",
    "    if x == 5:\n",
    "        break #quit loop entirely\n",
    "    print(x, end=' ')"
   ]
  },
  {
   "cell_type": "code",
   "execution_count": 42,
   "metadata": {
    "collapsed": true
   },
   "outputs": [],
   "source": [
    "#bools in Python are capitalised\n",
    "one_is_less_than_two = 1 < 2 #true\n",
    "true_equals_false = True == False #false"
   ]
  },
  {
   "cell_type": "code",
   "execution_count": 43,
   "metadata": {},
   "outputs": [
    {
     "name": "stdout",
     "output_type": "stream",
     "text": [
      "True\n",
      "True\n"
     ]
    }
   ],
   "source": [
    "#uses None to indicate a nonexistent value, similar to null in other langs\n",
    "x = None\n",
    "print(x == None) #true, but not Pythonic\n",
    "print(x is None) #true and Pythonic?"
   ]
  },
  {
   "cell_type": "code",
   "execution_count": 44,
   "metadata": {},
   "outputs": [
    {
     "data": {
      "text/plain": [
       "0.0"
      ]
     },
     "execution_count": 44,
     "metadata": {},
     "output_type": "execute_result"
    }
   ],
   "source": [
    "#the following are \"Falsy\"\n",
    "False\n",
    "None\n",
    "[] #empty list\n",
    "{} #empty dict\n",
    "set() #empty set\n",
    "\"\" #empty string\n",
    "0\n",
    "0.0"
   ]
  },
  {
   "cell_type": "code",
   "execution_count": 45,
   "metadata": {
    "collapsed": true
   },
   "outputs": [],
   "source": [
    "def some_function_that_returns_a_string():\n",
    "    return \"string\"\n",
    "\n",
    "s = some_function_that_returns_a_string()\n",
    "\n",
    "if s:\n",
    "    first_char = s[0]\n",
    "else:\n",
    "    first_char = \"\""
   ]
  },
  {
   "cell_type": "code",
   "execution_count": 46,
   "metadata": {},
   "outputs": [
    {
     "name": "stdout",
     "output_type": "stream",
     "text": [
      "\n"
     ]
    }
   ],
   "source": [
    "#simpler way of doing the same is\n",
    "s = \"\"\n",
    "first_char = s and s[0]\n",
    "#returns its second value when the first is \"truthy\"\n",
    "#first value when its not\n",
    "print(first_char)"
   ]
  },
  {
   "cell_type": "code",
   "execution_count": 47,
   "metadata": {
    "collapsed": true
   },
   "outputs": [],
   "source": [
    "#similarly, if x is either a number or possibly None\n",
    "safe_x = x or 0 #definitely returns a number"
   ]
  },
  {
   "cell_type": "code",
   "execution_count": 48,
   "metadata": {},
   "outputs": [
    {
     "data": {
      "text/plain": [
       "True"
      ]
     },
     "execution_count": 48,
     "metadata": {},
     "output_type": "execute_result"
    }
   ],
   "source": [
    "#python also has an 'all' function that only returns true when\n",
    "#every element is truthy\n",
    "all([True, 1, {3}])"
   ]
  },
  {
   "cell_type": "code",
   "execution_count": 49,
   "metadata": {},
   "outputs": [
    {
     "data": {
      "text/plain": [
       "False"
      ]
     },
     "execution_count": 49,
     "metadata": {},
     "output_type": "execute_result"
    }
   ],
   "source": [
    "#and an 'any' function that returns true when at least 1 element is truthy\n",
    "any([\"\", {}, False])"
   ]
  },
  {
   "cell_type": "code",
   "execution_count": 50,
   "metadata": {},
   "outputs": [],
   "source": [
    "#Python can sort in place and return sort\n",
    "x = [4,1,2,3]\n",
    "y = sorted(x) #y = [1,2,3,4], x = [4,3,2,1]\n",
    "x.sort() #x = [1,2,3,4]"
   ]
  },
  {
   "cell_type": "code",
   "execution_count": 51,
   "metadata": {},
   "outputs": [
    {
     "name": "stdout",
     "output_type": "stream",
     "text": [
      "[('banana', 2), ('abacus', 1), ('crab', 0)]\n"
     ]
    }
   ],
   "source": [
    "#if you want to sort from larges to smallest, you can use 'reverse=True'\n",
    "#instead of comparing elements themselves you can compare the results\n",
    "#of a function using a key\n",
    "\n",
    "#sort the list by absolute value from largest to smallest\n",
    "x = sorted([-4,1,-2,3], key=abs, reverse=True) #x = [-4,3,-2,1]\n",
    "\n",
    "#sort words and counts from highest count to lowest\n",
    "word_counts = {\"abacus\":1, \"banana\":2, \"crab\":0}\n",
    "wc = sorted(word_counts.items(),\n",
    "           key=lambda x: x[1],\n",
    "           reverse=True)\n",
    "print(wc)"
   ]
  },
  {
   "cell_type": "code",
   "execution_count": 52,
   "metadata": {
    "collapsed": true
   },
   "outputs": [],
   "source": [
    "#to do list -> list transforms use list comprehensions\n",
    "even_numbers = [x for x in range(5) if x % 2 == 0]\n",
    "squares = [x*x for x in range(5)]\n",
    "even_squares = [x*x for x in even_numbers]"
   ]
  },
  {
   "cell_type": "code",
   "execution_count": 53,
   "metadata": {
    "collapsed": true
   },
   "outputs": [],
   "source": [
    "#can turn lists into dictionaries or sets\n",
    "square_dict = {x : x*x for x in range(5)}\n",
    "square_set = {x*x for x in [-1, 1]}"
   ]
  },
  {
   "cell_type": "code",
   "execution_count": 54,
   "metadata": {
    "collapsed": true
   },
   "outputs": [],
   "source": [
    "#if you don't use value from the list, convention to use underscore\n",
    "zeroes = [0 for _ in even_numbers]"
   ]
  },
  {
   "cell_type": "code",
   "execution_count": 55,
   "metadata": {
    "collapsed": true
   },
   "outputs": [],
   "source": [
    "#list comprehensions can have multiple fors:\n",
    "pairs = [(x, y)\n",
    "         for x in range(10)\n",
    "         for y in range(10)]\n",
    "#the later 'fors' use the results of earlier ones"
   ]
  },
  {
   "cell_type": "code",
   "execution_count": 56,
   "metadata": {},
   "outputs": [
    {
     "name": "stdout",
     "output_type": "stream",
     "text": [
      "[(0, 1), (0, 2), (0, 3), (0, 4), (0, 5)]\n"
     ]
    }
   ],
   "source": [
    "increasing_pairs = [(x, y)\n",
    "                    for x in range(10)\n",
    "                    for y in range(x+1, 10)]\n",
    "#only pairs with x < y\n",
    "print(increasing_pairs[:5])"
   ]
  },
  {
   "cell_type": "code",
   "execution_count": 57,
   "metadata": {
    "collapsed": true
   },
   "outputs": [],
   "source": [
    "#generators and iterators\n",
    "\n",
    "#problem with lists is that they can grow very big\n",
    "#i.e. for Range(1000000), Python will create a list of 1 million elements\n",
    "#if you only need to deal with 1 at a time this is inefficient\n",
    "\n",
    "#a generator is something you can iterate over (using 'for') \n",
    "#but the values are produced only as needed (lazily)\n",
    "\n",
    "def lazy_range(n):\n",
    "    \"\"\"lazy version of range\"\"\"\n",
    "    i = 0\n",
    "    while i < n:\n",
    "        yield i\n",
    "        i += 1"
   ]
  },
  {
   "cell_type": "code",
   "execution_count": 58,
   "metadata": {},
   "outputs": [
    {
     "name": "stdout",
     "output_type": "stream",
     "text": [
      "0 1 2 3 4 5 6 7 8 9 "
     ]
    }
   ],
   "source": [
    "for i in lazy_range(10):\n",
    "    print(i, end=' ')\n",
    "    \n",
    "#python 3's 'range' function is lazy by default"
   ]
  },
  {
   "cell_type": "code",
   "execution_count": 59,
   "metadata": {
    "collapsed": true
   },
   "outputs": [],
   "source": [
    "#second way to create generators us by using comprehensions\n",
    "#that are wrapped in brackets\n",
    "lazy_evens_below_20 = (i for i in lazy_range(20) if i % 2 == 0)"
   ]
  },
  {
   "cell_type": "code",
   "execution_count": 60,
   "metadata": {
    "collapsed": true
   },
   "outputs": [],
   "source": [
    "#randomness\n",
    "import random\n",
    "\n",
    "four_uniform_randoms = [random.random() for _ in range(4)]\n",
    "\n",
    "#random.random() produces numbers uniformly between 0 and 1"
   ]
  },
  {
   "cell_type": "code",
   "execution_count": 61,
   "metadata": {},
   "outputs": [
    {
     "name": "stdout",
     "output_type": "stream",
     "text": [
      "0.13436424411240122\n",
      "0.8474337369372327\n",
      "0.13436424411240122\n",
      "0.8474337369372327\n"
     ]
    }
   ],
   "source": [
    "#random module actually produces numbers pseudorandomly\n",
    "#that is they are based on an internal seed state\n",
    "random.seed(1)\n",
    "print(random.random())\n",
    "print(random.random())\n",
    "random.seed(1)\n",
    "print(random.random())\n",
    "print(random.random())"
   ]
  },
  {
   "cell_type": "code",
   "execution_count": 62,
   "metadata": {},
   "outputs": [
    {
     "data": {
      "text/plain": [
       "4"
      ]
     },
     "execution_count": 62,
     "metadata": {},
     "output_type": "execute_result"
    }
   ],
   "source": [
    "#there's a random.randrange function which chooses\n",
    "#elements chosing randomly from the corresponding range()\n",
    "random.randrange(10) #from between [0, ..., 9]\n",
    "random.randrange(3,6) #from between [3,4,5]"
   ]
  },
  {
   "cell_type": "code",
   "execution_count": 63,
   "metadata": {},
   "outputs": [
    {
     "name": "stdout",
     "output_type": "stream",
     "text": [
      "[0, 1, 2, 3, 4, 5, 6, 7, 8, 9]\n",
      "[2, 4, 0, 9, 6, 5, 3, 8, 7, 1]\n"
     ]
    }
   ],
   "source": [
    "#random.shuffle randomly orders elements of a list in place\n",
    "up_to_ten = list(range(10))\n",
    "print(up_to_ten)\n",
    "random.shuffle(up_to_ten)\n",
    "print(up_to_ten)"
   ]
  },
  {
   "cell_type": "code",
   "execution_count": 64,
   "metadata": {
    "collapsed": true
   },
   "outputs": [],
   "source": [
    "#use random.choice to pick an element from a list\n",
    "my_best_friend = random.choice([\"A\", \"B\", \"C\"])"
   ]
  },
  {
   "cell_type": "code",
   "execution_count": 65,
   "metadata": {},
   "outputs": [
    {
     "name": "stdout",
     "output_type": "stream",
     "text": [
      "[57, 53, 24, 27, 38, 48]\n"
     ]
    }
   ],
   "source": [
    "#use random.sample to pick elements without replacement (i.e. no duplicates)\n",
    "lottery_numbers = list(range(60))\n",
    "winning_numbers = random.sample(lottery_numbers, 6)\n",
    "print(winning_numbers)"
   ]
  },
  {
   "cell_type": "code",
   "execution_count": 66,
   "metadata": {},
   "outputs": [
    {
     "name": "stdout",
     "output_type": "stream",
     "text": [
      "[0, 7, 4, 3]\n"
     ]
    }
   ],
   "source": [
    "#to sample from all elements with replacement (i.e. with duplicates)\n",
    "#just use random.choice multiple times\n",
    "four_with_replacement = [random.choice(list(range(10))) for _ in range(4)]\n",
    "print(four_with_replacement)"
   ]
  },
  {
   "cell_type": "code",
   "execution_count": 67,
   "metadata": {},
   "outputs": [
    {
     "name": "stdout",
     "output_type": "stream",
     "text": [
      "True\n"
     ]
    }
   ],
   "source": [
    "#regular expressions are a way of searching text\n",
    "import re\n",
    "print(all([ #returns true because:\n",
    "    not re.match(\"a\", \"cat\"), #cat doesn't start with a\n",
    "    re.search(\"a\", \"cat\"),    #cat does have an a in it\n",
    "    not re.search(\"c\", \"dog\"), #dog doesn't have a c in it\n",
    "    3 == len(re.split(\"[ab]\", \"carbs\")), #split on a or b to [c,r,s]\n",
    "    \"R-D-\" == re.sub(\"[0-9]\", \"-\", \"R2D2\") #replace digits with dashes\n",
    "]))"
   ]
  },
  {
   "cell_type": "code",
   "execution_count": 68,
   "metadata": {
    "collapsed": true
   },
   "outputs": [],
   "source": [
    "#python has classes that encapsulate data and functions that operate on them\n",
    "#example, create our own 'Set' class\n",
    "#need to add items\n",
    "#remove items\n",
    "#check if already contains a value\n",
    "#all of these will be \"member\" functions so need a dot after the set object\n",
    "\n",
    "class Set:\n",
    "    def __init__(self, values=None):\n",
    "        \"\"\"\n",
    "        Constructor. Gets called when you create new Set.\n",
    "        Use like: s1 = Set() for empty set for s2 = Set([1,2,2,3]) for values\n",
    "        \"\"\"\n",
    "        \n",
    "        self.dict = {}\n",
    "        \n",
    "        if values is not None:\n",
    "            for value in values:\n",
    "                self.add(value)\n",
    "    \n",
    "    def __repr__(self):\n",
    "        \"\"\"a string representation of a Set object\"\"\"\n",
    "        return \"Set: \" + str(self.dict.keys())\n",
    "    \n",
    "    #represent membership by being a key in self.dict with value True\n",
    "    def add(self, value):\n",
    "        self.dict[value] = True\n",
    "        \n",
    "    #value is in the set if it's a key in the dict\n",
    "    def contains(self, value):\n",
    "        return value in self.dict\n",
    "    \n",
    "    def remove(self, value):\n",
    "        del self.dict[value]"
   ]
  },
  {
   "cell_type": "code",
   "execution_count": 69,
   "metadata": {},
   "outputs": [
    {
     "name": "stdout",
     "output_type": "stream",
     "text": [
      "True\n",
      "False\n",
      "Set: dict_keys([1, 2, 4])\n"
     ]
    }
   ],
   "source": [
    "#can use the object like\n",
    "s = Set([1,2,3])\n",
    "s.add(4)\n",
    "print(s.contains(4))\n",
    "s.remove(3)\n",
    "print(s.contains(3))\n",
    "print(s)"
   ]
  },
  {
   "cell_type": "code",
   "execution_count": 70,
   "metadata": {},
   "outputs": [
    {
     "name": "stdout",
     "output_type": "stream",
     "text": [
      "8\n"
     ]
    }
   ],
   "source": [
    "#when using functions sometimes we want to psrtially apply (curry)\n",
    "#functions to create new functions\n",
    "#consider a function with two variables\n",
    "\n",
    "def exp(base, power):\n",
    "    return base ** power\n",
    "\n",
    "#we want to use it to create a function of one variable 'two_to_the'\n",
    "#with input of power and output is the result of exp(2, power)\n",
    "#bad way to do it:\n",
    "\n",
    "def two_to_the(power):\n",
    "    return exp(2, power)\n",
    "\n",
    "#better way is to use functools.partial:\n",
    "\n",
    "import functools\n",
    "two_to_the = functools.partial(exp, 2) #now a function of one variable\n",
    "print(two_to_the(3))"
   ]
  },
  {
   "cell_type": "code",
   "execution_count": 71,
   "metadata": {},
   "outputs": [
    {
     "name": "stdout",
     "output_type": "stream",
     "text": [
      "9\n"
     ]
    }
   ],
   "source": [
    "#use partial to fill in later arguments if you specify their name\n",
    "square_of = functools.partial(exp, power=2)\n",
    "print(square_of(3))"
   ]
  },
  {
   "cell_type": "code",
   "execution_count": 72,
   "metadata": {},
   "outputs": [
    {
     "name": "stdout",
     "output_type": "stream",
     "text": [
      "[2, 4, 6, 8]\n",
      "[2, 4, 6, 8]\n",
      "[2, 4, 6, 8]\n"
     ]
    }
   ],
   "source": [
    "#can use map, reduce and filter to provide functional alternatives\n",
    "#to list comprehensions\n",
    "\n",
    "#In Python 3+, many processes that iterate over iterables return \n",
    "#iterators themselves. In most cases, this ends up saving memory, \n",
    "#and should make things go faster.\n",
    "#HOWEVER, it means we need to convert them into lists\n",
    "\n",
    "def double(x):\n",
    "    return x * 2\n",
    "\n",
    "xs = [1,2,3,4]\n",
    "twice_xs = [double(x) for x in xs]\n",
    "print(twice_xs)\n",
    "twice_xs = list(map(double, xs)) #same as above\n",
    "print(twice_xs)\n",
    "list_doubler = functools.partial(map, double) #function that doubles a list\n",
    "twice_xs = list(list_doubler(xs)) #again, same as above\n",
    "print(twice_xs)"
   ]
  },
  {
   "cell_type": "code",
   "execution_count": 73,
   "metadata": {},
   "outputs": [
    {
     "name": "stdout",
     "output_type": "stream",
     "text": [
      "[4, 10]\n"
     ]
    }
   ],
   "source": [
    "#can map with multiple arguments to return multiple lists\n",
    "\n",
    "def multiply(x, y): return x * y\n",
    "\n",
    "products = list(map(multiply, [1,2], [4,5])) #[1*4, 2*5] = [4,10]\n",
    "\n",
    "print(products)"
   ]
  },
  {
   "cell_type": "code",
   "execution_count": 74,
   "metadata": {},
   "outputs": [
    {
     "name": "stdout",
     "output_type": "stream",
     "text": [
      "[2, 4]\n",
      "[2, 4]\n",
      "[2, 4]\n"
     ]
    }
   ],
   "source": [
    "#similarly, filter does the work of a list-comprehension 'if'\n",
    "\n",
    "def is_even(x):\n",
    "    \"\"\"True if x is even, else false\"\"\"\n",
    "    return x % 2 == 0\n",
    "\n",
    "x_evens = [x for x in xs if is_even(x)]\n",
    "print(x_evens)\n",
    "x_evens = list(filter(is_even, xs))\n",
    "print(x_evens)\n",
    "list_evener = functools.partial(filter, is_even)\n",
    "x_evens = list(list_evener(xs))\n",
    "print(x_evens)"
   ]
  },
  {
   "cell_type": "code",
   "execution_count": 75,
   "metadata": {},
   "outputs": [
    {
     "name": "stdout",
     "output_type": "stream",
     "text": [
      "24\n",
      "24\n"
     ]
    }
   ],
   "source": [
    "#reduce combines the first two elements of a list and then that result\n",
    "#with the third and that with the fourth, etc.\n",
    "\n",
    "x_product = functools.reduce(multiply, xs)\n",
    "print(x_product) #[1,2,3,4] -> 1*2*3*4 = 24\n",
    "list_product = functools.partial(functools.reduce, multiply)\n",
    "x_product = list_product(xs)\n",
    "print(x_product)"
   ]
  },
  {
   "cell_type": "code",
   "execution_count": 76,
   "metadata": {
    "collapsed": true
   },
   "outputs": [],
   "source": [
    "#sometimes you want to iterate over a list and use both their elements\n",
    "#and their indexes\n",
    "\n",
    "documents = [\"hello\", \"world\", \"how\", \"are\", \"you\"]\n",
    "\n",
    "def do_something(i=None, s=\"default\"):\n",
    "    return s.upper()\n",
    "\n",
    "#not Pythonic\n",
    "for i in range(len(documents)):\n",
    "    document = documents[i]\n",
    "    do_something(i, document)\n",
    "    \n",
    "#also not Pythonic\n",
    "i = 0\n",
    "for document in documents:\n",
    "    do_something(i, document)\n",
    "    i += 1\n",
    "    \n",
    "#pythonic solution is enumerate which produces (index, element) tuples\n",
    "for i, document in enumerate(documents):\n",
    "    do_something(i, document)\n",
    "    \n",
    "#if you just want the indexes:\n",
    "for i in range(len(documents)): do_something(i) #not Pythonic\n",
    "\n",
    "for i, _ in enumerate(documents): do_something(i) #Pythonic"
   ]
  },
  {
   "cell_type": "code",
   "execution_count": 77,
   "metadata": {},
   "outputs": [
    {
     "data": {
      "text/plain": [
       "[('a', 1), ('b', 2), ('c', 3)]"
      ]
     },
     "execution_count": 77,
     "metadata": {},
     "output_type": "execute_result"
    }
   ],
   "source": [
    "#you can zip two or more lists together\n",
    "#zip transforms multiple lists into a single of tuples of corresponding\n",
    "#elements\n",
    "\n",
    "list1 = ['a', 'b', 'c']\n",
    "list2 = [1, 2, 3]\n",
    "list(zip(list1, list2))"
   ]
  },
  {
   "cell_type": "code",
   "execution_count": 78,
   "metadata": {},
   "outputs": [
    {
     "name": "stdout",
     "output_type": "stream",
     "text": [
      "('a', 'b', 'c')\n",
      "(1, 2, 3)\n"
     ]
    }
   ],
   "source": [
    "#can also unzip a list\n",
    "#the asterisk performs argument unpacking which calls the elements of 'pairs' as individual arguments to zip\n",
    "\n",
    "pairs = [('a', 1), ('b', 2), ('c', 3)]\n",
    "letters, numbers = list(zip(*pairs))\n",
    "print(letters)\n",
    "print(numbers)"
   ]
  },
  {
   "cell_type": "code",
   "execution_count": 79,
   "metadata": {},
   "outputs": [
    {
     "data": {
      "text/plain": [
       "3"
      ]
     },
     "execution_count": 79,
     "metadata": {},
     "output_type": "execute_result"
    }
   ],
   "source": [
    "#can use argument unpacking with any function\n",
    "\n",
    "def add(a, b): return a + b\n",
    "\n",
    "add(1,2) #returns 3\n",
    "add(*[1,2]) #also returns 3"
   ]
  },
  {
   "cell_type": "code",
   "execution_count": 80,
   "metadata": {},
   "outputs": [
    {
     "name": "stdout",
     "output_type": "stream",
     "text": [
      "8\n",
      "0\n"
     ]
    }
   ],
   "source": [
    "#args and kwargs\n",
    "#higher order function that takes in a function and returns twice the value of the return of that function\n",
    "\n",
    "def doubler(f):\n",
    "    def g(x):\n",
    "        return 2 * f(x)\n",
    "    return g\n",
    "\n",
    "def f1(x): return x + 1\n",
    "\n",
    "g = doubler(f1)\n",
    "print(g(3))\n",
    "print(g(-1))"
   ]
  },
  {
   "cell_type": "code",
   "execution_count": 81,
   "metadata": {},
   "outputs": [
    {
     "name": "stdout",
     "output_type": "stream",
     "text": [
      "unnamed args (1, 2)\n",
      "keyword args {'key1': 'word1', 'key2': 'word2'}\n"
     ]
    }
   ],
   "source": [
    "#this however doesn't work when f takes multiple arguments\n",
    "#we can solve this by specifying a function that takes arbitrary arguments\n",
    "\n",
    "def magic(*args, **kwargs):\n",
    "    print(\"unnamed args\", args)\n",
    "    print(\"keyword args\", kwargs)\n",
    "    \n",
    "magic(1, 2, key1='word1', key2='word2')"
   ]
  },
  {
   "cell_type": "code",
   "execution_count": 82,
   "metadata": {},
   "outputs": [
    {
     "name": "stdout",
     "output_type": "stream",
     "text": [
      "x 1\n",
      "y 2\n",
      "z 3\n",
      "6\n"
     ]
    }
   ],
   "source": [
    "#can also do\n",
    "\n",
    "x_y_list = [1,2]\n",
    "z_dict = {'z':3} #this uses '3' for the 'z' argument in the function 'alt_magic'\n",
    "\n",
    "def alt_magic(x, y, z):\n",
    "    print(\"x\",x)\n",
    "    print(\"y\",y)\n",
    "    print(\"z\",z)\n",
    "    return x + y + z\n",
    "\n",
    "print(alt_magic(*x_y_list, **z_dict))"
   ]
  },
  {
   "cell_type": "code",
   "execution_count": 83,
   "metadata": {},
   "outputs": [
    {
     "name": "stdout",
     "output_type": "stream",
     "text": [
      "6\n"
     ]
    }
   ],
   "source": [
    "def doubler_correct(f):\n",
    "    \"\"\"works no matter what kind of inputs f expects\"\"\"\n",
    "    def h(*args, **kwargs):\n",
    "        \"\"\"whatever arguments g is supplied, pass them through to f\"\"\"\n",
    "        return 2 * f(*args, **kwargs)\n",
    "    return h\n",
    "\n",
    "def f2(x, y):\n",
    "    return x + y\n",
    "\n",
    "g = doubler_correct(f2)\n",
    "print(g(1,2)) # 6"
   ]
  },
  {
   "cell_type": "code",
   "execution_count": null,
   "metadata": {
    "collapsed": true
   },
   "outputs": [],
   "source": []
  }
 ],
 "metadata": {
  "kernelspec": {
   "display_name": "Python 3",
   "language": "python",
   "name": "python3"
  },
  "language_info": {
   "codemirror_mode": {
    "name": "ipython",
    "version": 3
   },
   "file_extension": ".py",
   "mimetype": "text/x-python",
   "name": "python",
   "nbconvert_exporter": "python",
   "pygments_lexer": "ipython3",
   "version": "3.6.2"
  }
 },
 "nbformat": 4,
 "nbformat_minor": 2
}

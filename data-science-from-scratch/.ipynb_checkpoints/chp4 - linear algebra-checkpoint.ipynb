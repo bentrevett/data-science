{
 "cells": [
  {
   "cell_type": "code",
   "execution_count": 1,
   "metadata": {
    "collapsed": true
   },
   "outputs": [],
   "source": [
    "#vectors are points in a finite-dimensional space\n",
    "#height, weight and ages of people means each person is a 3D vector\n",
    "#results for 4 exams means each student is a 4D vector of their scores\n",
    "\n",
    "height_weight_age = [70, 170, 40]\n",
    "\n",
    "grades = [95, 90, 75, 62]"
   ]
  },
  {
   "cell_type": "code",
   "execution_count": 4,
   "metadata": {
    "collapsed": true
   },
   "outputs": [],
   "source": [
    "#problem is that we want to perform arithmetc on vectors\n",
    "#as python lists aren't vectors we need to build those ourselves\n",
    "\n",
    "#want to add vectors componentwise, i.e. [v[0]+w[0], v[1]+w[1], ...], \n",
    "#implies both must be the same length\n",
    "\n",
    "#can easily do this by zipping the vectors together with list comprehension\n",
    "\n",
    "def vector_add(v, w):\n",
    "    \"\"\"adds corresponding elements\"\"\"\n",
    "    return [v_i + w_i for (v_i, w_i) in zip(v,w)]\n",
    "\n",
    "#can do the same for subtracting\n",
    "def vector_sub(v, w):\n",
    "    \"\"\"subtracts corresponding elements\"\"\"\n",
    "    return [v_i - w_i for (v_i, w_i) in zip(v,w)]"
   ]
  },
  {
   "cell_type": "code",
   "execution_count": 8,
   "metadata": {},
   "outputs": [
    {
     "name": "stdout",
     "output_type": "stream",
     "text": [
      "[9, 12]\n"
     ]
    }
   ],
   "source": [
    "#sometimes want to componentwise sum of a list of vectors\n",
    "#i.e. create new vector whose first element is sum of all first elements\n",
    "#basically vector add but across n vectors\n",
    "\n",
    "def vector_sum(vectors):\n",
    "    \"\"\"sums all corresponding elements\"\"\"\n",
    "    result = vectors[0] #uses the first vector as a running total to be added to\n",
    "    for vector in vectors[1:]: \n",
    "        result = vector_add(result, vector)\n",
    "    return result\n",
    "\n",
    "vectors = [[1,2],[3,4],[5,6]]\n",
    "print(vector_sum(vectors))"
   ]
  },
  {
   "cell_type": "code",
   "execution_count": 12,
   "metadata": {},
   "outputs": [
    {
     "name": "stdout",
     "output_type": "stream",
     "text": [
      "[9, 12]\n"
     ]
    }
   ],
   "source": [
    "#can also write using `reduce`\n",
    "#reduce combines the first two elements of a list and then that result\n",
    "#with the third and that with the fourth, etc.\n",
    "\n",
    "import functools\n",
    "\n",
    "def vector_sum(vectors):\n",
    "    return functools.reduce(vector_add, vectors)\n",
    "\n",
    "print(vector_sum(vectors))"
   ]
  },
  {
   "cell_type": "code",
   "execution_count": 13,
   "metadata": {
    "collapsed": true
   },
   "outputs": [],
   "source": [
    "#also want to multiply each vector by a scalar\n",
    "\n",
    "def scalar_multiply(c, v):\n",
    "    \"\"\"c is the scalar, v is the vector\"\"\"\n",
    "    return [c * v_i for v_i in v]"
   ]
  },
  {
   "cell_type": "code",
   "execution_count": 14,
   "metadata": {},
   "outputs": [
    {
     "name": "stdout",
     "output_type": "stream",
     "text": [
      "[3.0, 4.0]\n"
     ]
    }
   ],
   "source": [
    "#this allows us to compute the componentwise mean of a list of vectors\n",
    "\n",
    "def vector_mean(vectors):\n",
    "    \"\"\"compute vector with ith element the mean of the ith element\n",
    "       of all vectors\"\"\"\n",
    "    n = len(vectors)\n",
    "    return scalar_multiply(1/n, vector_sum(vectors))\n",
    "\n",
    "print(vector_mean(vectors))"
   ]
  },
  {
   "cell_type": "code",
   "execution_count": 18,
   "metadata": {},
   "outputs": [
    {
     "name": "stdout",
     "output_type": "stream",
     "text": [
      "32\n"
     ]
    }
   ],
   "source": [
    "#the dot product of two vectors is the sum of their componentwise products\n",
    "\n",
    "def dot(v, w):\n",
    "    \"\"\"v_0 * w_0 + ... + v_n * w_n \"\"\"\n",
    "    return sum(v_i * w_i for (v_i, w_i) in zip(v, w))\n",
    "\n",
    "vector_1 = [1,2,3]\n",
    "vector_2 = [4,5,6]\n",
    "print(dot(vector_1, vector_2))\n",
    "\n",
    "#the dot produce measures how far vector 'v' extends in the 'w' direction\n",
    "#it is the length of the vector you'd get if you projected v onto w"
   ]
  },
  {
   "cell_type": "code",
   "execution_count": 19,
   "metadata": {
    "collapsed": true
   },
   "outputs": [],
   "source": [
    "#using `dot`, it's easy to compute sum of squares for a vector\n",
    "\n",
    "def sum_of_squares(v):\n",
    "    \"\"\" v0 * v0 + ... + v_n + v_n\"\"\"\n",
    "    return dot(v, v)"
   ]
  },
  {
   "cell_type": "code",
   "execution_count": 20,
   "metadata": {},
   "outputs": [
    {
     "name": "stdout",
     "output_type": "stream",
     "text": [
      "3.7416573867739413\n"
     ]
    }
   ],
   "source": [
    "#and we can use that to compute a vector's magnitude (length)\n",
    "\n",
    "import math\n",
    "\n",
    "def magnitude(v):\n",
    "    return math.sqrt(sum_of_squares(v))\n",
    "\n",
    "print(magnitude(vector_1))"
   ]
  },
  {
   "cell_type": "code",
   "execution_count": 22,
   "metadata": {
    "collapsed": true
   },
   "outputs": [],
   "source": [
    "#we can now compute the distance between two vectors\n",
    "#(the square root of the squares of the elementwise differences)\n",
    "\n",
    "def squared_distance(v, w):\n",
    "    \"\"\"(v_0 - w_0) ** 2 + ... + (v_n - w_n) ** 2\"\"\"\n",
    "    return sum_of_squares(vector_subtract(v, w))\n",
    "\n",
    "def distance(v, w):\n",
    "    return math.sqrt(squared_distance(v, w))\n",
    "\n",
    "#could also write as\n",
    "\n",
    "def distance(v, w):\n",
    "    return magnitude(vector_subtract(v, w))"
   ]
  },
  {
   "cell_type": "code",
   "execution_count": 23,
   "metadata": {
    "collapsed": true
   },
   "outputs": [],
   "source": [
    "#a matrix is a two-dimension collection of numbers\n",
    "#represented as lists of lists\n",
    "#each inner list is a row of the matrix\n",
    "#A[i][j] is the ith row and jth column\n",
    "\n",
    "A = [[1,2,3],[4,5,6]] #2 rows, 3 columns\n",
    "\n",
    "B = [[1,2],[3,4],[5,6]] #3 rows, 2 columns"
   ]
  },
  {
   "cell_type": "code",
   "execution_count": 25,
   "metadata": {},
   "outputs": [
    {
     "name": "stdout",
     "output_type": "stream",
     "text": [
      "(2, 3)\n",
      "(3, 2)\n"
     ]
    }
   ],
   "source": [
    "def shape(A):\n",
    "    num_rows = len(A)\n",
    "    num_cols = len(A[0] if A else 0)\n",
    "    return num_rows, num_cols\n",
    "\n",
    "print(shape(A))\n",
    "print(shape(B))"
   ]
  },
  {
   "cell_type": "code",
   "execution_count": 28,
   "metadata": {},
   "outputs": [
    {
     "name": "stdout",
     "output_type": "stream",
     "text": [
      "[1, 2, 3]\n",
      "[1, 4]\n"
     ]
    }
   ],
   "source": [
    "def get_row(A, i):\n",
    "    return A[i]\n",
    "\n",
    "def get_column(A, j):\n",
    "    return [A_i[j] for A_i in A] #for jth element in each row (element), A_i in A\n",
    "\n",
    "print(get_row(A, 0))\n",
    "print(get_column(A, 0))"
   ]
  },
  {
   "cell_type": "code",
   "execution_count": 29,
   "metadata": {
    "collapsed": true
   },
   "outputs": [],
   "source": [
    "#also want to create a matrix given it's shape and a function for each elements\n",
    "\n",
    "def make_matrix(num_rows, num_cols, entry_fn):\n",
    "    \"\"\"returns a num_rows x num_cols matrix, with (i,j)th entry being entry_fn(i,j)\"\"\"\n",
    "    #given i, create a list [entry_fn(i, 0), ...]     for each i\n",
    "    return [[entry_fn(i, j) for j in range(num_cols)] for i in range(num_rows)]"
   ]
  },
  {
   "cell_type": "code",
   "execution_count": 36,
   "metadata": {},
   "outputs": [
    {
     "name": "stdout",
     "output_type": "stream",
     "text": [
      "[1, 0, 0, 0, 0]\n",
      "[0, 1, 0, 0, 0]\n",
      "[0, 0, 1, 0, 0]\n",
      "[0, 0, 0, 1, 0]\n",
      "[0, 0, 0, 0, 1]\n"
     ]
    }
   ],
   "source": [
    "#can use this to make a 5x5 identity matrix \n",
    "\n",
    "def is_diagonal(i, j):\n",
    "    \"\"\"return 1s on the diagonal, 0s everywhere else\"\"\"\n",
    "    return 1 if i == j else 0\n",
    "\n",
    "identity_matrix = make_matrix(5, 5, is_diagonal)\n",
    "\n",
    "\n",
    "def print_matrix(A):\n",
    "    for i in A:\n",
    "        print(i)\n",
    "        \n",
    "print_matrix(identity_matrix)"
   ]
  },
  {
   "cell_type": "code",
   "execution_count": 37,
   "metadata": {
    "collapsed": true
   },
   "outputs": [],
   "source": [
    "#can use matrices to represent data consisting of multiple vectors by considering\n",
    "#each vector as a row of the matrix\n",
    "#i.e. if you had heights, weights ages of 1000 people can be a 1000 x 3 matrix\n",
    "\n",
    "#we can use an n x k matrix to represent a linear function that maps \n",
    "#k-dimensional vectors to n-dimensional vectors"
   ]
  },
  {
   "cell_type": "code",
   "execution_count": 40,
   "metadata": {},
   "outputs": [
    {
     "name": "stdout",
     "output_type": "stream",
     "text": [
      "[4, 6, 7]\n"
     ]
    }
   ],
   "source": [
    "#matrices can represent binary relations, i.e. a friendship graph\n",
    "\n",
    "friendships = [(0, 1), (0, 2), (1, 2), (1, 3), (2, 3), (3, 4),\n",
    "               (4, 5), (5, 6), (5, 7), (6, 8), (7, 8), (8, 9)]\n",
    "\n",
    "#(0,1) means user 0 is friends with user 1, etc.\n",
    "\n",
    "#this could also be represented as\n",
    "\n",
    "friendships =  [[0, 1, 1, 0, 0, 0, 0, 0, 0, 0], # user 0\n",
    "                [1, 0, 1, 1, 0, 0, 0, 0, 0, 0], # user 1\n",
    "                [1, 1, 0, 1, 0, 0, 0, 0, 0, 0], # user 2\n",
    "                [0, 1, 1, 0, 1, 0, 0, 0, 0, 0], # user 3\n",
    "                [0, 0, 0, 1, 0, 1, 0, 0, 0, 0], # user 4\n",
    "                [0, 0, 0, 0, 1, 0, 1, 1, 0, 0], # user 5 ***\n",
    "                [0, 0, 0, 0, 0, 1, 0, 0, 1, 0], # user 6\n",
    "                [0, 0, 0, 0, 0, 1, 0, 0, 1, 0], # user 7\n",
    "                [0, 0, 0, 0, 0, 0, 1, 1, 0, 1], # user 8\n",
    "                [0, 0, 0, 0, 0, 0, 0, 0, 1, 0]] # user 9\n",
    "\n",
    "#with very few connections this is inefficient as stores lots of zeros\n",
    "#however easier to check if two nodes are connected\n",
    "\n",
    "#friendships[0][2] == 1, this means user 0 and user 2 are friends\n",
    "\n",
    "#similarly, to find connections a node has only need to inspect column/row \n",
    "#corresponding to that node\n",
    "\n",
    "#this only needs to look at one row\n",
    "friends_of_five = [i for i, is_friend in enumerate(friendships[5]) if is_friend]\n",
    "\n",
    "print(friends_of_five)"
   ]
  },
  {
   "cell_type": "code",
   "execution_count": null,
   "metadata": {
    "collapsed": true
   },
   "outputs": [],
   "source": [
    "#recommended linear algebra links\n",
    "# free book https://www.math.ucdavis.edu/~linear/\n",
    "# free book http://joshua.smcvt.edu/linearalgebra/\n",
    "# hard (but still free) book http://www.math.brown.edu/~treil/papers/LADW/LADW.html"
   ]
  }
 ],
 "metadata": {
  "kernelspec": {
   "display_name": "Python 3",
   "language": "python",
   "name": "python3"
  },
  "language_info": {
   "codemirror_mode": {
    "name": "ipython",
    "version": 3
   },
   "file_extension": ".py",
   "mimetype": "text/x-python",
   "name": "python",
   "nbconvert_exporter": "python",
   "pygments_lexer": "ipython3",
   "version": "3.6.2"
  }
 },
 "nbformat": 4,
 "nbformat_minor": 2
}

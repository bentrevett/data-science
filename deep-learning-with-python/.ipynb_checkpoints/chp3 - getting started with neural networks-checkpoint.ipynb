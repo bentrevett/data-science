{
 "cells": [
  {
   "cell_type": "code",
   "execution_count": 1,
   "metadata": {},
   "outputs": [],
   "source": [
    "#three examples in this chapter\n",
    "#1. classifying movie reviews as positive or negative\n",
    "#2. classifying news wires by topic\n",
    "#3. estimating the price of a house \n",
    "\n",
    "#those are:\n",
    "#1. binary classification\n",
    "#2. multi-class classification\n",
    "#3. regression\n",
    "\n",
    "#neural networks are made of:\n",
    "#1. layers\n",
    "#2. input data\n",
    "#3. loss function\n",
    "#4. optimizer\n",
    "\n",
    "#layer takes in an input and produces an output\n",
    "#layers have state, the weights\n",
    "\n",
    "#models are directed, acyclic graphs made of layers\n",
    "#the architecture of the model defines the hypothesis space\n",
    "#the topology represents the space of possible representations\n",
    "\n",
    "#you also have a loss function and an optimizer\n",
    "#loss is a quantity you want to minimize, and defines how\n",
    "#well you are doing\n",
    "#optimizer determines how to update the parameters based\n",
    "#on the loss function\n",
    "\n",
    "#always choose the right loss\n",
    "#binary cross-entropy for 2 class problems\n",
    "#categorical cross-netropy for multi-class problems\n",
    "#MSE for regression problems\n",
    "#connectionist temporal classification for sequence problems?\n",
    "\n",
    "#the workflow for Keras is:\n",
    "#1. define training data\n",
    "#2. define network of layers\n",
    "#3. choose loss function, optimizer and metrics with .compile\n",
    "#4. run training loop with .fit"
   ]
  },
  {
   "cell_type": "code",
   "execution_count": 2,
   "metadata": {},
   "outputs": [
    {
     "name": "stderr",
     "output_type": "stream",
     "text": [
      "Using TensorFlow backend.\n"
     ]
    },
    {
     "name": "stdout",
     "output_type": "stream",
     "text": [
      "[1, 14, 22, 16, 43, 530, 973, 1622, 1385, 65, 458, 4468, 66, 3941, 4, 173, 36, 256, 5, 25, 100, 43, 838, 112, 50, 670, 2, 9, 35, 480, 284, 5, 150, 4, 172, 112, 167, 2, 336, 385, 39, 4, 172, 4536, 1111, 17, 546, 38, 13, 447, 4, 192, 50, 16, 6, 147, 2025, 19, 14, 22, 4, 1920, 4613, 469, 4, 22, 71, 87, 12, 16, 43, 530, 38, 76, 15, 13, 1247, 4, 22, 17, 515, 17, 12, 16, 626, 18, 2, 5, 62, 386, 12, 8, 316, 8, 106, 5, 4, 2223, 5244, 16, 480, 66, 3785, 33, 4, 130, 12, 16, 38, 619, 5, 25, 124, 51, 36, 135, 48, 25, 1415, 33, 6, 22, 12, 215, 28, 77, 52, 5, 14, 407, 16, 82, 2, 8, 4, 107, 117, 5952, 15, 256, 4, 2, 7, 3766, 5, 723, 36, 71, 43, 530, 476, 26, 400, 317, 46, 7, 4, 2, 1029, 13, 104, 88, 4, 381, 15, 297, 98, 32, 2071, 56, 26, 141, 6, 194, 7486, 18, 4, 226, 22, 21, 134, 476, 26, 480, 5, 144, 30, 5535, 18, 51, 36, 28, 224, 92, 25, 104, 4, 226, 65, 16, 38, 1334, 88, 12, 16, 283, 5, 16, 4472, 113, 103, 32, 15, 16, 5345, 19, 178, 32]\n",
      "1\n"
     ]
    }
   ],
   "source": [
    "#binary classification of movie reviews\n",
    "\n",
    "#based on the review contents, classify it as positive\n",
    "#never test a machine learning model on the data used to train it\n",
    "#as the model will just memorize the training data\n",
    "\n",
    "from keras.datasets import imdb\n",
    "\n",
    "(train_data, train_labels), (test_data, test_labels) = imdb.load_data(num_words=10_000)\n",
    "\n",
    "#num_words = 10k means you only keep the 10k most common words\n",
    "#in the TRAINING DATA\n",
    "#the labels are 0 for negative and 1 for positive\n",
    "\n",
    "print(train_data[0])\n",
    "print(train_labels[0])"
   ]
  },
  {
   "cell_type": "code",
   "execution_count": 3,
   "metadata": {},
   "outputs": [
    {
     "data": {
      "text/plain": [
       "9999"
      ]
     },
     "execution_count": 3,
     "metadata": {},
     "output_type": "execute_result"
    }
   ],
   "source": [
    "#as we have 10k most common words, no index will exceed 10k\n",
    "max([max(sequence) for sequence in train_data])"
   ]
  },
  {
   "cell_type": "code",
   "execution_count": 4,
   "metadata": {},
   "outputs": [
    {
     "name": "stdout",
     "output_type": "stream",
     "text": [
      "? this film was just brilliant casting location scenery story direction everyone's really suited the part they played and you could just imagine being there robert ? is an amazing actor and now the same being director ? father came from the same scottish island as myself so i loved the fact there was a real connection with this film the witty remarks throughout the film were great it was just brilliant so much that i bought the film as soon as it was released for ? and would recommend it to everyone to watch and the fly fishing was amazing really cried at the end it was so sad and you know what they say if you cry at a film it must have been good and this definitely was also ? to the two little boy's that played the ? of norman and paul they were just brilliant children are often left out of the ? list i think because the stars that play them all grown up are such a big profile for the whole film but these children are amazing and should be praised for what they have done don't you think the whole story was so lovely because it was true and was someone's life after all that was shared with us all\n"
     ]
    }
   ],
   "source": [
    "#you can decode the reviews back into english\n",
    "word_index = imdb.get_word_index() #mapping from words to int\n",
    "reverse_word_index = dict([(v, k) for (k, v) in word_index.items()])\n",
    "decoded_review = ' '.join(\n",
    "                        [reverse_word_index.get(i-3,'?') for i in train_data[0]])\n",
    "print(decoded_review)"
   ]
  },
  {
   "cell_type": "code",
   "execution_count": 5,
   "metadata": {},
   "outputs": [],
   "source": [
    "#we are going to turn each word into a one-hot vector\n",
    "\n",
    "import numpy as np\n",
    "\n",
    "def vectorize_sequences(sequences, dimension=10_000):\n",
    "    results = np.zeros((len(sequences), dimension))\n",
    "    for i, sequence in enumerate(sequences):\n",
    "        results[i, sequence] = 1\n",
    "    return results\n",
    "\n",
    "x_train = vectorize_sequences(train_data)\n",
    "x_test = vectorize_sequences(test_data)"
   ]
  },
  {
   "cell_type": "code",
   "execution_count": 6,
   "metadata": {},
   "outputs": [
    {
     "name": "stdout",
     "output_type": "stream",
     "text": [
      "(25000,)\n",
      "(25000, 10000)\n"
     ]
    }
   ],
   "source": [
    "print(train_data.shape)\n",
    "print(x_train.shape)"
   ]
  },
  {
   "cell_type": "code",
   "execution_count": 7,
   "metadata": {},
   "outputs": [
    {
     "name": "stdout",
     "output_type": "stream",
     "text": [
      "float32\n"
     ]
    }
   ],
   "source": [
    "#now the same for the labels:\n",
    "\n",
    "y_train = np.asarray(train_labels).astype('float32')\n",
    "y_test = np.asarray(test_labels).astype('float32')\n",
    "\n",
    "print(y_train.dtype)"
   ]
  },
  {
   "cell_type": "code",
   "execution_count": 8,
   "metadata": {},
   "outputs": [],
   "source": [
    "#a dense layer denoted by Dense(16) has 16 hidden units\n",
    "#this is represented by a weight matrix W with size:\n",
    "#(input_dimensions, 16), the dot product turns the\n",
    "#(input_dimensions) vector into a 16 dimensional vector\n",
    "\n",
    "#having more hidden units allows for more-complex representations\n",
    "#however makes the network more computationally expensive\n",
    "#and causes it to overfit\n",
    "\n",
    "#need to choose the number of layers and hidden units in each\n",
    "#layer\n",
    "\n",
    "#use ReLU in intermediate layers and sigmoid in final layer\n",
    "#relu: f(x) = 0 if x > 0, else x\n",
    "#sigmoid: squashes between 0 and 1, can be interpreted as \n",
    "#a probability\n",
    "\n",
    "from keras import models\n",
    "from keras import layers\n",
    "\n",
    "model = models.Sequential()\n",
    "model.add(layers.Dense(16, activation='relu', input_shape=(10000,)))\n",
    "model.add(layers.Dense(16, activation='relu'))\n",
    "model.add(layers.Dense(1, activation='sigmoid'))\n",
    "\n",
    "#why use activation functions?\n",
    "#without them, the Dense layer would produce a linear transformation\n",
    "#the hypothesis space of the layer would be all possible linear\n",
    "#transformations of the input data into 16D space\n",
    "\n",
    "#it turns out that stacking any amount of linear layers\n",
    "#will always give a linear output, thus you have a limited\n",
    "#hypothesis space, with non-linear activation functions\n",
    "#you get more potential hypotheses and therefore more \n",
    "#representations, giving you a better chance at finding\n",
    "#the \"best\" hypothesis which fits your data"
   ]
  },
  {
   "cell_type": "code",
   "execution_count": 9,
   "metadata": {},
   "outputs": [],
   "source": [
    "#use binary cross-entropy when you only have a binary \n",
    "#classification problem\n",
    "\n",
    "#you could use MSE, but cross-entropy is better\n",
    "#it is from information theory and measures the distance\n",
    "#between two probability distributions\n",
    "\n",
    "#lets use rmsprop as the optimizer too\n",
    "\n",
    "model.compile(optimizer='rmsprop',\n",
    "              loss='binary_crossentropy',\n",
    "              metrics=['accuracy'])\n",
    "\n",
    "#these are strings are they use default values defined in Keras\n",
    "#can also pass a function with parameters\n",
    "\n",
    "from keras import optimizers\n",
    "from keras import losses\n",
    "from keras import metrics\n",
    "\n",
    "model.compile(optimizer=optimizers.RMSprop(lr=0.001),\n",
    "              loss=losses.binary_crossentropy,\n",
    "              metrics=[metrics.binary_accuracy])"
   ]
  },
  {
   "cell_type": "code",
   "execution_count": 10,
   "metadata": {},
   "outputs": [],
   "source": [
    "#we want to create a validation set\n",
    "#we train our model on the training set\n",
    "#we tune our hyperparameters on the validation set\n",
    "#we test our generalization accuracy on the test set\n",
    "\n",
    "x_val = x_train[:10000]\n",
    "partial_x_train = x_train[10000:]\n",
    "\n",
    "y_val = y_train[:10000]\n",
    "partial_y_train = y_train[10000:]"
   ]
  },
  {
   "cell_type": "code",
   "execution_count": 11,
   "metadata": {},
   "outputs": [
    {
     "name": "stdout",
     "output_type": "stream",
     "text": [
      "Train on 15000 samples, validate on 10000 samples\n",
      "Epoch 1/20\n",
      "15000/15000 [==============================] - 5s - loss: 0.5160 - binary_accuracy: 0.7891 - val_loss: 0.4005 - val_binary_accuracy: 0.8667\n",
      "Epoch 2/20\n",
      "15000/15000 [==============================] - 4s - loss: 0.3146 - binary_accuracy: 0.9037 - val_loss: 0.3226 - val_binary_accuracy: 0.8795\n",
      "Epoch 3/20\n",
      "15000/15000 [==============================] - 4s - loss: 0.2315 - binary_accuracy: 0.9244 - val_loss: 0.2801 - val_binary_accuracy: 0.8923\n",
      "Epoch 4/20\n",
      "15000/15000 [==============================] - 4s - loss: 0.1804 - binary_accuracy: 0.9429 - val_loss: 0.2731 - val_binary_accuracy: 0.8907\n",
      "Epoch 5/20\n",
      "15000/15000 [==============================] - 4s - loss: 0.1488 - binary_accuracy: 0.9517 - val_loss: 0.2784 - val_binary_accuracy: 0.8887\n",
      "Epoch 6/20\n",
      "15000/15000 [==============================] - 4s - loss: 0.1206 - binary_accuracy: 0.9633 - val_loss: 0.3222 - val_binary_accuracy: 0.8804\n",
      "Epoch 7/20\n",
      "15000/15000 [==============================] - 4s - loss: 0.1028 - binary_accuracy: 0.9695 - val_loss: 0.3050 - val_binary_accuracy: 0.8857\n",
      "Epoch 8/20\n",
      "15000/15000 [==============================] - 4s - loss: 0.0846 - binary_accuracy: 0.9763 - val_loss: 0.3377 - val_binary_accuracy: 0.8767\n",
      "Epoch 9/20\n",
      "15000/15000 [==============================] - 4s - loss: 0.0729 - binary_accuracy: 0.9800 - val_loss: 0.3605 - val_binary_accuracy: 0.8796\n",
      "Epoch 10/20\n",
      "15000/15000 [==============================] - 4s - loss: 0.0585 - binary_accuracy: 0.9863 - val_loss: 0.3731 - val_binary_accuracy: 0.8805\n",
      "Epoch 11/20\n",
      "15000/15000 [==============================] - 4s - loss: 0.0494 - binary_accuracy: 0.9883 - val_loss: 0.3982 - val_binary_accuracy: 0.8780\n",
      "Epoch 12/20\n",
      "15000/15000 [==============================] - 4s - loss: 0.0394 - binary_accuracy: 0.9919 - val_loss: 0.4411 - val_binary_accuracy: 0.8775\n",
      "Epoch 13/20\n",
      "15000/15000 [==============================] - 4s - loss: 0.0308 - binary_accuracy: 0.9945 - val_loss: 0.4549 - val_binary_accuracy: 0.8745\n",
      "Epoch 14/20\n",
      "15000/15000 [==============================] - 4s - loss: 0.0248 - binary_accuracy: 0.9959 - val_loss: 0.4814 - val_binary_accuracy: 0.8737\n",
      "Epoch 15/20\n",
      "15000/15000 [==============================] - 4s - loss: 0.0213 - binary_accuracy: 0.9963 - val_loss: 0.5378 - val_binary_accuracy: 0.8713\n",
      "Epoch 16/20\n",
      "15000/15000 [==============================] - 4s - loss: 0.0124 - binary_accuracy: 0.9992 - val_loss: 0.5459 - val_binary_accuracy: 0.8680\n",
      "Epoch 17/20\n",
      "15000/15000 [==============================] - 4s - loss: 0.0129 - binary_accuracy: 0.9978 - val_loss: 0.5775 - val_binary_accuracy: 0.8720\n",
      "Epoch 18/20\n",
      "15000/15000 [==============================] - 4s - loss: 0.0098 - binary_accuracy: 0.9985 - val_loss: 0.6065 - val_binary_accuracy: 0.8686\n",
      "Epoch 19/20\n",
      "15000/15000 [==============================] - 4s - loss: 0.0081 - binary_accuracy: 0.9986 - val_loss: 0.6388 - val_binary_accuracy: 0.8678\n",
      "Epoch 20/20\n",
      "15000/15000 [==============================] - 4s - loss: 0.0039 - binary_accuracy: 0.9999 - val_loss: 0.6722 - val_binary_accuracy: 0.8681\n"
     ]
    }
   ],
   "source": [
    "#now lets train the model for 20 epochs in mini-batches of 512\n",
    "#we'll also monitor accuracy on the validation set\n",
    "#done by passing as an extra argument\n",
    "\n",
    "history = model.fit(partial_x_train,\n",
    "                    partial_y_train,\n",
    "                    epochs=20,\n",
    "                    batch_size=512,\n",
    "                    validation_data=(x_val, y_val))"
   ]
  },
  {
   "cell_type": "code",
   "execution_count": 12,
   "metadata": {},
   "outputs": [
    {
     "name": "stdout",
     "output_type": "stream",
     "text": [
      "dict_keys(['val_loss', 'val_binary_accuracy', 'loss', 'binary_accuracy'])\n"
     ]
    }
   ],
   "source": [
    "#the model.fit returns a History object which has a history\n",
    "#member which is a dictionary containing data about the\n",
    "#results during training\n",
    "\n",
    "history_dict = history.history\n",
    "print(history_dict.keys())"
   ]
  },
  {
   "cell_type": "code",
   "execution_count": 14,
   "metadata": {},
   "outputs": [
    {
     "data": {
      "text/plain": [
       "<matplotlib.legend.Legend at 0x7f96b901e9b0>"
      ]
     },
     "execution_count": 14,
     "metadata": {},
     "output_type": "execute_result"
    },
    {
     "data": {
      "image/png": "[encoded data removed]",
      "text/plain": [
       "<matplotlib.figure.Figure at 0x7f96b931d748>"
      ]
     },
     "metadata": {},
     "output_type": "display_data"
    }
   ],
   "source": [
    "#can now plot the data\n",
    "\n",
    "import matplotlib.pyplot as plt\n",
    "\n",
    "loss_values = history_dict['loss']\n",
    "val_loss_values = history_dict['val_loss']\n",
    "\n",
    "epochs = range(1, len(loss_values)+1)\n",
    "\n",
    "plt.plot(epochs, loss_values, 'bo', label='Training Loss')\n",
    "plt.plot(epochs, val_loss_values, 'b', label='Validation Loss')\n",
    "plt.title('Training and Validation Loss')\n",
    "plt.xlabel('Epochs')\n",
    "plt.ylabel('Loss')\n",
    "plt.legend()"
   ]
  },
  {
   "cell_type": "code",
   "execution_count": 16,
   "metadata": {},
   "outputs": [
    {
     "data": {
      "text/plain": [
       "<matplotlib.legend.Legend at 0x7f96b76d09b0>"
      ]
     },
     "execution_count": 16,
     "metadata": {},
     "output_type": "execute_result"
    },
    {
     "data": {
      "image/png": "[encoded data removed]",
      "text/plain": [
       "<matplotlib.figure.Figure at 0x7f96b8ff26a0>"
      ]
     },
     "metadata": {},
     "output_type": "display_data"
    }
   ],
   "source": [
    "acc_values = history_dict['binary_accuracy']\n",
    "val_acc_values = history_dict['val_binary_accuracy']\n",
    "\n",
    "plt.plot(epochs, acc_values, 'bo', label='Training Acc.')\n",
    "plt.plot(epochs, val_acc_values, 'b', label='Validation Acc.')\n",
    "plt.title('Training and Validation Acc.')\n",
    "plt.xlabel('Epochs')\n",
    "plt.ylabel('Loss')\n",
    "plt.legend()"
   ]
  },
  {
   "cell_type": "code",
   "execution_count": 21,
   "metadata": {},
   "outputs": [
    {
     "name": "stdout",
     "output_type": "stream",
     "text": [
      "Train on 15000 samples, validate on 10000 samples\n",
      "Epoch 1/4\n",
      "15000/15000 [==============================] - 4s - loss: 0.5495 - binary_accuracy: 0.7779 - val_loss: 0.4343 - val_binary_accuracy: 0.8677\n",
      "Epoch 2/4\n",
      "15000/15000 [==============================] - 4s - loss: 0.3494 - binary_accuracy: 0.8984 - val_loss: 0.3330 - val_binary_accuracy: 0.8834\n",
      "Epoch 3/4\n",
      "15000/15000 [==============================] - 4s - loss: 0.2536 - binary_accuracy: 0.9211 - val_loss: 0.2891 - val_binary_accuracy: 0.8915\n",
      "Epoch 4/4\n",
      "15000/15000 [==============================] - 4s - loss: 0.1998 - binary_accuracy: 0.9369 - val_loss: 0.2745 - val_binary_accuracy: 0.8922\n",
      "24768/25000 [============================>.] - ETA: 0s"
     ]
    }
   ],
   "source": [
    "#training loss decreases monotonically\n",
    "#validation loss starts decreasing but then increases\n",
    "\n",
    "#this is the model performing better on the training data\n",
    "#as this is what it is trained on (what the parameters are tweaked on)\n",
    "#however it begins to \"overfit\" as it memorizes the training data\n",
    "#exactly and loses its ability to generalize to unseen data\n",
    "\n",
    "#to prevent overfitting, we'll retrain our model but stop\n",
    "#after only 4 epochs\n",
    "\n",
    "#the parameters are all held in the model object\n",
    "#so to retrain from scratch you need to re-define everything\n",
    "\n",
    "model = models.Sequential()\n",
    "model.add(layers.Dense(16, activation='relu', input_shape=(10000,)))\n",
    "model.add(layers.Dense(16, activation='relu'))\n",
    "model.add(layers.Dense(1, activation='sigmoid'))\n",
    "\n",
    "model.compile(optimizer=optimizers.RMSprop(lr=0.001),\n",
    "              loss=losses.binary_crossentropy,\n",
    "              metrics=[metrics.binary_accuracy])\n",
    "\n",
    "history = model.fit(partial_x_train,\n",
    "                    partial_y_train,\n",
    "                    epochs=4,\n",
    "                    batch_size=512,\n",
    "                    validation_data=(x_val, y_val))\n",
    "\n",
    "loss, acc = model.evaluate(x_test, y_test)"
   ]
  },
  {
   "cell_type": "code",
   "execution_count": 22,
   "metadata": {},
   "outputs": [
    {
     "name": "stdout",
     "output_type": "stream",
     "text": [
      "loss: 0.291625589809\n",
      "acc: 0.88416\n"
     ]
    }
   ],
   "source": [
    "print(\"loss:\",loss)\n",
    "print(\"acc:\",acc)"
   ]
  },
  {
   "cell_type": "code",
   "execution_count": 23,
   "metadata": {},
   "outputs": [
    {
     "data": {
      "text/plain": [
       "array([[ 0.88885301],\n",
       "       [ 0.83095139],\n",
       "       [ 0.99392718],\n",
       "       ..., \n",
       "       [ 0.71142823],\n",
       "       [ 0.04457655],\n",
       "       [ 0.82004815]], dtype=float32)"
      ]
     },
     "execution_count": 23,
     "metadata": {},
     "output_type": "execute_result"
    }
   ],
   "source": [
    "#we're able to get 88% accuracy with this pretty simple model\n",
    "#state of the art is about 95%\n",
    "\n",
    "#we use in a practice setting as:\n",
    "model.predict(x_test)"
   ]
  },
  {
   "cell_type": "code",
   "execution_count": 42,
   "metadata": {},
   "outputs": [
    {
     "name": "stdout",
     "output_type": "stream",
     "text": [
      "Train on 15000 samples, validate on 10000 samples\n",
      "Epoch 1/4\n",
      "15000/15000 [==============================] - 4s - loss: 0.5889 - binary_accuracy: 0.7653 - val_loss: 0.5034 - val_binary_accuracy: 0.8297\n",
      "Epoch 2/4\n",
      "15000/15000 [==============================] - 4s - loss: 0.4300 - binary_accuracy: 0.8791 - val_loss: 0.4009 - val_binary_accuracy: 0.8699\n",
      "Epoch 3/4\n",
      "15000/15000 [==============================] - 4s - loss: 0.3329 - binary_accuracy: 0.9062 - val_loss: 0.3427 - val_binary_accuracy: 0.8779\n",
      "Epoch 4/4\n",
      "15000/15000 [==============================] - 4s - loss: 0.2692 - binary_accuracy: 0.9212 - val_loss: 0.3070 - val_binary_accuracy: 0.8854\n",
      "24736/25000 [============================>.] - ETA: 0s"
     ]
    }
   ],
   "source": [
    "#confident predictions are close to 0 or 1\n",
    "#less confident are close to 0.5\n",
    "\n",
    "#other things to try:\n",
    "#1. different amount of hidden layers (1=87%, 3=86%)\n",
    "#2. different amount of hidden units (2=81%, 4=87%, 8=88%, 32=87%, 64=87%)\n",
    "#3. MSE loss function (88%)\n",
    "#4. tanh activation function (87%)\n",
    "\n",
    "model = models.Sequential()\n",
    "model.add(layers.Dense(16, activation='relu', input_shape=(10000,)))\n",
    "model.add(layers.Dense(16, activation='relu'))\n",
    "model.add(layers.Dense(1, activation='sigmoid'))\n",
    "\n",
    "model.compile(optimizer=optimizers.RMSprop(lr=0.001),\n",
    "              loss=losses.binary_crossentropy,\n",
    "              metrics=[metrics.binary_accuracy])\n",
    "\n",
    "history = model.fit(partial_x_train,\n",
    "                    partial_y_train,\n",
    "                    epochs=4,\n",
    "                    batch_size=512,\n",
    "                    validation_data=(x_val, y_val))\n",
    "\n",
    "loss, acc = model.evaluate(x_test, y_test)\n",
    "\n",
    "print(\"test acc:\",acc)"
   ]
  },
  {
   "cell_type": "code",
   "execution_count": 43,
   "metadata": {},
   "outputs": [
    {
     "name": "stdout",
     "output_type": "stream",
     "text": [
      "0.87764\n"
     ]
    }
   ],
   "source": [
    "#from this, you should know:\n",
    "# 1. usually need to do some pre-processing\n",
    "# 2. dense layers with relu are good, will be use often\n",
    "# 3. binary classifcation problems end with a Dense layer with\n",
    "#    1 output and a sigmoid activation function\n",
    "# 4. with binary classifcation use binary crossentropy loss\n",
    "# 5. rmsprop is pretty good\n",
    "# 6. neural networks overfit "
   ]
  },
  {
   "cell_type": "code",
   "execution_count": null,
   "metadata": {},
   "outputs": [],
   "source": [
    "## TODO 3.5, page 78"
   ]
  }
 ],
 "metadata": {
  "kernelspec": {
   "display_name": "Python 3",
   "language": "python",
   "name": "python3"
  },
  "language_info": {
   "codemirror_mode": {
    "name": "ipython",
    "version": 3
   },
   "file_extension": ".py",
   "mimetype": "text/x-python",
   "name": "python",
   "nbconvert_exporter": "python",
   "pygments_lexer": "ipython3",
   "version": "3.6.3"
  }
 },
 "nbformat": 4,
 "nbformat_minor": 2
}

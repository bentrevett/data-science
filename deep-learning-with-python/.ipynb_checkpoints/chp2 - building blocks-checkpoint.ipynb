{
 "cells": [
  {
   "cell_type": "markdown",
   "metadata": {},
   "source": [
    "Deep learning re-uses simple mathematical concepts over and over. These are: tensors, tensor operations, differentiation, gradient descent, etc."
   ]
  },
  {
   "cell_type": "code",
   "execution_count": 1,
   "metadata": {},
   "outputs": [
    {
     "name": "stderr",
     "output_type": "stream",
     "text": [
      "Using TensorFlow backend.\n"
     ]
    }
   ],
   "source": [
    "import keras\n",
    "from keras.datasets import mnist\n",
    "\n",
    "#training images and labels form the training set\n",
    "#test images and labels form the test set\n",
    "\n",
    "(X_train, y_train), (X_test, y_test) = mnist.load_data()"
   ]
  },
  {
   "cell_type": "code",
   "execution_count": 2,
   "metadata": {},
   "outputs": [
    {
     "name": "stdout",
     "output_type": "stream",
     "text": [
      "(60000, 28, 28)\n",
      "uint8\n"
     ]
    }
   ],
   "source": [
    "#inputs are made of 60k 28x28 images\n",
    "\n",
    "print(X_train.shape)\n",
    "print(X_train.dtype)"
   ]
  },
  {
   "cell_type": "code",
   "execution_count": 3,
   "metadata": {},
   "outputs": [
    {
     "data": {
      "text/plain": [
       "array([5, 0, 4, ..., 5, 6, 8], dtype=uint8)"
      ]
     },
     "execution_count": 3,
     "metadata": {},
     "output_type": "execute_result"
    }
   ],
   "source": [
    "#training labels are the digit corresponding to the label\n",
    "\n",
    "y_train"
   ]
  },
  {
   "cell_type": "code",
   "execution_count": null,
   "metadata": {},
   "outputs": [],
   "source": []
  },
  {
   "cell_type": "code",
   "execution_count": 4,
   "metadata": {},
   "outputs": [],
   "source": [
    "from keras import models\n",
    "from keras import layers\n",
    "\n",
    "#create a sequential model which can be .add'ed to\n",
    "#dense layer with 28*28=784 inputs and 512 outputs\n",
    "#second dense layer with 512 inputs and 10 outputs\n",
    "\n",
    "#dense layers extract representations out of the data fed into them\n",
    "\n",
    "network = models.Sequential()\n",
    "network.add(layers.Dense(512, activation='relu', input_shape=(28*28,)))\n",
    "network.add(layers.Dense(10, activation='softmax'))"
   ]
  },
  {
   "cell_type": "code",
   "execution_count": 5,
   "metadata": {},
   "outputs": [],
   "source": [
    "#we also need to add three more things:\n",
    "# a loss function (measures performance of the network)\n",
    "# optimizer (mechanism through which the network updates the parameters)\n",
    "# metrics (what we measure during training)\n",
    "\n",
    "network.compile(optimizer='rmsprop',\n",
    "                loss='categorical_crossentropy',\n",
    "                metrics=['accuracy'])"
   ]
  },
  {
   "cell_type": "code",
   "execution_count": 6,
   "metadata": {},
   "outputs": [
    {
     "name": "stdout",
     "output_type": "stream",
     "text": [
      "float64\n",
      "float64\n"
     ]
    }
   ],
   "source": [
    "#we also need to want to reshape the data into the form the network wants\n",
    "#and also scale the values so they're between 0 and 1\n",
    "\n",
    "X_train = X_train.reshape((60000, 28*28))\n",
    "X_train = X_train / 255\n",
    "\n",
    "X_test = X_test.reshape((10000, 28*28))\n",
    "X_test = X_test / 255\n",
    "\n",
    "#note, originally data is uint8, \n",
    "#but python 3 does float divison\n",
    "#and converts it to float32\n",
    "\n",
    "print(X_train.dtype)\n",
    "print(X_test.dtype)"
   ]
  },
  {
   "cell_type": "code",
   "execution_count": 7,
   "metadata": {},
   "outputs": [],
   "source": [
    "#also need to change the data so it's \"categorical\"\n",
    "# i.e. one-hot representation\n",
    "\n",
    "from keras.utils import to_categorical\n",
    "\n",
    "y_train = to_categorical(y_train)\n",
    "y_test = to_categorical(y_test)"
   ]
  },
  {
   "cell_type": "code",
   "execution_count": 8,
   "metadata": {},
   "outputs": [
    {
     "name": "stdout",
     "output_type": "stream",
     "text": [
      "Epoch 1/5\n",
      "60000/60000 [==============================] - 6s - loss: 0.2533 - acc: 0.9268     \n",
      "Epoch 2/5\n",
      "60000/60000 [==============================] - 7s - loss: 0.1038 - acc: 0.9695     \n",
      "Epoch 3/5\n",
      "60000/60000 [==============================] - 6s - loss: 0.0687 - acc: 0.9793     \n",
      "Epoch 4/5\n",
      "60000/60000 [==============================] - 6s - loss: 0.0507 - acc: 0.9846     \n",
      "Epoch 5/5\n",
      "60000/60000 [==============================] - 6s - loss: 0.0377 - acc: 0.9886     \n"
     ]
    },
    {
     "data": {
      "text/plain": [
       "<keras.callbacks.History at 0x7f0dd2fb4da0>"
      ]
     },
     "execution_count": 8,
     "metadata": {},
     "output_type": "execute_result"
    }
   ],
   "source": [
    "#now to actually train the network which we do with .fit\n",
    "\n",
    "network.fit(X_train, y_train, epochs=5, batch_size=128)"
   ]
  },
  {
   "cell_type": "code",
   "execution_count": 9,
   "metadata": {},
   "outputs": [
    {
     "name": "stdout",
     "output_type": "stream",
     "text": [
      " 9344/10000 [===========================>..] - ETA: 0stest_acc: 0.9793\n"
     ]
    }
   ],
   "source": [
    "#can verify the model also performs well on the test set\n",
    "# i.e how well it generalizes to unseen examples\n",
    "\n",
    "#the accuracy is less than the training accuracy due to overfitting\n",
    "\n",
    "test_loss, test_acc = network.evaluate(X_test, y_test)\n",
    "print('test_acc:',test_acc)"
   ]
  },
  {
   "cell_type": "code",
   "execution_count": 10,
   "metadata": {},
   "outputs": [
    {
     "name": "stdout",
     "output_type": "stream",
     "text": [
      "x: 12\n",
      "x.ndim: 0\n"
     ]
    }
   ],
   "source": [
    "#data is stored in multidimensional numpy arrays (tensors)\n",
    "#matrices are 2D tensors\n",
    "#tensors are a generalization of matrices for any number of dimensions\n",
    "\n",
    "#a tensor with only one number is a scalar\n",
    "#also known as a 0-dimensional tensor\n",
    "\n",
    "import numpy as np\n",
    "\n",
    "x = np.array(12)\n",
    "print(\"x:\",x)\n",
    "print(\"x.ndim:\",x.ndim)"
   ]
  },
  {
   "cell_type": "code",
   "execution_count": 11,
   "metadata": {},
   "outputs": [
    {
     "name": "stdout",
     "output_type": "stream",
     "text": [
      "x: [1 2 3 4 5]\n",
      "x.ndim: 1\n"
     ]
    }
   ],
   "source": [
    "#an array of numbers is a vector\n",
    "#also known as a 1-dimensional tensor\n",
    "\n",
    "x = np.array([1,2,3,4,5])\n",
    "print(\"x:\",x)\n",
    "print(\"x.ndim:\",x.ndim)\n",
    "\n",
    "#this is a 5-dimensional vector, not a 5-dimensional tensor!\n",
    "#a 5D vector only has 1 axis (aka dimension)"
   ]
  },
  {
   "cell_type": "code",
   "execution_count": 12,
   "metadata": {},
   "outputs": [
    {
     "name": "stdout",
     "output_type": "stream",
     "text": [
      "x: [[1 2 3]\n",
      " [4 5 6]\n",
      " [7 8 9]]\n",
      "x.ndim: 2\n"
     ]
    }
   ],
   "source": [
    "#an array of vectors is a matrix\n",
    "#also known as 2D tensor\n",
    "\n",
    "x = np.array([[1,2,3],\n",
    "              [4,5,6],\n",
    "              [7,8,9]])\n",
    "print(\"x:\",x)\n",
    "print(\"x.ndim:\",x.ndim)\n",
    "\n",
    "#the first axis is the rows, i.e. [1,2,3] is the first row\n",
    "#the second axis is the columns, i.e. [1,4,7] is the first column"
   ]
  },
  {
   "cell_type": "code",
   "execution_count": 13,
   "metadata": {},
   "outputs": [
    {
     "name": "stdout",
     "output_type": "stream",
     "text": [
      "x: [[[ 5 78  2 34  0]\n",
      "  [ 6 79  3 35  1]\n",
      "  [ 7 80  4 36  2]]\n",
      "\n",
      " [[ 5 78  2 34  0]\n",
      "  [ 6 79  3 35  1]\n",
      "  [ 7 80  4 36  2]]\n",
      "\n",
      " [[ 5 78  2 34  0]\n",
      "  [ 6 79  3 35  1]\n",
      "  [ 7 80  4 36  2]]]\n",
      "x.ndim: 3\n"
     ]
    }
   ],
   "source": [
    "#if you have an array of matrices, you have a 3D tensor\n",
    "#can visualize as a cube\n",
    "\n",
    "x = np.array([[[5, 78, 2, 34, 0], \n",
    "               [6, 79, 3, 35, 1], \n",
    "               [7, 80, 4, 36, 2]], \n",
    "              [[5, 78, 2, 34, 0], \n",
    "               [6, 79, 3, 35, 1], \n",
    "               [7, 80, 4, 36, 2]], \n",
    "              [[5, 78, 2, 34, 0], \n",
    "               [6, 79, 3, 35, 1], \n",
    "               [7, 80, 4, 36, 2]]])\n",
    "print(\"x:\",x)\n",
    "print(\"x.ndim:\",x.ndim)"
   ]
  },
  {
   "cell_type": "code",
   "execution_count": 14,
   "metadata": {},
   "outputs": [
    {
     "name": "stdout",
     "output_type": "stream",
     "text": [
      "3\n",
      "(60000, 28, 28)\n",
      "uint8\n"
     ]
    }
   ],
   "source": [
    "#an array of 3D tensors is a 4D tensor, etc.\n",
    "\n",
    "#tensors have three attributes\n",
    "# - axes (rank) - a matrix has 2 axes, a 3D tensor has 3.\n",
    "# - shape - a tuple of integers which says how many dimensions the tensor has along each axis\n",
    "# - data type - type of data contained in the tensor\n",
    "\n",
    "from keras.datasets import mnist \n",
    "\n",
    "(train_images, train_labels), (test_images, test_labels) = mnist.load_data()\n",
    "\n",
    "print(train_images.ndim)\n",
    "print(train_images.shape)\n",
    "print(train_images.dtype)\n",
    "\n",
    "#i.e. X_train has 3 axes aka 3D tensor (examples, height, width),\n",
    "#     a shape of (60k, 28, 28)\n",
    "#     data type of 'float32'"
   ]
  },
  {
   "cell_type": "code",
   "execution_count": 15,
   "metadata": {},
   "outputs": [
    {
     "data": {
      "text/plain": [
       "<matplotlib.figure.Figure at 0x7f0dac7a79b0>"
      ]
     },
     "metadata": {},
     "output_type": "display_data"
    }
   ],
   "source": [
    "import matplotlib.pyplot as plt\n",
    "\n",
    "digit = train_images[4]\n",
    "plt.imshow(digit, cmap=plt.cm.binary)\n",
    "plt.show()"
   ]
  },
  {
   "cell_type": "code",
   "execution_count": 16,
   "metadata": {},
   "outputs": [
    {
     "name": "stdout",
     "output_type": "stream",
     "text": [
      "(90, 28, 28)\n"
     ]
    }
   ],
   "source": [
    "#you can slice tensors like:\n",
    "\n",
    "my_slice = train_images[10:100]\n",
    "print(my_slice.shape)"
   ]
  },
  {
   "cell_type": "code",
   "execution_count": 17,
   "metadata": {},
   "outputs": [],
   "source": [
    "#can also select how to slice into the actual image itself\n",
    "\n",
    "#train_images[10:100] == train_images[10:100,:,:]\n",
    "#train_images[10:100] == train_images[10:100,0:28,0:28]"
   ]
  },
  {
   "cell_type": "code",
   "execution_count": 18,
   "metadata": {},
   "outputs": [
    {
     "data": {
      "text/plain": [
       "(60000, 14, 14)"
      ]
     },
     "execution_count": 18,
     "metadata": {},
     "output_type": "execute_result"
    }
   ],
   "source": [
    "#this gets the bottom right 14x14 pixels of all images\n",
    "\n",
    "my_slice = train_images[:,14:,14:]\n",
    "my_slice.shape"
   ]
  },
  {
   "cell_type": "code",
   "execution_count": 19,
   "metadata": {},
   "outputs": [
    {
     "data": {
      "text/plain": [
       "(60000, 14, 14)"
      ]
     },
     "execution_count": 19,
     "metadata": {},
     "output_type": "execute_result"
    }
   ],
   "source": [
    "#can use negative slicing\n",
    "#will slice relative to end of that axis\n",
    "#this gets the middle 14 pixels\n",
    "\n",
    "my_slice = train_images[:,7:-7,7:-7]\n",
    "my_slice.shape"
   ]
  },
  {
   "cell_type": "code",
   "execution_count": 20,
   "metadata": {},
   "outputs": [],
   "source": [
    "#the first axis always contains the data tensor\n",
    "#in deep learning we don't process the entire dataset at once\n",
    "#we split the data into batches, usually 32, 64, 128, etc.\n",
    "\n",
    "batch = train_images[:128] #gets 128 images\n",
    "next_batch = train_images[128:256] #gets next 128 images\n",
    "\n",
    "n = 5\n",
    "\n",
    "#in general, to get the nth batch\n",
    "nth_batch = train_images[128*n:128*(n+1)]"
   ]
  },
  {
   "cell_type": "code",
   "execution_count": 21,
   "metadata": {},
   "outputs": [],
   "source": [
    "#in general, data tensors have the form of:\n",
    "# vector data = (samples, features)\n",
    "# sequential data = (samples, timesteps, features)\n",
    "# images = (samples, channels, height, width)\n",
    "# video = (samples, frames, channels, height, width)\n",
    "\n",
    "#MNIST is an example of images, but with only 1 channel"
   ]
  },
  {
   "cell_type": "code",
   "execution_count": 22,
   "metadata": {},
   "outputs": [
    {
     "name": "stdout",
     "output_type": "stream",
     "text": [
      "[[0 2 0]\n",
      " [4 0 6]]\n"
     ]
    }
   ],
   "source": [
    "# deep learning can be done by repeated usage of a handful\n",
    "# of tensor operations, for example\n",
    "\n",
    "# Dense(512, activation='relu') \n",
    "# is the same as\n",
    "# relu(dot(W, input) + b)\n",
    "\n",
    "#that is, a dot product between the input tensor and W\n",
    "#the addition between that 2D tensor and a vector, b\n",
    "#the relu operation, i.e. relu(x) = max(x, 0)\n",
    "\n",
    "#relu is an elementwise operation, i.e. independent of other elements\n",
    "#a naive relu implenentation is:\n",
    "\n",
    "def naive_relu(x):\n",
    "    assert len(x.shape) == 2 #assert is 2D tensor\n",
    "    \n",
    "    x = x.copy() #don't overwrite input tensor\n",
    "    for i in range(x.shape[0]):\n",
    "        for j in range(x.shape[1]):\n",
    "            x[i,j] = max(x[i,j], 0)\n",
    "    return x\n",
    "\n",
    "x = np.array([[-1,2,-3],\n",
    "              [4,-5,6]])\n",
    "print(naive_relu(x))"
   ]
  },
  {
   "cell_type": "code",
   "execution_count": 23,
   "metadata": {},
   "outputs": [
    {
     "name": "stdout",
     "output_type": "stream",
     "text": [
      "[[0 0 0]\n",
      " [0 0 0]]\n"
     ]
    }
   ],
   "source": [
    "#can do the same for addition\n",
    "\n",
    "def naive_add(x, y):\n",
    "    assert len(x.shape) == 2\n",
    "    assert x.shape == y.shape\n",
    "    \n",
    "    x = x.copy()\n",
    "    for i in range(x.shape[0]):\n",
    "        for j in range(x.shape[1]):\n",
    "            x[i,j] += y[i,j]\n",
    "    return x\n",
    "\n",
    "y = np.array([[1,-2,3],\n",
    "              [-4,5,-6]])\n",
    "print(naive_add(x, y))"
   ]
  },
  {
   "cell_type": "code",
   "execution_count": 24,
   "metadata": {},
   "outputs": [
    {
     "name": "stdout",
     "output_type": "stream",
     "text": [
      "[[0 0 0]\n",
      " [0 0 0]]\n"
     ]
    }
   ],
   "source": [
    "#however, numpy has built in highly optimized implementations\n",
    "#of these in BLAS (basic linear algebra subprograms)\n",
    "\n",
    "z = x + y\n",
    "print(z)"
   ]
  },
  {
   "cell_type": "code",
   "execution_count": 25,
   "metadata": {},
   "outputs": [
    {
     "name": "stdout",
     "output_type": "stream",
     "text": [
      "(100,)\n"
     ]
    }
   ],
   "source": [
    "#to get 10 features in the input to go to 100 features in the hidden layer\n",
    "#you have 10 neurons, each connected to 100 neurons\n",
    "#therefore you have 1000 weights and 100 biases\n",
    "\n",
    "#the dot product will be between [100 x 10] @ [10 x 1]\n",
    "#the nth row of the [100 x 10] tensor will be the weights\n",
    "#between all 10 input nodes and the nth output node \n",
    "#giving you a [100 x 1] tensor\n",
    "\n",
    "\n",
    "x = np.random.random((10,))\n",
    "W = np.random.random((100,10))\n",
    "b = np.random.random((100,))\n",
    "\n",
    "out = (np.dot(W, x) + b)\n",
    "print(out.shape)"
   ]
  },
  {
   "cell_type": "code",
   "execution_count": 26,
   "metadata": {},
   "outputs": [],
   "source": [
    "#naive_add only supports operation between two 2D tensors\n",
    "#with identical shapes\n",
    "\n",
    "#what happens when they're different?\n",
    "#if there's no ambiguity, we get the smaller tensor broadcasted\n",
    "#to match the shape of the larger tensor\n",
    "\n",
    "#broadcasting has two steps:\n",
    "#1. axes are added to the smaller tensor to match the ndim of the larger\n",
    "#2. the smaller tensor is repeated along these new axis\n",
    "\n",
    "#example: X = (32, 10), y = (10,)\n",
    "#repeat y for 32 times along the 0 axis to make y = (32,10)\n",
    "\n",
    "#we can make a naive implementation\n",
    "\n",
    "def naive_add_matrix_and_vector(x, y):\n",
    "    assert len(x.shape) == 2\n",
    "    assert len(y.shape) == 1\n",
    "    assert x.shape[1] == y.shape[0]\n",
    "    \n",
    "    x = x.copy()\n",
    "    for i in range(x.shape[0]):\n",
    "        for j in range(x.shape[1]):\n",
    "            x[i,j] += y[j]\n",
    "    return x\n",
    "\n",
    "#in general, if one tensor has shape (a,b,..,n,n+1,..,m)\n",
    "# and the other has shape (n,n+1,..,m)\n",
    "\n",
    "#then broadcasting happens over axes a through n-1\n",
    "\n",
    "#x = (64, 3, 32, 10)\n",
    "#y = (32, 10)\n",
    "\n",
    "#y gets broadcasted to (64, 3, 32, 10)"
   ]
  },
  {
   "cell_type": "code",
   "execution_count": 27,
   "metadata": {},
   "outputs": [
    {
     "name": "stdout",
     "output_type": "stream",
     "text": [
      "55\n"
     ]
    }
   ],
   "source": [
    "#dot product is the most common and useful tensor operation\n",
    "\n",
    "def naive_vector_dot(x, y):\n",
    "    assert len(x.shape) == 1\n",
    "    assert len(y.shape) == 1\n",
    "    assert x.shape[0] == y.shape[0]\n",
    "    z = 0 \n",
    "    for i in range(x.shape[0]):\n",
    "        z += x[i] * y[i]\n",
    "    return z\n",
    "\n",
    "x = np.array([1,2,3,4,5])\n",
    "y = np.array([1,2,3,4,5])\n",
    "\n",
    "print(naive_vector_dot(x,y))\n",
    "\n",
    "#the dot product between two vectors is a scalar\n",
    "#only vectors with same number of elements can be dot producted"
   ]
  },
  {
   "cell_type": "code",
   "execution_count": 28,
   "metadata": {},
   "outputs": [
    {
     "name": "stdout",
     "output_type": "stream",
     "text": [
      "[ 14.  32.]\n"
     ]
    }
   ],
   "source": [
    "#can also take the dot product between a matrix and vector\n",
    "\n",
    "def naive_matrix_vector_dot(x, y):\n",
    "    assert len(x.shape) == 2\n",
    "    assert len(y.shape) == 1\n",
    "    assert x.shape[1] == y.shape[0]\n",
    "    \n",
    "    z = np.zeros(x.shape[0])\n",
    "    for i in range(x.shape[0]):\n",
    "        for j in range(x.shape[1]):\n",
    "            z[i] += x[i,j] * y[j]\n",
    "    return z\n",
    "\n",
    "x = np.array([[1,2,3],\n",
    "              [4,5,6]])\n",
    "y = np.array([1,2,3])\n",
    "\n",
    "print(naive_matrix_vector_dot(x, y))"
   ]
  },
  {
   "cell_type": "code",
   "execution_count": 29,
   "metadata": {},
   "outputs": [
    {
     "name": "stdout",
     "output_type": "stream",
     "text": [
      "[ 14.  32.]\n"
     ]
    }
   ],
   "source": [
    "#you can also re-use the previous function\n",
    "#which highlights the relationship between a matrix-vector\n",
    "#product and a vector product\n",
    "\n",
    "def naive_matrix_vector_dot(x, y):\n",
    "    z = np.zeros(x.shape[0])\n",
    "    for i in range(x.shape[0]):\n",
    "        z[i] = naive_vector_dot(x[i,:], y)\n",
    "    return z\n",
    "\n",
    "print(naive_matrix_vector_dot(x, y))"
   ]
  },
  {
   "cell_type": "code",
   "execution_count": 30,
   "metadata": {},
   "outputs": [],
   "source": [
    "#note that dot(x, y) is not the same as dot(y, x)!!!\n",
    "#can only do dot(x, y) if x.shape[1] == y.shape[0]\n",
    "#result is a matrix with shape (x.shape[0], y.shape[1])\n",
    "#the values are the vector products between rows of x and columns of y\n",
    "\n",
    "def naive_matrix_dot(x, y):\n",
    "    assert len(x.shape) == 2\n",
    "    assert len(y.shape) == 2\n",
    "    assert x.shape[1] == y.shape[0]\n",
    "    \n",
    "    z = np.zeros((x.shape[0], y.shape[1]))\n",
    "    for i in range(x.shape[0]):\n",
    "        for j in range(y.shape[1]):\n",
    "            row_x = x[i,:]\n",
    "            column_y = y[:,j]\n",
    "            z[i,j] = naive_vector_dot(row_x, column_y)\n",
    "    return z"
   ]
  },
  {
   "attachments": {
    "image.png": {
     "image/png": "[encoded data removed]"
    }
   },
   "cell_type": "markdown",
   "metadata": {},
   "source": [
    "![image.png](attachment:image.png)"
   ]
  },
  {
   "cell_type": "code",
   "execution_count": 31,
   "metadata": {},
   "outputs": [
    {
     "name": "stdout",
     "output_type": "stream",
     "text": [
      "[[0 1]\n",
      " [2 3]\n",
      " [4 5]]\n",
      "[[0]\n",
      " [1]\n",
      " [2]\n",
      " [3]\n",
      " [4]\n",
      " [5]]\n",
      "[[0 1 2]\n",
      " [3 4 5]]\n"
     ]
    }
   ],
   "source": [
    "#another type of tensor operation is reshaping\n",
    "\n",
    "x = np.array([[0,1],\n",
    "              [2,3],\n",
    "              [4,5]])\n",
    "\n",
    "print(x)\n",
    "\n",
    "x = x.reshape((6,1))\n",
    "\n",
    "print(x)\n",
    "\n",
    "x = x.reshape((2,3))\n",
    "\n",
    "print(x)"
   ]
  },
  {
   "cell_type": "code",
   "execution_count": 32,
   "metadata": {},
   "outputs": [
    {
     "name": "stdout",
     "output_type": "stream",
     "text": [
      "[[1 2 3]\n",
      " [4 5 6]]\n",
      "[[1 4]\n",
      " [2 5]\n",
      " [3 6]]\n"
     ]
    }
   ],
   "source": [
    "#a common transformation is transposing\n",
    "#this means exchanging all rows with all columns\n",
    "#i.e. x[i,:] becomes x[:,i]\n",
    "\n",
    "x = np.array([[1,2,3],\n",
    "              [4,5,6]])\n",
    "\n",
    "print(x)\n",
    "\n",
    "x = np.transpose(x)\n",
    "\n",
    "print(x)"
   ]
  },
  {
   "cell_type": "code",
   "execution_count": 33,
   "metadata": {},
   "outputs": [],
   "source": [
    "#as the contents of tensors can be interpreted as points\n",
    "#in a geometric spare, all tensor operations have a geometric\n",
    "#interpretation\n",
    "\n",
    "#i.e. adding two tensors is just chaining them together\n",
    "\n",
    "#therefore neural networks are a sequence of complex geometric\n",
    "#transformations in high dimensional space\n",
    "\n",
    "#consider two classes in 3D, one surrounding the other\n",
    "#one is a sphere and the other is inside the sphere\n",
    "#to make these two linearly separable we need to \"unfold\"\n",
    "#the sphere by doing transformations in 3D space\n",
    "\n",
    "#deep learning is all about finding good representations\n",
    "#for complicated data manifolds"
   ]
  },
  {
   "cell_type": "code",
   "execution_count": 51,
   "metadata": {},
   "outputs": [],
   "source": [
    "# consider: output = relu(dot(W, input) + b)\n",
    "# W and b are the trainable parameters\n",
    "\n",
    "# the parameters are initialized randomly, which obviously doesn't\n",
    "# grant any meaningful representations\n",
    "# we want to gradually adjust the weights based on feedback\n",
    "\n",
    "# we have a training (feedback) loop which does:\n",
    "# 1. get a batch of training examples and labels\n",
    "# 2. do the forward pass to get predicted labels\n",
    "# 3. compute loss w.r.t. true labels and predicted labels\n",
    "# 4. update all the parameters of the network to reduce the loss on this batch\n",
    "\n",
    "# step 4 is the hard bit, how do you update the parameters?\n",
    "# all operations in the network are differentiable\n",
    "# can compute gradient of loss w.r.t. parameters\n",
    "# then change the parameters in opposite direction of gradient\n",
    "# this decreases the loss"
   ]
  },
  {
   "cell_type": "code",
   "execution_count": null,
   "metadata": {},
   "outputs": [],
   "source": [
    "#continuous functions map f(x) to y\n",
    "#with a continuous function, a small change in x will make\n",
    "#a small change in y\n",
    "# f(x + epsilon_x) = y + epsilon_y\n",
    "\n",
    "#as f(x) is smooth, when epsilon_x is small, at a point p\n",
    "#we can approximate f as a linear slope, a, therefore:\n",
    "# epsilon_y = a * epsilon_x\n",
    "\n",
    "#this slope is only valid at that point p\n",
    "#the slope of a is called the derivative of f at point p\n",
    "#if a is negative, a small change of x around p decreases f(x)\n",
    "#if a is positive, a small change of x around p increases f(x)\n",
    "#(change means increase here)\n",
    "#the absolute value of a (the magnitude of the derivative) tells\n",
    "#you how \"quickly\" the inc/decrease will be (i.e. by how much)\n",
    "\n",
    "#for every differentiable function f(x) there is a derivative\n",
    "#function, f'(x) which maps values of x to their gradient at x\n",
    "\n",
    "#if you want to reduce f(x) and have the derivative,\n",
    "#just change x in the opposite direction of the deriv \n",
    "\n",
    "#i.e. below, the deriv is negative so increase x by a \n",
    "# positive amount"
   ]
  },
  {
   "attachments": {
    "image.png": {
     "image/png": "[encoded data removed]"
    }
   },
   "cell_type": "markdown",
   "metadata": {},
   "source": [
    "![image.png](attachment:image.png)"
   ]
  },
  {
   "cell_type": "code",
   "execution_count": 52,
   "metadata": {},
   "outputs": [],
   "source": [
    "#a gradient is a generalization of the concept of derivatives\n",
    "#to functions with multidimensional inputs\n",
    "\n",
    "#consider a NN:\n",
    "# y_pred = dot(W, x)\n",
    "# loss = loss_fn(y_pred, y)\n",
    "\n",
    "# this can be considered a mapping of: loss = f(W)\n",
    "# the derivative of f at point W_0 (initial weights) is a \n",
    "# tensor gradient(f)(W_0), this is same shape as W_0 where \n",
    "# each value [i,j] indicates the direction and magnitude of\n",
    "# the loss when changing W_0[i,j]\n",
    "\n",
    "#gradient(f)(W_0), that is the gradient of function f at point\n",
    "#W_0, can be interpreted as a tensor describing the \"curvature\" \n",
    "#of f(W) around point W_0\n",
    "\n",
    "#now we reduce the loss, f(W_0), by moving W_0 in the opposite\n",
    "#direction of the gradient, i.e. W_1 = W_0 - gradient(f)(W_0)"
   ]
  },
  {
   "cell_type": "code",
   "execution_count": 53,
   "metadata": {},
   "outputs": [],
   "source": [
    "#you can find the minimum of a function analytically\n",
    "#the minimum is a point where the derivative is 0\n",
    "#so all you need to do is find this point\n",
    "\n",
    "#neural networks find a combination of parameters which\n",
    "#have the smallest possible loss, this can be done by solving\n",
    "#gradient(f)(W) = 0 for W\n",
    "#solving this is intractable when the number of parameters \n",
    "#is as large as modern neural networks (tens of millions) \n",
    "\n",
    "#instead you use the 4 step training loop algorithm changed a bit\n",
    "#modify parameters a little bit based on the current loss \n",
    "#calculated on a random batch of data\n",
    "\n",
    "#1. get batch of samples and labels\n",
    "#2. forward pass to get predictions\n",
    "#3. compute loss on batch between predictions and labels\n",
    "#4. compute gradient of loss wrt parameters (backward pass)\n",
    "#5. update parameters in the opposite direction of gradient\n",
    "\n",
    "#this is called stochastic mini-batch gradient descent\n",
    "#as the batch is sampled randomly from the dataset\n",
    "\n",
    "#true SGD apparently means sampling 1 data point at a time\n",
    "#batch SGD apparently means the batch is the entire dataset\n",
    "\n",
    "#other algorithms like RMSprop, Adam, etc. available\n",
    "\n",
    "#consider momentum, which helps with convergence speed and \n",
    "#local minima\n",
    "#consider a ball rolling down a hill, don't want it stuck\n",
    "#in local minimum, we want it to have enough momentum to roll\n",
    "#out of shallow minimum\n",
    "#momentum uses current acceleration (current slope value)\n",
    "#as well as current velocity (from past acceleration)"
   ]
  },
  {
   "cell_type": "code",
   "execution_count": null,
   "metadata": {},
   "outputs": [],
   "source": [
    "#in practice, we chain together many tensor operations each\n",
    "#with their own simple derivative\n",
    "\n",
    "#i.e. f(W_1, W_2, W_3) = a(W_1, b(W_2, c(W_3)))\n",
    "\n",
    "#calculus tells us that a chain of functions can be derived \n",
    "#using the chain rule, i.e. the deriv of f(g(x)) is \n",
    "#f'(g(x)) * g'(x)\n",
    "\n",
    "#applying the chain rule to neural networks gives you\n",
    "#the backpropagation algorithm\n",
    "#this starts with the final loss value and works backwards\n",
    "#from there towards the input, one layer at a time"
   ]
  },
  {
   "cell_type": "code",
   "execution_count": 55,
   "metadata": {},
   "outputs": [
    {
     "name": "stdout",
     "output_type": "stream",
     "text": [
      "Epoch 1/5\n",
      "60000/60000 [==============================] - 7s - loss: 0.2556 - acc: 0.9259     \n",
      "Epoch 2/5\n",
      "60000/60000 [==============================] - 6s - loss: 0.1054 - acc: 0.9693     \n",
      "Epoch 3/5\n",
      "60000/60000 [==============================] - 6s - loss: 0.0693 - acc: 0.9786     \n",
      "Epoch 4/5\n",
      "60000/60000 [==============================] - 6s - loss: 0.0506 - acc: 0.9848     \n",
      "Epoch 5/5\n",
      "60000/60000 [==============================] - 6s - loss: 0.0380 - acc: 0.9887     \n"
     ]
    },
    {
     "data": {
      "text/plain": [
       "<keras.callbacks.History at 0x7f0d16e35278>"
      ]
     },
     "execution_count": 55,
     "metadata": {},
     "output_type": "execute_result"
    }
   ],
   "source": [
    "#back to the Keras example\n",
    "\n",
    "#load input images and labels\n",
    "(train_images, train_labels), (test_images, test_labels) = mnist.load_data()\n",
    "\n",
    "#reshape to (60k, 784)\n",
    "train_images = train_images.reshape((60000, 28 * 28)) \n",
    "train_images = train_images / 255\n",
    "\n",
    "test_images = test_images.reshape((10000, 28 * 28)) \n",
    "test_images = test_images / 255\n",
    "\n",
    "train_labels = to_categorical(train_labels)\n",
    "test_labels = to_categorical(test_labels)\n",
    "\n",
    "#network is a chain of 2 dense layers\n",
    "#each layer is f(dot(W, x) + b) w/ f = activation function\n",
    "network = models.Sequential() \n",
    "network.add(layers.Dense(512, activation='relu', input_shape=(28 * 28,))) \n",
    "network.add(layers.Dense(10, activation='softmax'))\n",
    "\n",
    "#categorical cross entropy is the loss function\n",
    "#loss minimized via mini-batch SGD\n",
    "#optimized via RMSprop\n",
    "network.compile(optimizer='rmsprop', \n",
    "                loss='categorical_crossentropy', \n",
    "                metrics=['accuracy'])\n",
    "\n",
    "#this defines the training loop\n",
    "#5 epochs = 5 passes through entire training data\n",
    "#mini-batches of 128 means we perform 469 batches per epoch\n",
    "#total of 2345 weight updates in total\n",
    "network.fit(train_images, train_labels, epochs=5, batch_size=128)"
   ]
  },
  {
   "cell_type": "code",
   "execution_count": null,
   "metadata": {},
   "outputs": [],
   "source": []
  },
  {
   "cell_type": "code",
   "execution_count": null,
   "metadata": {},
   "outputs": [],
   "source": []
  },
  {
   "cell_type": "code",
   "execution_count": null,
   "metadata": {},
   "outputs": [],
   "source": []
  },
  {
   "cell_type": "code",
   "execution_count": null,
   "metadata": {},
   "outputs": [],
   "source": []
  },
  {
   "cell_type": "code",
   "execution_count": null,
   "metadata": {},
   "outputs": [],
   "source": []
  },
  {
   "cell_type": "code",
   "execution_count": null,
   "metadata": {},
   "outputs": [],
   "source": []
  },
  {
   "cell_type": "code",
   "execution_count": null,
   "metadata": {},
   "outputs": [],
   "source": []
  },
  {
   "cell_type": "code",
   "execution_count": null,
   "metadata": {},
   "outputs": [],
   "source": []
  },
  {
   "cell_type": "code",
   "execution_count": null,
   "metadata": {},
   "outputs": [],
   "source": []
  },
  {
   "cell_type": "code",
   "execution_count": null,
   "metadata": {},
   "outputs": [],
   "source": []
  },
  {
   "cell_type": "code",
   "execution_count": null,
   "metadata": {},
   "outputs": [],
   "source": []
  },
  {
   "cell_type": "code",
   "execution_count": null,
   "metadata": {},
   "outputs": [],
   "source": []
  },
  {
   "cell_type": "code",
   "execution_count": null,
   "metadata": {},
   "outputs": [],
   "source": []
  },
  {
   "cell_type": "code",
   "execution_count": null,
   "metadata": {},
   "outputs": [],
   "source": []
  }
 ],
 "metadata": {
  "kernelspec": {
   "display_name": "Python 3",
   "language": "python",
   "name": "python3"
  },
  "language_info": {
   "codemirror_mode": {
    "name": "ipython",
    "version": 3
   },
   "file_extension": ".py",
   "mimetype": "text/x-python",
   "name": "python",
   "nbconvert_exporter": "python",
   "pygments_lexer": "ipython3",
   "version": "3.6.3"
  }
 },
 "nbformat": 4,
 "nbformat_minor": 2
}

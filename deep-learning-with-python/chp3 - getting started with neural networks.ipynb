{
 "cells": [
  {
   "cell_type": "code",
   "execution_count": 1,
   "metadata": {},
   "outputs": [],
   "source": [
    "#three examples in this chapter\n",
    "#1. classifying movie reviews as positive or negative\n",
    "#2. classifying news wires by topic\n",
    "#3. estimating the price of a house \n",
    "\n",
    "#those are:\n",
    "#1. binary classification\n",
    "#2. multi-class classification\n",
    "#3. regression\n",
    "\n",
    "#neural networks are made of:\n",
    "#1. layers\n",
    "#2. input data\n",
    "#3. loss function\n",
    "#4. optimizer\n",
    "\n",
    "#layer takes in an input and produces an output\n",
    "#layers have state, the weights\n",
    "\n",
    "#models are directed, acyclic graphs made of layers\n",
    "#the architecture of the model defines the hypothesis space\n",
    "#the topology represents the space of possible representations\n",
    "\n",
    "#you also have a loss function and an optimizer\n",
    "#loss is a quantity you want to minimize, and defines how\n",
    "#well you are doing\n",
    "#optimizer determines how to update the parameters based\n",
    "#on the loss function\n",
    "\n",
    "#always choose the right loss\n",
    "#binary cross-entropy for 2 class problems\n",
    "#categorical cross-netropy for multi-class problems\n",
    "#MSE for regression problems\n",
    "#connectionist temporal classification for sequence problems?\n",
    "\n",
    "#the workflow for Keras is:\n",
    "#1. define training data\n",
    "#2. define network of layers\n",
    "#3. choose loss function, optimizer and metrics with .compile\n",
    "#4. run training loop with .fit"
   ]
  },
  {
   "cell_type": "code",
   "execution_count": 2,
   "metadata": {},
   "outputs": [
    {
     "name": "stderr",
     "output_type": "stream",
     "text": [
      "Using TensorFlow backend.\n"
     ]
    },
    {
     "name": "stdout",
     "output_type": "stream",
     "text": [
      "[1, 14, 22, 16, 43, 530, 973, 1622, 1385, 65, 458, 4468, 66, 3941, 4, 173, 36, 256, 5, 25, 100, 43, 838, 112, 50, 670, 2, 9, 35, 480, 284, 5, 150, 4, 172, 112, 167, 2, 336, 385, 39, 4, 172, 4536, 1111, 17, 546, 38, 13, 447, 4, 192, 50, 16, 6, 147, 2025, 19, 14, 22, 4, 1920, 4613, 469, 4, 22, 71, 87, 12, 16, 43, 530, 38, 76, 15, 13, 1247, 4, 22, 17, 515, 17, 12, 16, 626, 18, 2, 5, 62, 386, 12, 8, 316, 8, 106, 5, 4, 2223, 5244, 16, 480, 66, 3785, 33, 4, 130, 12, 16, 38, 619, 5, 25, 124, 51, 36, 135, 48, 25, 1415, 33, 6, 22, 12, 215, 28, 77, 52, 5, 14, 407, 16, 82, 2, 8, 4, 107, 117, 5952, 15, 256, 4, 2, 7, 3766, 5, 723, 36, 71, 43, 530, 476, 26, 400, 317, 46, 7, 4, 2, 1029, 13, 104, 88, 4, 381, 15, 297, 98, 32, 2071, 56, 26, 141, 6, 194, 7486, 18, 4, 226, 22, 21, 134, 476, 26, 480, 5, 144, 30, 5535, 18, 51, 36, 28, 224, 92, 25, 104, 4, 226, 65, 16, 38, 1334, 88, 12, 16, 283, 5, 16, 4472, 113, 103, 32, 15, 16, 5345, 19, 178, 32]\n",
      "1\n"
     ]
    }
   ],
   "source": [
    "#binary classification of movie reviews\n",
    "\n",
    "#based on the review contents, classify it as positive\n",
    "#never test a machine learning model on the data used to train it\n",
    "#as the model will just memorize the training data\n",
    "\n",
    "from keras.datasets import imdb\n",
    "\n",
    "(train_data, train_labels), (test_data, test_labels) = imdb.load_data(num_words=10_000)\n",
    "\n",
    "#num_words = 10k means you only keep the 10k most common words\n",
    "#in the TRAINING DATA\n",
    "#the labels are 0 for negative and 1 for positive\n",
    "\n",
    "print(train_data[0])\n",
    "print(train_labels[0])"
   ]
  },
  {
   "cell_type": "code",
   "execution_count": 3,
   "metadata": {},
   "outputs": [
    {
     "data": {
      "text/plain": [
       "9999"
      ]
     },
     "execution_count": 3,
     "metadata": {},
     "output_type": "execute_result"
    }
   ],
   "source": [
    "#as we have 10k most common words, no index will exceed 10k\n",
    "max([max(sequence) for sequence in train_data])"
   ]
  },
  {
   "cell_type": "code",
   "execution_count": 4,
   "metadata": {},
   "outputs": [
    {
     "name": "stdout",
     "output_type": "stream",
     "text": [
      "? this film was just brilliant casting location scenery story direction everyone's really suited the part they played and you could just imagine being there robert ? is an amazing actor and now the same being director ? father came from the same scottish island as myself so i loved the fact there was a real connection with this film the witty remarks throughout the film were great it was just brilliant so much that i bought the film as soon as it was released for ? and would recommend it to everyone to watch and the fly fishing was amazing really cried at the end it was so sad and you know what they say if you cry at a film it must have been good and this definitely was also ? to the two little boy's that played the ? of norman and paul they were just brilliant children are often left out of the ? list i think because the stars that play them all grown up are such a big profile for the whole film but these children are amazing and should be praised for what they have done don't you think the whole story was so lovely because it was true and was someone's life after all that was shared with us all\n"
     ]
    }
   ],
   "source": [
    "#you can decode the reviews back into english\n",
    "word_index = imdb.get_word_index() #mapping from words to int\n",
    "reverse_word_index = dict([(v, k) for (k, v) in word_index.items()])\n",
    "decoded_review = ' '.join(\n",
    "                        [reverse_word_index.get(i-3,'?') for i in train_data[0]])\n",
    "print(decoded_review)"
   ]
  },
  {
   "cell_type": "code",
   "execution_count": 5,
   "metadata": {},
   "outputs": [],
   "source": [
    "#we are going to turn each sequence into a vector\n",
    "#it's NOT a one-hot vector\n",
    "#it's length of 10k and has 1 in an element if that word\n",
    "#appears in the sequence, \n",
    "#i.e. if length 5 and sequence is [2,2,4] => [0,1,0,1,0]\n",
    "\n",
    "import numpy as np\n",
    "\n",
    "def vectorize_sequences(sequences, dimension=10_000):\n",
    "    results = np.zeros((len(sequences), dimension))\n",
    "    for i, sequence in enumerate(sequences):\n",
    "        results[i, sequence] = 1\n",
    "    return results\n",
    "\n",
    "x_train = vectorize_sequences(train_data)\n",
    "x_test = vectorize_sequences(test_data)"
   ]
  },
  {
   "cell_type": "code",
   "execution_count": 6,
   "metadata": {},
   "outputs": [
    {
     "name": "stdout",
     "output_type": "stream",
     "text": [
      "(25000,)\n",
      "(25000, 10000)\n"
     ]
    }
   ],
   "source": [
    "print(train_data.shape)\n",
    "print(x_train.shape)"
   ]
  },
  {
   "cell_type": "code",
   "execution_count": 7,
   "metadata": {},
   "outputs": [
    {
     "name": "stdout",
     "output_type": "stream",
     "text": [
      "float32\n"
     ]
    }
   ],
   "source": [
    "#now the same for the labels:\n",
    "\n",
    "y_train = np.asarray(train_labels).astype('float32')\n",
    "y_test = np.asarray(test_labels).astype('float32')\n",
    "\n",
    "print(y_train.dtype)"
   ]
  },
  {
   "cell_type": "code",
   "execution_count": 8,
   "metadata": {},
   "outputs": [],
   "source": [
    "#a dense layer denoted by Dense(16) has 16 hidden units\n",
    "#this is represented by a weight matrix W with size:\n",
    "#(input_dimensions, 16), the dot product turns the\n",
    "#(input_dimensions) vector into a 16 dimensional vector\n",
    "\n",
    "#having more hidden units allows for more-complex representations\n",
    "#however makes the network more computationally expensive\n",
    "#and causes it to overfit\n",
    "\n",
    "#need to choose the number of layers and hidden units in each\n",
    "#layer\n",
    "\n",
    "#use ReLU in intermediate layers and sigmoid in final layer\n",
    "#relu: f(x) = 0 if x > 0, else x\n",
    "#sigmoid: squashes between 0 and 1, can be interpreted as \n",
    "#a probability\n",
    "\n",
    "from keras import models\n",
    "from keras import layers\n",
    "\n",
    "model = models.Sequential()\n",
    "model.add(layers.Dense(16, activation='relu', input_shape=(10000,)))\n",
    "model.add(layers.Dense(16, activation='relu'))\n",
    "model.add(layers.Dense(1, activation='sigmoid'))\n",
    "\n",
    "#why use activation functions?\n",
    "#without them, the Dense layer would produce a linear transformation\n",
    "#the hypothesis space of the layer would be all possible linear\n",
    "#transformations of the input data into 16D space\n",
    "\n",
    "#it turns out that stacking any amount of linear layers\n",
    "#will always give a linear output, thus you have a limited\n",
    "#hypothesis space, with non-linear activation functions\n",
    "#you get more potential hypotheses and therefore more \n",
    "#representations, giving you a better chance at finding\n",
    "#the \"best\" hypothesis which fits your data"
   ]
  },
  {
   "cell_type": "code",
   "execution_count": 9,
   "metadata": {},
   "outputs": [],
   "source": [
    "#use binary cross-entropy when you only have a binary \n",
    "#classification problem\n",
    "\n",
    "#you could use MSE, but cross-entropy is better\n",
    "#it is from information theory and measures the distance\n",
    "#between two probability distributions\n",
    "\n",
    "#lets use rmsprop as the optimizer too\n",
    "\n",
    "model.compile(optimizer='rmsprop',\n",
    "              loss='binary_crossentropy',\n",
    "              metrics=['accuracy'])\n",
    "\n",
    "#these are strings are they use default values defined in Keras\n",
    "#can also pass a function with parameters\n",
    "\n",
    "from keras import optimizers\n",
    "from keras import losses\n",
    "from keras import metrics\n",
    "\n",
    "model.compile(optimizer=optimizers.RMSprop(lr=0.001),\n",
    "              loss=losses.binary_crossentropy,\n",
    "              metrics=[metrics.binary_accuracy])"
   ]
  },
  {
   "cell_type": "code",
   "execution_count": 10,
   "metadata": {},
   "outputs": [],
   "source": [
    "#we want to create a validation set\n",
    "#we train our model on the training set\n",
    "#we tune our hyperparameters on the validation set\n",
    "#we test our generalization accuracy on the test set\n",
    "\n",
    "x_val = x_train[:10000]\n",
    "partial_x_train = x_train[10000:]\n",
    "\n",
    "y_val = y_train[:10000]\n",
    "partial_y_train = y_train[10000:]"
   ]
  },
  {
   "cell_type": "code",
   "execution_count": 11,
   "metadata": {},
   "outputs": [
    {
     "name": "stdout",
     "output_type": "stream",
     "text": [
      "Train on 15000 samples, validate on 10000 samples\n",
      "Epoch 1/20\n",
      "15000/15000 [==============================] - 5s - loss: 0.5160 - binary_accuracy: 0.7891 - val_loss: 0.4005 - val_binary_accuracy: 0.8667\n",
      "Epoch 2/20\n",
      "15000/15000 [==============================] - 4s - loss: 0.3146 - binary_accuracy: 0.9037 - val_loss: 0.3226 - val_binary_accuracy: 0.8795\n",
      "Epoch 3/20\n",
      "15000/15000 [==============================] - 4s - loss: 0.2315 - binary_accuracy: 0.9244 - val_loss: 0.2801 - val_binary_accuracy: 0.8923\n",
      "Epoch 4/20\n",
      "15000/15000 [==============================] - 4s - loss: 0.1804 - binary_accuracy: 0.9429 - val_loss: 0.2731 - val_binary_accuracy: 0.8907\n",
      "Epoch 5/20\n",
      "15000/15000 [==============================] - 4s - loss: 0.1488 - binary_accuracy: 0.9517 - val_loss: 0.2784 - val_binary_accuracy: 0.8887\n",
      "Epoch 6/20\n",
      "15000/15000 [==============================] - 4s - loss: 0.1206 - binary_accuracy: 0.9633 - val_loss: 0.3222 - val_binary_accuracy: 0.8804\n",
      "Epoch 7/20\n",
      "15000/15000 [==============================] - 4s - loss: 0.1028 - binary_accuracy: 0.9695 - val_loss: 0.3050 - val_binary_accuracy: 0.8857\n",
      "Epoch 8/20\n",
      "15000/15000 [==============================] - 4s - loss: 0.0846 - binary_accuracy: 0.9763 - val_loss: 0.3377 - val_binary_accuracy: 0.8767\n",
      "Epoch 9/20\n",
      "15000/15000 [==============================] - 4s - loss: 0.0729 - binary_accuracy: 0.9800 - val_loss: 0.3605 - val_binary_accuracy: 0.8796\n",
      "Epoch 10/20\n",
      "15000/15000 [==============================] - 4s - loss: 0.0585 - binary_accuracy: 0.9863 - val_loss: 0.3731 - val_binary_accuracy: 0.8805\n",
      "Epoch 11/20\n",
      "15000/15000 [==============================] - 4s - loss: 0.0494 - binary_accuracy: 0.9883 - val_loss: 0.3982 - val_binary_accuracy: 0.8780\n",
      "Epoch 12/20\n",
      "15000/15000 [==============================] - 4s - loss: 0.0394 - binary_accuracy: 0.9919 - val_loss: 0.4411 - val_binary_accuracy: 0.8775\n",
      "Epoch 13/20\n",
      "15000/15000 [==============================] - 4s - loss: 0.0308 - binary_accuracy: 0.9945 - val_loss: 0.4549 - val_binary_accuracy: 0.8745\n",
      "Epoch 14/20\n",
      "15000/15000 [==============================] - 4s - loss: 0.0248 - binary_accuracy: 0.9959 - val_loss: 0.4814 - val_binary_accuracy: 0.8737\n",
      "Epoch 15/20\n",
      "15000/15000 [==============================] - 4s - loss: 0.0213 - binary_accuracy: 0.9963 - val_loss: 0.5378 - val_binary_accuracy: 0.8713\n",
      "Epoch 16/20\n",
      "15000/15000 [==============================] - 4s - loss: 0.0124 - binary_accuracy: 0.9992 - val_loss: 0.5459 - val_binary_accuracy: 0.8680\n",
      "Epoch 17/20\n",
      "15000/15000 [==============================] - 4s - loss: 0.0129 - binary_accuracy: 0.9978 - val_loss: 0.5775 - val_binary_accuracy: 0.8720\n",
      "Epoch 18/20\n",
      "15000/15000 [==============================] - 4s - loss: 0.0098 - binary_accuracy: 0.9985 - val_loss: 0.6065 - val_binary_accuracy: 0.8686\n",
      "Epoch 19/20\n",
      "15000/15000 [==============================] - 4s - loss: 0.0081 - binary_accuracy: 0.9986 - val_loss: 0.6388 - val_binary_accuracy: 0.8678\n",
      "Epoch 20/20\n",
      "15000/15000 [==============================] - 4s - loss: 0.0039 - binary_accuracy: 0.9999 - val_loss: 0.6722 - val_binary_accuracy: 0.8681\n"
     ]
    }
   ],
   "source": [
    "#now lets train the model for 20 epochs in mini-batches of 512\n",
    "#we'll also monitor accuracy on the validation set\n",
    "#done by passing as an extra argument\n",
    "\n",
    "history = model.fit(partial_x_train,\n",
    "                    partial_y_train,\n",
    "                    epochs=20,\n",
    "                    batch_size=512,\n",
    "                    validation_data=(x_val, y_val))"
   ]
  },
  {
   "cell_type": "code",
   "execution_count": 12,
   "metadata": {},
   "outputs": [
    {
     "name": "stdout",
     "output_type": "stream",
     "text": [
      "dict_keys(['val_loss', 'val_binary_accuracy', 'loss', 'binary_accuracy'])\n"
     ]
    }
   ],
   "source": [
    "#the model.fit returns a History object which has a history\n",
    "#member which is a dictionary containing data about the\n",
    "#results during training\n",
    "\n",
    "history_dict = history.history\n",
    "print(history_dict.keys())"
   ]
  },
  {
   "cell_type": "code",
   "execution_count": 14,
   "metadata": {},
   "outputs": [
    {
     "data": {
      "text/plain": [
       "<matplotlib.legend.Legend at 0x7f96b901e9b0>"
      ]
     },
     "execution_count": 14,
     "metadata": {},
     "output_type": "execute_result"
    },
    {
     "data": {
      "image/png": "[encoded data removed]",
      "text/plain": [
       "<matplotlib.figure.Figure at 0x7f96b931d748>"
      ]
     },
     "metadata": {},
     "output_type": "display_data"
    }
   ],
   "source": [
    "#can now plot the data\n",
    "\n",
    "import matplotlib.pyplot as plt\n",
    "\n",
    "loss_values = history_dict['loss']\n",
    "val_loss_values = history_dict['val_loss']\n",
    "\n",
    "epochs = range(1, len(loss_values)+1)\n",
    "\n",
    "plt.plot(epochs, loss_values, 'bo', label='Training Loss')\n",
    "plt.plot(epochs, val_loss_values, 'b', label='Validation Loss')\n",
    "plt.title('Training and Validation Loss')\n",
    "plt.xlabel('Epochs')\n",
    "plt.ylabel('Loss')\n",
    "plt.legend()"
   ]
  },
  {
   "cell_type": "code",
   "execution_count": 16,
   "metadata": {},
   "outputs": [
    {
     "data": {
      "text/plain": [
       "<matplotlib.legend.Legend at 0x7f96b76d09b0>"
      ]
     },
     "execution_count": 16,
     "metadata": {},
     "output_type": "execute_result"
    },
    {
     "data": {
      "image/png": "[encoded data removed]",
      "text/plain": [
       "<matplotlib.figure.Figure at 0x7f96b8ff26a0>"
      ]
     },
     "metadata": {},
     "output_type": "display_data"
    }
   ],
   "source": [
    "acc_values = history_dict['binary_accuracy']\n",
    "val_acc_values = history_dict['val_binary_accuracy']\n",
    "\n",
    "plt.plot(epochs, acc_values, 'bo', label='Training Acc.')\n",
    "plt.plot(epochs, val_acc_values, 'b', label='Validation Acc.')\n",
    "plt.title('Training and Validation Acc.')\n",
    "plt.xlabel('Epochs')\n",
    "plt.ylabel('Loss')\n",
    "plt.legend()"
   ]
  },
  {
   "cell_type": "code",
   "execution_count": 21,
   "metadata": {},
   "outputs": [
    {
     "name": "stdout",
     "output_type": "stream",
     "text": [
      "Train on 15000 samples, validate on 10000 samples\n",
      "Epoch 1/4\n",
      "15000/15000 [==============================] - 4s - loss: 0.5495 - binary_accuracy: 0.7779 - val_loss: 0.4343 - val_binary_accuracy: 0.8677\n",
      "Epoch 2/4\n",
      "15000/15000 [==============================] - 4s - loss: 0.3494 - binary_accuracy: 0.8984 - val_loss: 0.3330 - val_binary_accuracy: 0.8834\n",
      "Epoch 3/4\n",
      "15000/15000 [==============================] - 4s - loss: 0.2536 - binary_accuracy: 0.9211 - val_loss: 0.2891 - val_binary_accuracy: 0.8915\n",
      "Epoch 4/4\n",
      "15000/15000 [==============================] - 4s - loss: 0.1998 - binary_accuracy: 0.9369 - val_loss: 0.2745 - val_binary_accuracy: 0.8922\n",
      "24768/25000 [============================>.] - ETA: 0s"
     ]
    }
   ],
   "source": [
    "#training loss decreases monotonically\n",
    "#validation loss starts decreasing but then increases\n",
    "\n",
    "#this is the model performing better on the training data\n",
    "#as this is what it is trained on (what the parameters are tweaked on)\n",
    "#however it begins to \"overfit\" as it memorizes the training data\n",
    "#exactly and loses its ability to generalize to unseen data\n",
    "\n",
    "#to prevent overfitting, we'll retrain our model but stop\n",
    "#after only 4 epochs\n",
    "\n",
    "#the parameters are all held in the model object\n",
    "#so to retrain from scratch you need to re-define everything\n",
    "\n",
    "model = models.Sequential()\n",
    "model.add(layers.Dense(16, activation='relu', input_shape=(10000,)))\n",
    "model.add(layers.Dense(16, activation='relu'))\n",
    "model.add(layers.Dense(1, activation='sigmoid'))\n",
    "\n",
    "model.compile(optimizer=optimizers.RMSprop(lr=0.001),\n",
    "              loss=losses.binary_crossentropy,\n",
    "              metrics=[metrics.binary_accuracy])\n",
    "\n",
    "history = model.fit(partial_x_train,\n",
    "                    partial_y_train,\n",
    "                    epochs=4,\n",
    "                    batch_size=512,\n",
    "                    validation_data=(x_val, y_val))\n",
    "\n",
    "loss, acc = model.evaluate(x_test, y_test)"
   ]
  },
  {
   "cell_type": "code",
   "execution_count": 22,
   "metadata": {},
   "outputs": [
    {
     "name": "stdout",
     "output_type": "stream",
     "text": [
      "loss: 0.291625589809\n",
      "acc: 0.88416\n"
     ]
    }
   ],
   "source": [
    "print(\"loss:\",loss)\n",
    "print(\"acc:\",acc)"
   ]
  },
  {
   "cell_type": "code",
   "execution_count": 23,
   "metadata": {},
   "outputs": [
    {
     "data": {
      "text/plain": [
       "array([[ 0.88885301],\n",
       "       [ 0.83095139],\n",
       "       [ 0.99392718],\n",
       "       ..., \n",
       "       [ 0.71142823],\n",
       "       [ 0.04457655],\n",
       "       [ 0.82004815]], dtype=float32)"
      ]
     },
     "execution_count": 23,
     "metadata": {},
     "output_type": "execute_result"
    }
   ],
   "source": [
    "#we're able to get 88% accuracy with this pretty simple model\n",
    "#state of the art is about 95%\n",
    "\n",
    "#we use in a practice setting as:\n",
    "model.predict(x_test)"
   ]
  },
  {
   "cell_type": "code",
   "execution_count": 42,
   "metadata": {},
   "outputs": [
    {
     "name": "stdout",
     "output_type": "stream",
     "text": [
      "Train on 15000 samples, validate on 10000 samples\n",
      "Epoch 1/4\n",
      "15000/15000 [==============================] - 4s - loss: 0.5889 - binary_accuracy: 0.7653 - val_loss: 0.5034 - val_binary_accuracy: 0.8297\n",
      "Epoch 2/4\n",
      "15000/15000 [==============================] - 4s - loss: 0.4300 - binary_accuracy: 0.8791 - val_loss: 0.4009 - val_binary_accuracy: 0.8699\n",
      "Epoch 3/4\n",
      "15000/15000 [==============================] - 4s - loss: 0.3329 - binary_accuracy: 0.9062 - val_loss: 0.3427 - val_binary_accuracy: 0.8779\n",
      "Epoch 4/4\n",
      "15000/15000 [==============================] - 4s - loss: 0.2692 - binary_accuracy: 0.9212 - val_loss: 0.3070 - val_binary_accuracy: 0.8854\n",
      "24736/25000 [============================>.] - ETA: 0s"
     ]
    }
   ],
   "source": [
    "#confident predictions are close to 0 or 1\n",
    "#less confident are close to 0.5\n",
    "\n",
    "#other things to try:\n",
    "#1. different amount of hidden layers (1=87%, 3=86%)\n",
    "#2. different amount of hidden units (2=81%, 4=87%, 8=88%, 32=87%, 64=87%)\n",
    "#3. MSE loss function (88%)\n",
    "#4. tanh activation function (87%)\n",
    "\n",
    "model = models.Sequential()\n",
    "model.add(layers.Dense(16, activation='relu', input_shape=(10000,)))\n",
    "model.add(layers.Dense(16, activation='relu'))\n",
    "model.add(layers.Dense(1, activation='sigmoid'))\n",
    "\n",
    "model.compile(optimizer=optimizers.RMSprop(lr=0.001),\n",
    "              loss=losses.binary_crossentropy,\n",
    "              metrics=[metrics.binary_accuracy])\n",
    "\n",
    "history = model.fit(partial_x_train,\n",
    "                    partial_y_train,\n",
    "                    epochs=4,\n",
    "                    batch_size=512,\n",
    "                    validation_data=(x_val, y_val))\n",
    "\n",
    "loss, acc = model.evaluate(x_test, y_test)\n",
    "\n",
    "print(\"test acc:\",acc)"
   ]
  },
  {
   "cell_type": "code",
   "execution_count": 1,
   "metadata": {},
   "outputs": [],
   "source": [
    "#from this, you should know:\n",
    "# 1. usually need to do some pre-processing\n",
    "# 2. dense layers with relu are good, will be use often\n",
    "# 3. binary classifcation problems end with a Dense layer with\n",
    "#    1 output and a sigmoid activation function\n",
    "# 4. with binary classifcation use binary crossentropy loss\n",
    "# 5. rmsprop is pretty good\n",
    "# 6. neural networks overfit "
   ]
  },
  {
   "cell_type": "code",
   "execution_count": 3,
   "metadata": {},
   "outputs": [
    {
     "name": "stdout",
     "output_type": "stream",
     "text": [
      "8982\n",
      "2246\n"
     ]
    }
   ],
   "source": [
    "#now we're going to classify Reuters newswires into 46 mutually\n",
    "#exclusive classes\n",
    "\n",
    "from keras.datasets import reuters\n",
    "\n",
    "(train_data, train_labels), (test_data, test_labels) = reuters.load_data(num_words=10_000)\n",
    "\n",
    "#once again we only use the most common 10k words\n",
    "\n",
    "print(len(train_data))\n",
    "print(len(test_data))"
   ]
  },
  {
   "cell_type": "code",
   "execution_count": 4,
   "metadata": {},
   "outputs": [
    {
     "name": "stdout",
     "output_type": "stream",
     "text": [
      "[1, 2, 2, 8, 43, 10, 447, 5, 25, 207, 270, 5, 3095, 111, 16, 369, 186, 90, 67, 7, 89, 5, 19, 102, 6, 19, 124, 15, 90, 67, 84, 22, 482, 26, 7, 48, 4, 49, 8, 864, 39, 209, 154, 6, 151, 6, 83, 11, 15, 22, 155, 11, 15, 7, 48, 9, 4579, 1005, 504, 6, 258, 6, 272, 11, 15, 22, 134, 44, 11, 15, 16, 8, 197, 1245, 90, 67, 52, 29, 209, 30, 32, 132, 6, 109, 15, 17, 12]\n"
     ]
    }
   ],
   "source": [
    "print(train_data[0])"
   ]
  },
  {
   "cell_type": "code",
   "execution_count": 6,
   "metadata": {},
   "outputs": [
    {
     "name": "stdout",
     "output_type": "stream",
     "text": [
      "Downloading data from https://s3.amazonaws.com/text-datasets/reuters_word_index.json\n",
      "524288/550378 [===========================>..] - ETA: 0s"
     ]
    }
   ],
   "source": [
    "#can also turn back into words\n",
    "\n",
    "word_index = reuters.get_word_index()\n",
    "\n",
    "reverse_word_index = dict([(v,k) for (k,v) in word_index.items()])\n",
    "\n",
    "decoded_newswire = ' '.join([reverse_word_index.get(i-3,'?') for i in train_data[0]])"
   ]
  },
  {
   "cell_type": "code",
   "execution_count": 7,
   "metadata": {},
   "outputs": [
    {
     "name": "stdout",
     "output_type": "stream",
     "text": [
      "? ? ? said as a result of its december acquisition of space co it expects earnings per share in 1987 of 1 15 to 1 30 dlrs per share up from 70 cts in 1986 the company said pretax net should rise to nine to 10 mln dlrs from six mln dlrs in 1986 and rental operation revenues to 19 to 22 mln dlrs from 12 5 mln dlrs it said cash flow per share this year should be 2 50 to three dlrs reuter 3\n"
     ]
    }
   ],
   "source": [
    "print(decoded_newswire)"
   ]
  },
  {
   "cell_type": "code",
   "execution_count": 8,
   "metadata": {},
   "outputs": [
    {
     "name": "stdout",
     "output_type": "stream",
     "text": [
      "3\n"
     ]
    }
   ],
   "source": [
    "#the label associated with each example is between 0 and 45\n",
    "\n",
    "print(train_labels[0])"
   ]
  },
  {
   "cell_type": "code",
   "execution_count": 10,
   "metadata": {},
   "outputs": [],
   "source": [
    "#vectorize the data as before\n",
    "#bag-of-words, just 1 in the vector if that element appears\n",
    "#in the text\n",
    "\n",
    "import numpy as np\n",
    "\n",
    "def vectorize_sequences(sequences, dimension=10000):\n",
    "    results = np.zeros((len(sequences), dimension))\n",
    "    for i, sequence in enumerate(sequences):\n",
    "        results[i, sequence] = 1\n",
    "    return results\n",
    "\n",
    "x_train = vectorize_sequences(train_data)\n",
    "x_test = vectorize_sequences(test_data)"
   ]
  },
  {
   "cell_type": "code",
   "execution_count": 22,
   "metadata": {},
   "outputs": [
    {
     "data": {
      "text/plain": [
       "10000"
      ]
     },
     "execution_count": 22,
     "metadata": {},
     "output_type": "execute_result"
    }
   ],
   "source": [
    "len(x_train[0])"
   ]
  },
  {
   "cell_type": "code",
   "execution_count": 24,
   "metadata": {},
   "outputs": [],
   "source": [
    "#turn the labels into one-hot vectors\n",
    "\n",
    "def to_one_hot(labels, dimension=46):\n",
    "    results = np.zeros((len(labels), dimension))\n",
    "    for i, label in enumerate(labels):\n",
    "        results[i, label] = 1\n",
    "    return results\n",
    "\n",
    "one_hot_train_labels = to_one_hot(train_labels)\n",
    "one_hot_test_labels = to_one_hot(test_labels)\n",
    "\n",
    "#can also do with built in Keras utils\n",
    "\n",
    "from keras.utils.np_utils import to_categorical\n",
    "\n",
    "one_hot_train_labels = to_categorical(train_labels)\n",
    "one_hot_test_labels = to_categorical(test_labels)"
   ]
  },
  {
   "cell_type": "code",
   "execution_count": 52,
   "metadata": {},
   "outputs": [],
   "source": [
    "#16-dimensions may be too small for 46 classes\n",
    "#so lets increase it to 64\n",
    "\n",
    "from keras import models\n",
    "from keras import layers\n",
    "\n",
    "model = models.Sequential()\n",
    "model.add(layers.Dense(64, activation='relu', input_shape=(10000,))) \n",
    "model.add(layers.Dense(64, activation='relu')) \n",
    "model.add(layers.Dense(46, activation='softmax'))\n",
    "\n",
    "#46 on the final layer as we have 46 classes\n",
    "#softmax activation converts the output to a probability distribution\n",
    "#over the 46 classes, i.e. output[i] is the probability the input\n",
    "#belongs to class i, all 46 sum to 1"
   ]
  },
  {
   "cell_type": "code",
   "execution_count": 53,
   "metadata": {},
   "outputs": [],
   "source": [
    "#we use categorical cross entropy to measure distance\n",
    "#between predicted probability distribution and actual\n",
    "#probability distribution\n",
    "\n",
    "model.compile(optimizer='rmsprop', \n",
    "              loss='categorical_crossentropy', \n",
    "              metrics=['accuracy'])"
   ]
  },
  {
   "cell_type": "code",
   "execution_count": 54,
   "metadata": {},
   "outputs": [],
   "source": [
    "#split into validation set\n",
    "\n",
    "x_val = x_train[:1000] \n",
    "partial_x_train = x_train[1000:]\n",
    "y_val = one_hot_train_labels[:1000] \n",
    "partial_y_train = one_hot_train_labels[1000:]"
   ]
  },
  {
   "cell_type": "code",
   "execution_count": 55,
   "metadata": {},
   "outputs": [
    {
     "name": "stdout",
     "output_type": "stream",
     "text": [
      "Train on 7982 samples, validate on 1000 samples\n",
      "Epoch 1/10\n",
      "7982/7982 [==============================] - 2s - loss: 2.4778 - acc: 0.5266 - val_loss: 1.6351 - val_acc: 0.6450\n",
      "Epoch 2/10\n",
      "7982/7982 [==============================] - 2s - loss: 1.3444 - acc: 0.7201 - val_loss: 1.2574 - val_acc: 0.7230\n",
      "Epoch 3/10\n",
      "7982/7982 [==============================] - 2s - loss: 1.0058 - acc: 0.7910 - val_loss: 1.1423 - val_acc: 0.7350\n",
      "Epoch 4/10\n",
      "7982/7982 [==============================] - 2s - loss: 0.8016 - acc: 0.8294 - val_loss: 1.0146 - val_acc: 0.7880\n",
      "Epoch 5/10\n",
      "7982/7982 [==============================] - 2s - loss: 0.6361 - acc: 0.8662 - val_loss: 0.9870 - val_acc: 0.8090\n",
      "Epoch 6/10\n",
      "7982/7982 [==============================] - 2s - loss: 0.5113 - acc: 0.8908 - val_loss: 0.9359 - val_acc: 0.8050\n",
      "Epoch 7/10\n",
      "7982/7982 [==============================] - 2s - loss: 0.4111 - acc: 0.9109 - val_loss: 0.9236 - val_acc: 0.8010\n",
      "Epoch 8/10\n",
      "7982/7982 [==============================] - 2s - loss: 0.3352 - acc: 0.9275 - val_loss: 0.8969 - val_acc: 0.8140\n",
      "Epoch 9/10\n",
      "7982/7982 [==============================] - 2s - loss: 0.2775 - acc: 0.9399 - val_loss: 0.9157 - val_acc: 0.8170\n",
      "Epoch 10/10\n",
      "7982/7982 [==============================] - 2s - loss: 0.2361 - acc: 0.9450 - val_loss: 0.8952 - val_acc: 0.8180\n"
     ]
    }
   ],
   "source": [
    "#train for 20 epochs, batch size of 512\n",
    "\n",
    "history = model.fit(partial_x_train, \n",
    "                    partial_y_train, \n",
    "                    epochs=10, \n",
    "                    batch_size=512, \n",
    "                    validation_data=(x_val, y_val))"
   ]
  },
  {
   "cell_type": "code",
   "execution_count": 56,
   "metadata": {},
   "outputs": [
    {
     "data": {
      "text/plain": [
       "<matplotlib.legend.Legend at 0x7fa514f82048>"
      ]
     },
     "execution_count": 56,
     "metadata": {},
     "output_type": "execute_result"
    },
    {
     "data": {
      "image/png": "[encoded data removed]",
      "text/plain": [
       "<matplotlib.figure.Figure at 0x7fa514b80438>"
      ]
     },
     "metadata": {},
     "output_type": "display_data"
    }
   ],
   "source": [
    "import matplotlib.pyplot as plt\n",
    "\n",
    "loss = history.history['loss'] \n",
    "val_loss = history.history['val_loss'] \n",
    "\n",
    "epochs = range(1, len(loss) + 1)\n",
    "\n",
    "plt.plot(epochs, loss, 'bo', label='Training loss') \n",
    "plt.plot(epochs, val_loss, 'b', label='Validation loss') \n",
    "plt.title('Training and validation loss') \n",
    "plt.xlabel('Epochs') \n",
    "plt.ylabel('Loss') \n",
    "plt.legend()"
   ]
  },
  {
   "cell_type": "code",
   "execution_count": 57,
   "metadata": {},
   "outputs": [
    {
     "data": {
      "text/plain": [
       "<matplotlib.legend.Legend at 0x7fa51501afd0>"
      ]
     },
     "execution_count": 57,
     "metadata": {},
     "output_type": "execute_result"
    },
    {
     "data": {
      "image/png": "[encoded data removed]",
      "text/plain": [
       "<matplotlib.figure.Figure at 0x7fa514b80208>"
      ]
     },
     "metadata": {},
     "output_type": "display_data"
    }
   ],
   "source": [
    "acc = history.history['acc'] \n",
    "val_acc = history.history['val_acc']\n",
    "\n",
    "plt.plot(epochs, acc, 'bo', label='Training acc') \n",
    "plt.plot(epochs, val_acc, 'b', label='Validation acc') \n",
    "plt.title('Training and validation accuracy') \n",
    "plt.xlabel('Epochs') \n",
    "plt.ylabel('Loss') \n",
    "plt.legend()"
   ]
  },
  {
   "cell_type": "code",
   "execution_count": 58,
   "metadata": {},
   "outputs": [
    {
     "name": "stdout",
     "output_type": "stream",
     "text": [
      "2208/2246 [============================>.] - ETA: 0s"
     ]
    }
   ],
   "source": [
    "loss, acc = model.evaluate(x_test, one_hot_test_labels)"
   ]
  },
  {
   "cell_type": "code",
   "execution_count": 59,
   "metadata": {},
   "outputs": [
    {
     "name": "stdout",
     "output_type": "stream",
     "text": [
      "loss: 0.978354864851\n",
      "acc: 0.794746215494\n"
     ]
    }
   ],
   "source": [
    "print(\"loss:\",loss)\n",
    "print(\"acc:\",acc)"
   ]
  },
  {
   "cell_type": "code",
   "execution_count": 63,
   "metadata": {},
   "outputs": [
    {
     "data": {
      "text/plain": [
       "3"
      ]
     },
     "execution_count": 63,
     "metadata": {},
     "output_type": "execute_result"
    }
   ],
   "source": [
    "#we get an accuracy of about 80%, a lot better than random guessing\n",
    "#can get predictions on new data with\n",
    "\n",
    "predictions = model.predict(x_test)\n",
    "\n",
    "#can get the predicted class with\n",
    "\n",
    "np.argmax(predictions[0])"
   ]
  },
  {
   "cell_type": "code",
   "execution_count": 68,
   "metadata": {},
   "outputs": [
    {
     "name": "stdout",
     "output_type": "stream",
     "text": [
      "[3 4 3 4 4]\n"
     ]
    }
   ],
   "source": [
    "#another way of doing it is by encoding the labels as integers\n",
    "#instead of one-hot\n",
    "\n",
    "y_train = np.array(train_labels)\n",
    "y_test = np.array(test_labels)\n",
    "\n",
    "print(y_train[:5])\n",
    "\n",
    "#in this case we use 'sparse categorical crossentropy'\n",
    "\n",
    "model.compile(optimizer='rmsprop',\n",
    "              loss='sparse_categorical_crossentropy',\n",
    "              models=['acc'])\n",
    "\n",
    "#gives you the exact same results, just a different way of doing it"
   ]
  },
  {
   "cell_type": "code",
   "execution_count": 69,
   "metadata": {},
   "outputs": [],
   "source": [
    "#if you reduce the middle layer to have 4 dimensions\n",
    "#acc reduces by ~20% as you have an information bottleneck\n",
    "\n",
    "#wrap up:\n",
    "#1. if trying to classify N classes, final layer should be N dimensional\n",
    "#2. should have a softmax activation function which outputs a probability distribution\n",
    "#3. categorical crossentropy reduces difference between probability distributions\n",
    "#4. can either encode labels as one hot or integers\n",
    "#5. if using integers need to use 'sparse categorical crossentropy'\n",
    "#6. avoid information bottlenecks"
   ]
  },
  {
   "cell_type": "code",
   "execution_count": null,
   "metadata": {},
   "outputs": [],
   "source": [
    "#TO DO 3.6 PAGE 85"
   ]
  }
 ],
 "metadata": {
  "kernelspec": {
   "display_name": "Python 3",
   "language": "python",
   "name": "python3"
  },
  "language_info": {
   "codemirror_mode": {
    "name": "ipython",
    "version": 3
   },
   "file_extension": ".py",
   "mimetype": "text/x-python",
   "name": "python",
   "nbconvert_exporter": "python",
   "pygments_lexer": "ipython3",
   "version": "3.6.3"
  }
 },
 "nbformat": 4,
 "nbformat_minor": 2
}
